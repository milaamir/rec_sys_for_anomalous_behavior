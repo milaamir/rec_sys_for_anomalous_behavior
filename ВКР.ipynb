{
  "nbformat": 4,
  "nbformat_minor": 0,
  "metadata": {
    "colab": {
      "provenance": [],
      "mount_file_id": "18eq7JlsZ_4jIZqbfEPCD0fMqfkr2SAjX",
      "authorship_tag": "ABX9TyNff3d4SAlM7L6Qi6Ska0LA",
      "include_colab_link": true
    },
    "kernelspec": {
      "name": "python3",
      "display_name": "Python 3"
    },
    "language_info": {
      "name": "python"
    },
    "widgets": {
      "application/vnd.jupyter.widget-state+json": {
        "f5ff58fd030b44ada7716eab250c6880": {
          "model_module": "@jupyter-widgets/controls",
          "model_name": "HBoxModel",
          "model_module_version": "1.5.0",
          "state": {
            "_dom_classes": [],
            "_model_module": "@jupyter-widgets/controls",
            "_model_module_version": "1.5.0",
            "_model_name": "HBoxModel",
            "_view_count": null,
            "_view_module": "@jupyter-widgets/controls",
            "_view_module_version": "1.5.0",
            "_view_name": "HBoxView",
            "box_style": "",
            "children": [
              "IPY_MODEL_52199208a729440ea5204412812471be",
              "IPY_MODEL_e025caedb7204502b28fb3b15d2c039d",
              "IPY_MODEL_23299c5a42d547279df7ae6ad8fc171f"
            ],
            "layout": "IPY_MODEL_2f6a82c8996e44ba8037b96ce529a175"
          }
        },
        "52199208a729440ea5204412812471be": {
          "model_module": "@jupyter-widgets/controls",
          "model_name": "HTMLModel",
          "model_module_version": "1.5.0",
          "state": {
            "_dom_classes": [],
            "_model_module": "@jupyter-widgets/controls",
            "_model_module_version": "1.5.0",
            "_model_name": "HTMLModel",
            "_view_count": null,
            "_view_module": "@jupyter-widgets/controls",
            "_view_module_version": "1.5.0",
            "_view_name": "HTMLView",
            "description": "",
            "description_tooltip": null,
            "layout": "IPY_MODEL_16364116b0d34100bdf6a36beb9d6424",
            "placeholder": "​",
            "style": "IPY_MODEL_ba39cafa3476472da56159a8f3324908",
            "value": "100%"
          }
        },
        "e025caedb7204502b28fb3b15d2c039d": {
          "model_module": "@jupyter-widgets/controls",
          "model_name": "FloatProgressModel",
          "model_module_version": "1.5.0",
          "state": {
            "_dom_classes": [],
            "_model_module": "@jupyter-widgets/controls",
            "_model_module_version": "1.5.0",
            "_model_name": "FloatProgressModel",
            "_view_count": null,
            "_view_module": "@jupyter-widgets/controls",
            "_view_module_version": "1.5.0",
            "_view_name": "ProgressView",
            "bar_style": "success",
            "description": "",
            "description_tooltip": null,
            "layout": "IPY_MODEL_bc570a7226d84c5e96f527ece89b1310",
            "max": 15,
            "min": 0,
            "orientation": "horizontal",
            "style": "IPY_MODEL_0afcb2e23ca545898c700972252206bf",
            "value": 15
          }
        },
        "23299c5a42d547279df7ae6ad8fc171f": {
          "model_module": "@jupyter-widgets/controls",
          "model_name": "HTMLModel",
          "model_module_version": "1.5.0",
          "state": {
            "_dom_classes": [],
            "_model_module": "@jupyter-widgets/controls",
            "_model_module_version": "1.5.0",
            "_model_name": "HTMLModel",
            "_view_count": null,
            "_view_module": "@jupyter-widgets/controls",
            "_view_module_version": "1.5.0",
            "_view_name": "HTMLView",
            "description": "",
            "description_tooltip": null,
            "layout": "IPY_MODEL_31e1a5d433ee4ef9b4ba259295193c4d",
            "placeholder": "​",
            "style": "IPY_MODEL_713dec75e1df46969938e02343c4d677",
            "value": " 15/15 [00:03&lt;00:00,  4.79it/s]"
          }
        },
        "2f6a82c8996e44ba8037b96ce529a175": {
          "model_module": "@jupyter-widgets/base",
          "model_name": "LayoutModel",
          "model_module_version": "1.2.0",
          "state": {
            "_model_module": "@jupyter-widgets/base",
            "_model_module_version": "1.2.0",
            "_model_name": "LayoutModel",
            "_view_count": null,
            "_view_module": "@jupyter-widgets/base",
            "_view_module_version": "1.2.0",
            "_view_name": "LayoutView",
            "align_content": null,
            "align_items": null,
            "align_self": null,
            "border": null,
            "bottom": null,
            "display": null,
            "flex": null,
            "flex_flow": null,
            "grid_area": null,
            "grid_auto_columns": null,
            "grid_auto_flow": null,
            "grid_auto_rows": null,
            "grid_column": null,
            "grid_gap": null,
            "grid_row": null,
            "grid_template_areas": null,
            "grid_template_columns": null,
            "grid_template_rows": null,
            "height": null,
            "justify_content": null,
            "justify_items": null,
            "left": null,
            "margin": null,
            "max_height": null,
            "max_width": null,
            "min_height": null,
            "min_width": null,
            "object_fit": null,
            "object_position": null,
            "order": null,
            "overflow": null,
            "overflow_x": null,
            "overflow_y": null,
            "padding": null,
            "right": null,
            "top": null,
            "visibility": null,
            "width": null
          }
        },
        "16364116b0d34100bdf6a36beb9d6424": {
          "model_module": "@jupyter-widgets/base",
          "model_name": "LayoutModel",
          "model_module_version": "1.2.0",
          "state": {
            "_model_module": "@jupyter-widgets/base",
            "_model_module_version": "1.2.0",
            "_model_name": "LayoutModel",
            "_view_count": null,
            "_view_module": "@jupyter-widgets/base",
            "_view_module_version": "1.2.0",
            "_view_name": "LayoutView",
            "align_content": null,
            "align_items": null,
            "align_self": null,
            "border": null,
            "bottom": null,
            "display": null,
            "flex": null,
            "flex_flow": null,
            "grid_area": null,
            "grid_auto_columns": null,
            "grid_auto_flow": null,
            "grid_auto_rows": null,
            "grid_column": null,
            "grid_gap": null,
            "grid_row": null,
            "grid_template_areas": null,
            "grid_template_columns": null,
            "grid_template_rows": null,
            "height": null,
            "justify_content": null,
            "justify_items": null,
            "left": null,
            "margin": null,
            "max_height": null,
            "max_width": null,
            "min_height": null,
            "min_width": null,
            "object_fit": null,
            "object_position": null,
            "order": null,
            "overflow": null,
            "overflow_x": null,
            "overflow_y": null,
            "padding": null,
            "right": null,
            "top": null,
            "visibility": null,
            "width": null
          }
        },
        "ba39cafa3476472da56159a8f3324908": {
          "model_module": "@jupyter-widgets/controls",
          "model_name": "DescriptionStyleModel",
          "model_module_version": "1.5.0",
          "state": {
            "_model_module": "@jupyter-widgets/controls",
            "_model_module_version": "1.5.0",
            "_model_name": "DescriptionStyleModel",
            "_view_count": null,
            "_view_module": "@jupyter-widgets/base",
            "_view_module_version": "1.2.0",
            "_view_name": "StyleView",
            "description_width": ""
          }
        },
        "bc570a7226d84c5e96f527ece89b1310": {
          "model_module": "@jupyter-widgets/base",
          "model_name": "LayoutModel",
          "model_module_version": "1.2.0",
          "state": {
            "_model_module": "@jupyter-widgets/base",
            "_model_module_version": "1.2.0",
            "_model_name": "LayoutModel",
            "_view_count": null,
            "_view_module": "@jupyter-widgets/base",
            "_view_module_version": "1.2.0",
            "_view_name": "LayoutView",
            "align_content": null,
            "align_items": null,
            "align_self": null,
            "border": null,
            "bottom": null,
            "display": null,
            "flex": null,
            "flex_flow": null,
            "grid_area": null,
            "grid_auto_columns": null,
            "grid_auto_flow": null,
            "grid_auto_rows": null,
            "grid_column": null,
            "grid_gap": null,
            "grid_row": null,
            "grid_template_areas": null,
            "grid_template_columns": null,
            "grid_template_rows": null,
            "height": null,
            "justify_content": null,
            "justify_items": null,
            "left": null,
            "margin": null,
            "max_height": null,
            "max_width": null,
            "min_height": null,
            "min_width": null,
            "object_fit": null,
            "object_position": null,
            "order": null,
            "overflow": null,
            "overflow_x": null,
            "overflow_y": null,
            "padding": null,
            "right": null,
            "top": null,
            "visibility": null,
            "width": null
          }
        },
        "0afcb2e23ca545898c700972252206bf": {
          "model_module": "@jupyter-widgets/controls",
          "model_name": "ProgressStyleModel",
          "model_module_version": "1.5.0",
          "state": {
            "_model_module": "@jupyter-widgets/controls",
            "_model_module_version": "1.5.0",
            "_model_name": "ProgressStyleModel",
            "_view_count": null,
            "_view_module": "@jupyter-widgets/base",
            "_view_module_version": "1.2.0",
            "_view_name": "StyleView",
            "bar_color": null,
            "description_width": ""
          }
        },
        "31e1a5d433ee4ef9b4ba259295193c4d": {
          "model_module": "@jupyter-widgets/base",
          "model_name": "LayoutModel",
          "model_module_version": "1.2.0",
          "state": {
            "_model_module": "@jupyter-widgets/base",
            "_model_module_version": "1.2.0",
            "_model_name": "LayoutModel",
            "_view_count": null,
            "_view_module": "@jupyter-widgets/base",
            "_view_module_version": "1.2.0",
            "_view_name": "LayoutView",
            "align_content": null,
            "align_items": null,
            "align_self": null,
            "border": null,
            "bottom": null,
            "display": null,
            "flex": null,
            "flex_flow": null,
            "grid_area": null,
            "grid_auto_columns": null,
            "grid_auto_flow": null,
            "grid_auto_rows": null,
            "grid_column": null,
            "grid_gap": null,
            "grid_row": null,
            "grid_template_areas": null,
            "grid_template_columns": null,
            "grid_template_rows": null,
            "height": null,
            "justify_content": null,
            "justify_items": null,
            "left": null,
            "margin": null,
            "max_height": null,
            "max_width": null,
            "min_height": null,
            "min_width": null,
            "object_fit": null,
            "object_position": null,
            "order": null,
            "overflow": null,
            "overflow_x": null,
            "overflow_y": null,
            "padding": null,
            "right": null,
            "top": null,
            "visibility": null,
            "width": null
          }
        },
        "713dec75e1df46969938e02343c4d677": {
          "model_module": "@jupyter-widgets/controls",
          "model_name": "DescriptionStyleModel",
          "model_module_version": "1.5.0",
          "state": {
            "_model_module": "@jupyter-widgets/controls",
            "_model_module_version": "1.5.0",
            "_model_name": "DescriptionStyleModel",
            "_view_count": null,
            "_view_module": "@jupyter-widgets/base",
            "_view_module_version": "1.2.0",
            "_view_name": "StyleView",
            "description_width": ""
          }
        }
      }
    }
  },
  "cells": [
    {
      "cell_type": "markdown",
      "metadata": {
        "id": "view-in-github",
        "colab_type": "text"
      },
      "source": [
        "<a href=\"https://colab.research.google.com/github/milaamir/rec_sys_for_anomalous_behavior/blob/main/%D0%92%D0%9A%D0%A0.ipynb\" target=\"_parent\"><img src=\"https://colab.research.google.com/assets/colab-badge.svg\" alt=\"Open In Colab\"/></a>"
      ]
    },
    {
      "cell_type": "code",
      "source": [
        "!pip install implicit"
      ],
      "metadata": {
        "colab": {
          "base_uri": "https://localhost:8080/"
        },
        "id": "aEUkVCK4VuRW",
        "outputId": "e9fdcabc-727e-4915-aff9-82d3496f8d51"
      },
      "execution_count": null,
      "outputs": [
        {
          "output_type": "stream",
          "name": "stdout",
          "text": [
            "Looking in indexes: https://pypi.org/simple, https://us-python.pkg.dev/colab-wheels/public/simple/\n",
            "Collecting implicit\n",
            "  Downloading implicit-0.7.0-cp310-cp310-manylinux2014_x86_64.whl (9.2 MB)\n",
            "\u001b[2K     \u001b[90m━━━━━━━━━━━━━━━━━━━━━━━━━━━━━━━━━━━━━━━━\u001b[0m \u001b[32m9.2/9.2 MB\u001b[0m \u001b[31m83.3 MB/s\u001b[0m eta \u001b[36m0:00:00\u001b[0m\n",
            "\u001b[?25hRequirement already satisfied: numpy in /usr/local/lib/python3.10/dist-packages (from implicit) (1.22.4)\n",
            "Requirement already satisfied: scipy>=0.16 in /usr/local/lib/python3.10/dist-packages (from implicit) (1.10.1)\n",
            "Requirement already satisfied: tqdm>=4.27 in /usr/local/lib/python3.10/dist-packages (from implicit) (4.65.0)\n",
            "Installing collected packages: implicit\n",
            "Successfully installed implicit-0.7.0\n"
          ]
        }
      ]
    },
    {
      "cell_type": "code",
      "execution_count": null,
      "metadata": {
        "id": "GRLIYS8Nd0lt",
        "colab": {
          "base_uri": "https://localhost:8080/"
        },
        "outputId": "947d2f19-d413-4632-b702-1dd0d1795572"
      },
      "outputs": [
        {
          "output_type": "stream",
          "name": "stderr",
          "text": [
            "/usr/local/lib/python3.10/dist-packages/implicit/gpu/__init__.py:13: UserWarning: CUDA extension is built, but disabling GPU support because of 'Cuda Error: CUDA driver version is insufficient for CUDA runtime version (/project/./implicit/gpu/utils.h:71)'\n",
            "  warnings.warn(\n"
          ]
        }
      ],
      "source": [
        "import pandas as pd\n",
        "from sklearn.preprocessing import OrdinalEncoder\n",
        "import numpy as np\n",
        "import implicit\n",
        "from scipy import sparse\n",
        "import warnings; warnings.simplefilter('ignore')\n",
        "import random\n",
        "from sklearn import metrics\n",
        "from sklearn.preprocessing import Normalizer\n",
        "import pickle"
      ]
    },
    {
      "cell_type": "code",
      "source": [
        "import zipfile\n",
        "import os\n",
        "import time\n",
        "\n",
        "from google.colab import drive"
      ],
      "metadata": {
        "id": "ogwFxTHoXmlT"
      },
      "execution_count": null,
      "outputs": []
    },
    {
      "cell_type": "markdown",
      "source": [],
      "metadata": {
        "id": "wOI-A3wLau0L"
      }
    },
    {
      "cell_type": "code",
      "source": [
        "drive.mount('/content/drive')"
      ],
      "metadata": {
        "colab": {
          "base_uri": "https://localhost:8080/"
        },
        "id": "dafUTN25XmFG",
        "outputId": "2cadba8a-0422-46ce-b9f9-ec65be07c72c"
      },
      "execution_count": null,
      "outputs": [
        {
          "output_type": "stream",
          "name": "stdout",
          "text": [
            "Drive already mounted at /content/drive; to attempt to forcibly remount, call drive.mount(\"/content/drive\", force_remount=True).\n"
          ]
        }
      ]
    },
    {
      "cell_type": "code",
      "source": [
        "zip_file_df = 'drive/MyDrive/VKR/df_12.zip'\n",
        "zip_file_tf = 'drive/MyDrive/VKR/tf_12.zip'\n",
        "zip_file_data = 'drive/MyDrive/VKR/train_12.zip'\n",
        "\n",
        "print(os.listdir())"
      ],
      "metadata": {
        "colab": {
          "base_uri": "https://localhost:8080/"
        },
        "id": "P2MbSe0vZVcI",
        "outputId": "b08108c7-f22e-4777-94d1-7c5fea30240d"
      },
      "execution_count": null,
      "outputs": [
        {
          "output_type": "stream",
          "name": "stdout",
          "text": [
            "['.config', 'drive', 'sample_data']\n"
          ]
        }
      ]
    },
    {
      "cell_type": "code",
      "source": [
        "print(os.listdir(\"drive/MyDrive/VKR\"))"
      ],
      "metadata": {
        "colab": {
          "base_uri": "https://localhost:8080/"
        },
        "id": "1iXkFk5uhKHP",
        "outputId": "b3e7b90f-f07c-4837-85c3-978dd64d5e17"
      },
      "execution_count": null,
      "outputs": [
        {
          "output_type": "stream",
          "name": "stdout",
          "text": [
            "['train_12.csv', 'Untitled0.ipynb', 'tf_12.zip', 'df_12.zip', '6_метрик.ipynb', 'train_12.zip', 'Untitled2.ipynb', 'Untitled1.ipynb', 'Бланк  отзыва.docx', 'ВКР.ipynb']\n"
          ]
        }
      ]
    },
    {
      "cell_type": "code",
      "source": [
        "with zipfile.ZipFile(zip_file_df, 'r') as zip_ref:\n",
        "   zip_ref.extractall()"
      ],
      "metadata": {
        "id": "MzMsPxBOSvxB"
      },
      "execution_count": null,
      "outputs": []
    },
    {
      "cell_type": "code",
      "source": [
        "with zipfile.ZipFile(zip_file_tf, 'r') as zip_ref:\n",
        "   zip_ref.extractall()"
      ],
      "metadata": {
        "id": "9PqenrDGTgYd"
      },
      "execution_count": null,
      "outputs": []
    },
    {
      "cell_type": "code",
      "source": [
        "with zipfile.ZipFile(zip_file_data, 'r') as zip_ref:\n",
        "   zip_ref.extractall()"
      ],
      "metadata": {
        "id": "zDhu5DfG146U"
      },
      "execution_count": null,
      "outputs": []
    },
    {
      "cell_type": "code",
      "source": [
        "data= pd.read_csv('train_12.csv',index_col=0,low_memory=False)\n",
        "data"
      ],
      "metadata": {
        "colab": {
          "base_uri": "https://localhost:8080/",
          "height": 679
        },
        "id": "ahN-WVkM2DFb",
        "outputId": "85e25daa-c789-4733-b6b6-2c168928e9d7"
      },
      "execution_count": null,
      "outputs": [
        {
          "output_type": "execute_result",
          "data": {
            "text/plain": [
              "        object.storage.id                                object.storage.name  \\\n",
              "0              \\\\*\\w3svc1                                 u_ex22030722_x.log   \n",
              "1              \\\\*\\w3svc1                                 u_ex22030723_x.log   \n",
              "2              \\\\*\\w3svc1                                 u_ex22030806_x.log   \n",
              "3              \\\\*\\w3svc1                                 u_ex22030809_x.log   \n",
              "4              \\\\*\\w3svc1                                 u_ex22030810_x.log   \n",
              "...                   ...                                                ...   \n",
              "1919995           \\\\*\\opp                                             акцепт   \n",
              "1919996           \\\\*\\opp  дуд губернатора самарской области и правительства   \n",
              "1919997           \\\\*\\opp                   отгрузка сертификата vm 09.02.22   \n",
              "1919998           \\\\*\\opp                                        гау ит-парк   \n",
              "1919999           \\\\*\\opp                        фку налог-сервис фнс россии   \n",
              "\n",
              "               src.ip                              subject.account.id  \\\n",
              "0        10.10.192.57  S-1-5-21-1023191730-727829927-3985050192-32035   \n",
              "1        10.10.192.57  S-1-5-21-1023191730-727829927-3985050192-32035   \n",
              "2        10.10.192.57  S-1-5-21-1023191730-727829927-3985050192-32035   \n",
              "3        10.10.192.57  S-1-5-21-1023191730-727829927-3985050192-32035   \n",
              "4        10.10.192.57  S-1-5-21-1023191730-727829927-3985050192-32035   \n",
              "...               ...                                             ...   \n",
              "1919995   10.0.102.29  S-1-5-21-1023191730-727829927-3985050192-18835   \n",
              "1919996   10.0.102.29  S-1-5-21-1023191730-727829927-3985050192-18835   \n",
              "1919997   10.0.102.29  S-1-5-21-1023191730-727829927-3985050192-18835   \n",
              "1919998   10.0.102.29  S-1-5-21-1023191730-727829927-3985050192-18835   \n",
              "1919999   10.0.102.29  S-1-5-21-1023191730-727829927-3985050192-18835   \n",
              "\n",
              "        subject.account.domain             event_src.host  \\\n",
              "0                ptsecurity.ru  dc1-mail-03.ptsecurity.ru   \n",
              "1                ptsecurity.ru  dc1-mail-03.ptsecurity.ru   \n",
              "2                ptsecurity.ru  dc1-mail-03.ptsecurity.ru   \n",
              "3                ptsecurity.ru  dc1-mail-03.ptsecurity.ru   \n",
              "4                ptsecurity.ru  dc1-mail-03.ptsecurity.ru   \n",
              "...                        ...                        ...   \n",
              "1919995          ptsecurity.ru    dc2-fs-01.ptsecurity.ru   \n",
              "1919996          ptsecurity.ru    dc2-fs-01.ptsecurity.ru   \n",
              "1919997          ptsecurity.ru    dc2-fs-01.ptsecurity.ru   \n",
              "1919998          ptsecurity.ru    dc2-fs-01.ptsecurity.ru   \n",
              "1919999          ptsecurity.ru    dc2-fs-01.ptsecurity.ru   \n",
              "\n",
              "                                    src.asset datafield6  \\\n",
              "0        165dc53b-cd40-0001-0000-0000000007ee   0x120089   \n",
              "1        165dc53b-cd40-0001-0000-0000000007ee   0x120089   \n",
              "2        165dc53b-cd40-0001-0000-0000000007ee   0x120089   \n",
              "3        165dc53b-cd40-0001-0000-0000000007ee   0x120089   \n",
              "4        165dc53b-cd40-0001-0000-0000000007ee   0x120089   \n",
              "...                                       ...        ...   \n",
              "1919995  1457bbaf-9940-0001-0000-000000001019   0x100081   \n",
              "1919996  1457bbaf-9940-0001-0000-000000001019   0x100081   \n",
              "1919997  1457bbaf-9940-0001-0000-000000001019   0x100081   \n",
              "1919998  1457bbaf-9940-0001-0000-000000001019   0x100081   \n",
              "1919999  1457bbaf-9940-0001-0000-000000001019   0x100081   \n",
              "\n",
              "                              time  \n",
              "0             2022-03-22T00:45:57Z  \n",
              "1             2022-03-22T00:45:57Z  \n",
              "2             2022-03-22T00:45:57Z  \n",
              "3             2022-03-22T00:45:57Z  \n",
              "4             2022-03-22T00:45:57Z  \n",
              "...                            ...  \n",
              "1919995  2022-04-07 14:58:07+00:00  \n",
              "1919996  2022-04-07 14:58:07+00:00  \n",
              "1919997  2022-04-07 14:58:07+00:00  \n",
              "1919998  2022-04-07 14:58:07+00:00  \n",
              "1919999  2022-04-07 14:58:08+00:00  \n",
              "\n",
              "[2904252 rows x 9 columns]"
            ],
            "text/html": [
              "\n",
              "  <div id=\"df-de9cc048-da81-4529-a506-c4c3855de403\">\n",
              "    <div class=\"colab-df-container\">\n",
              "      <div>\n",
              "<style scoped>\n",
              "    .dataframe tbody tr th:only-of-type {\n",
              "        vertical-align: middle;\n",
              "    }\n",
              "\n",
              "    .dataframe tbody tr th {\n",
              "        vertical-align: top;\n",
              "    }\n",
              "\n",
              "    .dataframe thead th {\n",
              "        text-align: right;\n",
              "    }\n",
              "</style>\n",
              "<table border=\"1\" class=\"dataframe\">\n",
              "  <thead>\n",
              "    <tr style=\"text-align: right;\">\n",
              "      <th></th>\n",
              "      <th>object.storage.id</th>\n",
              "      <th>object.storage.name</th>\n",
              "      <th>src.ip</th>\n",
              "      <th>subject.account.id</th>\n",
              "      <th>subject.account.domain</th>\n",
              "      <th>event_src.host</th>\n",
              "      <th>src.asset</th>\n",
              "      <th>datafield6</th>\n",
              "      <th>time</th>\n",
              "    </tr>\n",
              "  </thead>\n",
              "  <tbody>\n",
              "    <tr>\n",
              "      <th>0</th>\n",
              "      <td>\\\\*\\w3svc1</td>\n",
              "      <td>u_ex22030722_x.log</td>\n",
              "      <td>10.10.192.57</td>\n",
              "      <td>S-1-5-21-1023191730-727829927-3985050192-32035</td>\n",
              "      <td>ptsecurity.ru</td>\n",
              "      <td>dc1-mail-03.ptsecurity.ru</td>\n",
              "      <td>165dc53b-cd40-0001-0000-0000000007ee</td>\n",
              "      <td>0x120089</td>\n",
              "      <td>2022-03-22T00:45:57Z</td>\n",
              "    </tr>\n",
              "    <tr>\n",
              "      <th>1</th>\n",
              "      <td>\\\\*\\w3svc1</td>\n",
              "      <td>u_ex22030723_x.log</td>\n",
              "      <td>10.10.192.57</td>\n",
              "      <td>S-1-5-21-1023191730-727829927-3985050192-32035</td>\n",
              "      <td>ptsecurity.ru</td>\n",
              "      <td>dc1-mail-03.ptsecurity.ru</td>\n",
              "      <td>165dc53b-cd40-0001-0000-0000000007ee</td>\n",
              "      <td>0x120089</td>\n",
              "      <td>2022-03-22T00:45:57Z</td>\n",
              "    </tr>\n",
              "    <tr>\n",
              "      <th>2</th>\n",
              "      <td>\\\\*\\w3svc1</td>\n",
              "      <td>u_ex22030806_x.log</td>\n",
              "      <td>10.10.192.57</td>\n",
              "      <td>S-1-5-21-1023191730-727829927-3985050192-32035</td>\n",
              "      <td>ptsecurity.ru</td>\n",
              "      <td>dc1-mail-03.ptsecurity.ru</td>\n",
              "      <td>165dc53b-cd40-0001-0000-0000000007ee</td>\n",
              "      <td>0x120089</td>\n",
              "      <td>2022-03-22T00:45:57Z</td>\n",
              "    </tr>\n",
              "    <tr>\n",
              "      <th>3</th>\n",
              "      <td>\\\\*\\w3svc1</td>\n",
              "      <td>u_ex22030809_x.log</td>\n",
              "      <td>10.10.192.57</td>\n",
              "      <td>S-1-5-21-1023191730-727829927-3985050192-32035</td>\n",
              "      <td>ptsecurity.ru</td>\n",
              "      <td>dc1-mail-03.ptsecurity.ru</td>\n",
              "      <td>165dc53b-cd40-0001-0000-0000000007ee</td>\n",
              "      <td>0x120089</td>\n",
              "      <td>2022-03-22T00:45:57Z</td>\n",
              "    </tr>\n",
              "    <tr>\n",
              "      <th>4</th>\n",
              "      <td>\\\\*\\w3svc1</td>\n",
              "      <td>u_ex22030810_x.log</td>\n",
              "      <td>10.10.192.57</td>\n",
              "      <td>S-1-5-21-1023191730-727829927-3985050192-32035</td>\n",
              "      <td>ptsecurity.ru</td>\n",
              "      <td>dc1-mail-03.ptsecurity.ru</td>\n",
              "      <td>165dc53b-cd40-0001-0000-0000000007ee</td>\n",
              "      <td>0x120089</td>\n",
              "      <td>2022-03-22T00:45:57Z</td>\n",
              "    </tr>\n",
              "    <tr>\n",
              "      <th>...</th>\n",
              "      <td>...</td>\n",
              "      <td>...</td>\n",
              "      <td>...</td>\n",
              "      <td>...</td>\n",
              "      <td>...</td>\n",
              "      <td>...</td>\n",
              "      <td>...</td>\n",
              "      <td>...</td>\n",
              "      <td>...</td>\n",
              "    </tr>\n",
              "    <tr>\n",
              "      <th>1919995</th>\n",
              "      <td>\\\\*\\opp</td>\n",
              "      <td>акцепт</td>\n",
              "      <td>10.0.102.29</td>\n",
              "      <td>S-1-5-21-1023191730-727829927-3985050192-18835</td>\n",
              "      <td>ptsecurity.ru</td>\n",
              "      <td>dc2-fs-01.ptsecurity.ru</td>\n",
              "      <td>1457bbaf-9940-0001-0000-000000001019</td>\n",
              "      <td>0x100081</td>\n",
              "      <td>2022-04-07 14:58:07+00:00</td>\n",
              "    </tr>\n",
              "    <tr>\n",
              "      <th>1919996</th>\n",
              "      <td>\\\\*\\opp</td>\n",
              "      <td>дуд губернатора самарской области и правительства</td>\n",
              "      <td>10.0.102.29</td>\n",
              "      <td>S-1-5-21-1023191730-727829927-3985050192-18835</td>\n",
              "      <td>ptsecurity.ru</td>\n",
              "      <td>dc2-fs-01.ptsecurity.ru</td>\n",
              "      <td>1457bbaf-9940-0001-0000-000000001019</td>\n",
              "      <td>0x100081</td>\n",
              "      <td>2022-04-07 14:58:07+00:00</td>\n",
              "    </tr>\n",
              "    <tr>\n",
              "      <th>1919997</th>\n",
              "      <td>\\\\*\\opp</td>\n",
              "      <td>отгрузка сертификата vm 09.02.22</td>\n",
              "      <td>10.0.102.29</td>\n",
              "      <td>S-1-5-21-1023191730-727829927-3985050192-18835</td>\n",
              "      <td>ptsecurity.ru</td>\n",
              "      <td>dc2-fs-01.ptsecurity.ru</td>\n",
              "      <td>1457bbaf-9940-0001-0000-000000001019</td>\n",
              "      <td>0x100081</td>\n",
              "      <td>2022-04-07 14:58:07+00:00</td>\n",
              "    </tr>\n",
              "    <tr>\n",
              "      <th>1919998</th>\n",
              "      <td>\\\\*\\opp</td>\n",
              "      <td>гау ит-парк</td>\n",
              "      <td>10.0.102.29</td>\n",
              "      <td>S-1-5-21-1023191730-727829927-3985050192-18835</td>\n",
              "      <td>ptsecurity.ru</td>\n",
              "      <td>dc2-fs-01.ptsecurity.ru</td>\n",
              "      <td>1457bbaf-9940-0001-0000-000000001019</td>\n",
              "      <td>0x100081</td>\n",
              "      <td>2022-04-07 14:58:07+00:00</td>\n",
              "    </tr>\n",
              "    <tr>\n",
              "      <th>1919999</th>\n",
              "      <td>\\\\*\\opp</td>\n",
              "      <td>фку налог-сервис фнс россии</td>\n",
              "      <td>10.0.102.29</td>\n",
              "      <td>S-1-5-21-1023191730-727829927-3985050192-18835</td>\n",
              "      <td>ptsecurity.ru</td>\n",
              "      <td>dc2-fs-01.ptsecurity.ru</td>\n",
              "      <td>1457bbaf-9940-0001-0000-000000001019</td>\n",
              "      <td>0x100081</td>\n",
              "      <td>2022-04-07 14:58:08+00:00</td>\n",
              "    </tr>\n",
              "  </tbody>\n",
              "</table>\n",
              "<p>2904252 rows × 9 columns</p>\n",
              "</div>\n",
              "      <button class=\"colab-df-convert\" onclick=\"convertToInteractive('df-de9cc048-da81-4529-a506-c4c3855de403')\"\n",
              "              title=\"Convert this dataframe to an interactive table.\"\n",
              "              style=\"display:none;\">\n",
              "        \n",
              "  <svg xmlns=\"http://www.w3.org/2000/svg\" height=\"24px\"viewBox=\"0 0 24 24\"\n",
              "       width=\"24px\">\n",
              "    <path d=\"M0 0h24v24H0V0z\" fill=\"none\"/>\n",
              "    <path d=\"M18.56 5.44l.94 2.06.94-2.06 2.06-.94-2.06-.94-.94-2.06-.94 2.06-2.06.94zm-11 1L8.5 8.5l.94-2.06 2.06-.94-2.06-.94L8.5 2.5l-.94 2.06-2.06.94zm10 10l.94 2.06.94-2.06 2.06-.94-2.06-.94-.94-2.06-.94 2.06-2.06.94z\"/><path d=\"M17.41 7.96l-1.37-1.37c-.4-.4-.92-.59-1.43-.59-.52 0-1.04.2-1.43.59L10.3 9.45l-7.72 7.72c-.78.78-.78 2.05 0 2.83L4 21.41c.39.39.9.59 1.41.59.51 0 1.02-.2 1.41-.59l7.78-7.78 2.81-2.81c.8-.78.8-2.07 0-2.86zM5.41 20L4 18.59l7.72-7.72 1.47 1.35L5.41 20z\"/>\n",
              "  </svg>\n",
              "      </button>\n",
              "      \n",
              "  <style>\n",
              "    .colab-df-container {\n",
              "      display:flex;\n",
              "      flex-wrap:wrap;\n",
              "      gap: 12px;\n",
              "    }\n",
              "\n",
              "    .colab-df-convert {\n",
              "      background-color: #E8F0FE;\n",
              "      border: none;\n",
              "      border-radius: 50%;\n",
              "      cursor: pointer;\n",
              "      display: none;\n",
              "      fill: #1967D2;\n",
              "      height: 32px;\n",
              "      padding: 0 0 0 0;\n",
              "      width: 32px;\n",
              "    }\n",
              "\n",
              "    .colab-df-convert:hover {\n",
              "      background-color: #E2EBFA;\n",
              "      box-shadow: 0px 1px 2px rgba(60, 64, 67, 0.3), 0px 1px 3px 1px rgba(60, 64, 67, 0.15);\n",
              "      fill: #174EA6;\n",
              "    }\n",
              "\n",
              "    [theme=dark] .colab-df-convert {\n",
              "      background-color: #3B4455;\n",
              "      fill: #D2E3FC;\n",
              "    }\n",
              "\n",
              "    [theme=dark] .colab-df-convert:hover {\n",
              "      background-color: #434B5C;\n",
              "      box-shadow: 0px 1px 3px 1px rgba(0, 0, 0, 0.15);\n",
              "      filter: drop-shadow(0px 1px 2px rgba(0, 0, 0, 0.3));\n",
              "      fill: #FFFFFF;\n",
              "    }\n",
              "  </style>\n",
              "\n",
              "      <script>\n",
              "        const buttonEl =\n",
              "          document.querySelector('#df-de9cc048-da81-4529-a506-c4c3855de403 button.colab-df-convert');\n",
              "        buttonEl.style.display =\n",
              "          google.colab.kernel.accessAllowed ? 'block' : 'none';\n",
              "\n",
              "        async function convertToInteractive(key) {\n",
              "          const element = document.querySelector('#df-de9cc048-da81-4529-a506-c4c3855de403');\n",
              "          const dataTable =\n",
              "            await google.colab.kernel.invokeFunction('convertToInteractive',\n",
              "                                                     [key], {});\n",
              "          if (!dataTable) return;\n",
              "\n",
              "          const docLinkHtml = 'Like what you see? Visit the ' +\n",
              "            '<a target=\"_blank\" href=https://colab.research.google.com/notebooks/data_table.ipynb>data table notebook</a>'\n",
              "            + ' to learn more about interactive tables.';\n",
              "          element.innerHTML = '';\n",
              "          dataTable['output_type'] = 'display_data';\n",
              "          await google.colab.output.renderOutput(dataTable, element);\n",
              "          const docLink = document.createElement('div');\n",
              "          docLink.innerHTML = docLinkHtml;\n",
              "          element.appendChild(docLink);\n",
              "        }\n",
              "      </script>\n",
              "    </div>\n",
              "  </div>\n",
              "  "
            ]
          },
          "metadata": {},
          "execution_count": 122
        }
      ]
    },
    {
      "cell_type": "code",
      "source": [
        "data['time'] = pd.to_datetime(data['time'])\n",
        "data[\"dp\"] = pd.to_datetime(data['time'],unit='s').apply(lambda x: \"Day\" if x.hour >= 10 and x.hour <= 18 else 'Morning'  if x.hour>=6 and x.hour<=10 else 'Evening'  if x.hour>=18 and x.hour<=22 else \"Night\")\n",
        "data=data.drop(columns=['time'])\n",
        "data"
      ],
      "metadata": {
        "colab": {
          "base_uri": "https://localhost:8080/",
          "height": 679
        },
        "id": "6V8PtNTkbW3j",
        "outputId": "1eccaaf9-48d2-4036-9859-3ccb8392739b"
      },
      "execution_count": null,
      "outputs": [
        {
          "output_type": "execute_result",
          "data": {
            "text/plain": [
              "        object.storage.id                                object.storage.name  \\\n",
              "0              \\\\*\\w3svc1                                 u_ex22030722_x.log   \n",
              "1              \\\\*\\w3svc1                                 u_ex22030723_x.log   \n",
              "2              \\\\*\\w3svc1                                 u_ex22030806_x.log   \n",
              "3              \\\\*\\w3svc1                                 u_ex22030809_x.log   \n",
              "4              \\\\*\\w3svc1                                 u_ex22030810_x.log   \n",
              "...                   ...                                                ...   \n",
              "1919995           \\\\*\\opp                                             акцепт   \n",
              "1919996           \\\\*\\opp  дуд губернатора самарской области и правительства   \n",
              "1919997           \\\\*\\opp                   отгрузка сертификата vm 09.02.22   \n",
              "1919998           \\\\*\\opp                                        гау ит-парк   \n",
              "1919999           \\\\*\\opp                        фку налог-сервис фнс россии   \n",
              "\n",
              "               src.ip                              subject.account.id  \\\n",
              "0        10.10.192.57  S-1-5-21-1023191730-727829927-3985050192-32035   \n",
              "1        10.10.192.57  S-1-5-21-1023191730-727829927-3985050192-32035   \n",
              "2        10.10.192.57  S-1-5-21-1023191730-727829927-3985050192-32035   \n",
              "3        10.10.192.57  S-1-5-21-1023191730-727829927-3985050192-32035   \n",
              "4        10.10.192.57  S-1-5-21-1023191730-727829927-3985050192-32035   \n",
              "...               ...                                             ...   \n",
              "1919995   10.0.102.29  S-1-5-21-1023191730-727829927-3985050192-18835   \n",
              "1919996   10.0.102.29  S-1-5-21-1023191730-727829927-3985050192-18835   \n",
              "1919997   10.0.102.29  S-1-5-21-1023191730-727829927-3985050192-18835   \n",
              "1919998   10.0.102.29  S-1-5-21-1023191730-727829927-3985050192-18835   \n",
              "1919999   10.0.102.29  S-1-5-21-1023191730-727829927-3985050192-18835   \n",
              "\n",
              "        subject.account.domain             event_src.host  \\\n",
              "0                ptsecurity.ru  dc1-mail-03.ptsecurity.ru   \n",
              "1                ptsecurity.ru  dc1-mail-03.ptsecurity.ru   \n",
              "2                ptsecurity.ru  dc1-mail-03.ptsecurity.ru   \n",
              "3                ptsecurity.ru  dc1-mail-03.ptsecurity.ru   \n",
              "4                ptsecurity.ru  dc1-mail-03.ptsecurity.ru   \n",
              "...                        ...                        ...   \n",
              "1919995          ptsecurity.ru    dc2-fs-01.ptsecurity.ru   \n",
              "1919996          ptsecurity.ru    dc2-fs-01.ptsecurity.ru   \n",
              "1919997          ptsecurity.ru    dc2-fs-01.ptsecurity.ru   \n",
              "1919998          ptsecurity.ru    dc2-fs-01.ptsecurity.ru   \n",
              "1919999          ptsecurity.ru    dc2-fs-01.ptsecurity.ru   \n",
              "\n",
              "                                    src.asset datafield6     dp  \n",
              "0        165dc53b-cd40-0001-0000-0000000007ee   0x120089  Night  \n",
              "1        165dc53b-cd40-0001-0000-0000000007ee   0x120089  Night  \n",
              "2        165dc53b-cd40-0001-0000-0000000007ee   0x120089  Night  \n",
              "3        165dc53b-cd40-0001-0000-0000000007ee   0x120089  Night  \n",
              "4        165dc53b-cd40-0001-0000-0000000007ee   0x120089  Night  \n",
              "...                                       ...        ...    ...  \n",
              "1919995  1457bbaf-9940-0001-0000-000000001019   0x100081    Day  \n",
              "1919996  1457bbaf-9940-0001-0000-000000001019   0x100081    Day  \n",
              "1919997  1457bbaf-9940-0001-0000-000000001019   0x100081    Day  \n",
              "1919998  1457bbaf-9940-0001-0000-000000001019   0x100081    Day  \n",
              "1919999  1457bbaf-9940-0001-0000-000000001019   0x100081    Day  \n",
              "\n",
              "[2904252 rows x 9 columns]"
            ],
            "text/html": [
              "\n",
              "  <div id=\"df-cb90328e-9dee-4521-9cdf-85be7ad4d66e\">\n",
              "    <div class=\"colab-df-container\">\n",
              "      <div>\n",
              "<style scoped>\n",
              "    .dataframe tbody tr th:only-of-type {\n",
              "        vertical-align: middle;\n",
              "    }\n",
              "\n",
              "    .dataframe tbody tr th {\n",
              "        vertical-align: top;\n",
              "    }\n",
              "\n",
              "    .dataframe thead th {\n",
              "        text-align: right;\n",
              "    }\n",
              "</style>\n",
              "<table border=\"1\" class=\"dataframe\">\n",
              "  <thead>\n",
              "    <tr style=\"text-align: right;\">\n",
              "      <th></th>\n",
              "      <th>object.storage.id</th>\n",
              "      <th>object.storage.name</th>\n",
              "      <th>src.ip</th>\n",
              "      <th>subject.account.id</th>\n",
              "      <th>subject.account.domain</th>\n",
              "      <th>event_src.host</th>\n",
              "      <th>src.asset</th>\n",
              "      <th>datafield6</th>\n",
              "      <th>dp</th>\n",
              "    </tr>\n",
              "  </thead>\n",
              "  <tbody>\n",
              "    <tr>\n",
              "      <th>0</th>\n",
              "      <td>\\\\*\\w3svc1</td>\n",
              "      <td>u_ex22030722_x.log</td>\n",
              "      <td>10.10.192.57</td>\n",
              "      <td>S-1-5-21-1023191730-727829927-3985050192-32035</td>\n",
              "      <td>ptsecurity.ru</td>\n",
              "      <td>dc1-mail-03.ptsecurity.ru</td>\n",
              "      <td>165dc53b-cd40-0001-0000-0000000007ee</td>\n",
              "      <td>0x120089</td>\n",
              "      <td>Night</td>\n",
              "    </tr>\n",
              "    <tr>\n",
              "      <th>1</th>\n",
              "      <td>\\\\*\\w3svc1</td>\n",
              "      <td>u_ex22030723_x.log</td>\n",
              "      <td>10.10.192.57</td>\n",
              "      <td>S-1-5-21-1023191730-727829927-3985050192-32035</td>\n",
              "      <td>ptsecurity.ru</td>\n",
              "      <td>dc1-mail-03.ptsecurity.ru</td>\n",
              "      <td>165dc53b-cd40-0001-0000-0000000007ee</td>\n",
              "      <td>0x120089</td>\n",
              "      <td>Night</td>\n",
              "    </tr>\n",
              "    <tr>\n",
              "      <th>2</th>\n",
              "      <td>\\\\*\\w3svc1</td>\n",
              "      <td>u_ex22030806_x.log</td>\n",
              "      <td>10.10.192.57</td>\n",
              "      <td>S-1-5-21-1023191730-727829927-3985050192-32035</td>\n",
              "      <td>ptsecurity.ru</td>\n",
              "      <td>dc1-mail-03.ptsecurity.ru</td>\n",
              "      <td>165dc53b-cd40-0001-0000-0000000007ee</td>\n",
              "      <td>0x120089</td>\n",
              "      <td>Night</td>\n",
              "    </tr>\n",
              "    <tr>\n",
              "      <th>3</th>\n",
              "      <td>\\\\*\\w3svc1</td>\n",
              "      <td>u_ex22030809_x.log</td>\n",
              "      <td>10.10.192.57</td>\n",
              "      <td>S-1-5-21-1023191730-727829927-3985050192-32035</td>\n",
              "      <td>ptsecurity.ru</td>\n",
              "      <td>dc1-mail-03.ptsecurity.ru</td>\n",
              "      <td>165dc53b-cd40-0001-0000-0000000007ee</td>\n",
              "      <td>0x120089</td>\n",
              "      <td>Night</td>\n",
              "    </tr>\n",
              "    <tr>\n",
              "      <th>4</th>\n",
              "      <td>\\\\*\\w3svc1</td>\n",
              "      <td>u_ex22030810_x.log</td>\n",
              "      <td>10.10.192.57</td>\n",
              "      <td>S-1-5-21-1023191730-727829927-3985050192-32035</td>\n",
              "      <td>ptsecurity.ru</td>\n",
              "      <td>dc1-mail-03.ptsecurity.ru</td>\n",
              "      <td>165dc53b-cd40-0001-0000-0000000007ee</td>\n",
              "      <td>0x120089</td>\n",
              "      <td>Night</td>\n",
              "    </tr>\n",
              "    <tr>\n",
              "      <th>...</th>\n",
              "      <td>...</td>\n",
              "      <td>...</td>\n",
              "      <td>...</td>\n",
              "      <td>...</td>\n",
              "      <td>...</td>\n",
              "      <td>...</td>\n",
              "      <td>...</td>\n",
              "      <td>...</td>\n",
              "      <td>...</td>\n",
              "    </tr>\n",
              "    <tr>\n",
              "      <th>1919995</th>\n",
              "      <td>\\\\*\\opp</td>\n",
              "      <td>акцепт</td>\n",
              "      <td>10.0.102.29</td>\n",
              "      <td>S-1-5-21-1023191730-727829927-3985050192-18835</td>\n",
              "      <td>ptsecurity.ru</td>\n",
              "      <td>dc2-fs-01.ptsecurity.ru</td>\n",
              "      <td>1457bbaf-9940-0001-0000-000000001019</td>\n",
              "      <td>0x100081</td>\n",
              "      <td>Day</td>\n",
              "    </tr>\n",
              "    <tr>\n",
              "      <th>1919996</th>\n",
              "      <td>\\\\*\\opp</td>\n",
              "      <td>дуд губернатора самарской области и правительства</td>\n",
              "      <td>10.0.102.29</td>\n",
              "      <td>S-1-5-21-1023191730-727829927-3985050192-18835</td>\n",
              "      <td>ptsecurity.ru</td>\n",
              "      <td>dc2-fs-01.ptsecurity.ru</td>\n",
              "      <td>1457bbaf-9940-0001-0000-000000001019</td>\n",
              "      <td>0x100081</td>\n",
              "      <td>Day</td>\n",
              "    </tr>\n",
              "    <tr>\n",
              "      <th>1919997</th>\n",
              "      <td>\\\\*\\opp</td>\n",
              "      <td>отгрузка сертификата vm 09.02.22</td>\n",
              "      <td>10.0.102.29</td>\n",
              "      <td>S-1-5-21-1023191730-727829927-3985050192-18835</td>\n",
              "      <td>ptsecurity.ru</td>\n",
              "      <td>dc2-fs-01.ptsecurity.ru</td>\n",
              "      <td>1457bbaf-9940-0001-0000-000000001019</td>\n",
              "      <td>0x100081</td>\n",
              "      <td>Day</td>\n",
              "    </tr>\n",
              "    <tr>\n",
              "      <th>1919998</th>\n",
              "      <td>\\\\*\\opp</td>\n",
              "      <td>гау ит-парк</td>\n",
              "      <td>10.0.102.29</td>\n",
              "      <td>S-1-5-21-1023191730-727829927-3985050192-18835</td>\n",
              "      <td>ptsecurity.ru</td>\n",
              "      <td>dc2-fs-01.ptsecurity.ru</td>\n",
              "      <td>1457bbaf-9940-0001-0000-000000001019</td>\n",
              "      <td>0x100081</td>\n",
              "      <td>Day</td>\n",
              "    </tr>\n",
              "    <tr>\n",
              "      <th>1919999</th>\n",
              "      <td>\\\\*\\opp</td>\n",
              "      <td>фку налог-сервис фнс россии</td>\n",
              "      <td>10.0.102.29</td>\n",
              "      <td>S-1-5-21-1023191730-727829927-3985050192-18835</td>\n",
              "      <td>ptsecurity.ru</td>\n",
              "      <td>dc2-fs-01.ptsecurity.ru</td>\n",
              "      <td>1457bbaf-9940-0001-0000-000000001019</td>\n",
              "      <td>0x100081</td>\n",
              "      <td>Day</td>\n",
              "    </tr>\n",
              "  </tbody>\n",
              "</table>\n",
              "<p>2904252 rows × 9 columns</p>\n",
              "</div>\n",
              "      <button class=\"colab-df-convert\" onclick=\"convertToInteractive('df-cb90328e-9dee-4521-9cdf-85be7ad4d66e')\"\n",
              "              title=\"Convert this dataframe to an interactive table.\"\n",
              "              style=\"display:none;\">\n",
              "        \n",
              "  <svg xmlns=\"http://www.w3.org/2000/svg\" height=\"24px\"viewBox=\"0 0 24 24\"\n",
              "       width=\"24px\">\n",
              "    <path d=\"M0 0h24v24H0V0z\" fill=\"none\"/>\n",
              "    <path d=\"M18.56 5.44l.94 2.06.94-2.06 2.06-.94-2.06-.94-.94-2.06-.94 2.06-2.06.94zm-11 1L8.5 8.5l.94-2.06 2.06-.94-2.06-.94L8.5 2.5l-.94 2.06-2.06.94zm10 10l.94 2.06.94-2.06 2.06-.94-2.06-.94-.94-2.06-.94 2.06-2.06.94z\"/><path d=\"M17.41 7.96l-1.37-1.37c-.4-.4-.92-.59-1.43-.59-.52 0-1.04.2-1.43.59L10.3 9.45l-7.72 7.72c-.78.78-.78 2.05 0 2.83L4 21.41c.39.39.9.59 1.41.59.51 0 1.02-.2 1.41-.59l7.78-7.78 2.81-2.81c.8-.78.8-2.07 0-2.86zM5.41 20L4 18.59l7.72-7.72 1.47 1.35L5.41 20z\"/>\n",
              "  </svg>\n",
              "      </button>\n",
              "      \n",
              "  <style>\n",
              "    .colab-df-container {\n",
              "      display:flex;\n",
              "      flex-wrap:wrap;\n",
              "      gap: 12px;\n",
              "    }\n",
              "\n",
              "    .colab-df-convert {\n",
              "      background-color: #E8F0FE;\n",
              "      border: none;\n",
              "      border-radius: 50%;\n",
              "      cursor: pointer;\n",
              "      display: none;\n",
              "      fill: #1967D2;\n",
              "      height: 32px;\n",
              "      padding: 0 0 0 0;\n",
              "      width: 32px;\n",
              "    }\n",
              "\n",
              "    .colab-df-convert:hover {\n",
              "      background-color: #E2EBFA;\n",
              "      box-shadow: 0px 1px 2px rgba(60, 64, 67, 0.3), 0px 1px 3px 1px rgba(60, 64, 67, 0.15);\n",
              "      fill: #174EA6;\n",
              "    }\n",
              "\n",
              "    [theme=dark] .colab-df-convert {\n",
              "      background-color: #3B4455;\n",
              "      fill: #D2E3FC;\n",
              "    }\n",
              "\n",
              "    [theme=dark] .colab-df-convert:hover {\n",
              "      background-color: #434B5C;\n",
              "      box-shadow: 0px 1px 3px 1px rgba(0, 0, 0, 0.15);\n",
              "      filter: drop-shadow(0px 1px 2px rgba(0, 0, 0, 0.3));\n",
              "      fill: #FFFFFF;\n",
              "    }\n",
              "  </style>\n",
              "\n",
              "      <script>\n",
              "        const buttonEl =\n",
              "          document.querySelector('#df-cb90328e-9dee-4521-9cdf-85be7ad4d66e button.colab-df-convert');\n",
              "        buttonEl.style.display =\n",
              "          google.colab.kernel.accessAllowed ? 'block' : 'none';\n",
              "\n",
              "        async function convertToInteractive(key) {\n",
              "          const element = document.querySelector('#df-cb90328e-9dee-4521-9cdf-85be7ad4d66e');\n",
              "          const dataTable =\n",
              "            await google.colab.kernel.invokeFunction('convertToInteractive',\n",
              "                                                     [key], {});\n",
              "          if (!dataTable) return;\n",
              "\n",
              "          const docLinkHtml = 'Like what you see? Visit the ' +\n",
              "            '<a target=\"_blank\" href=https://colab.research.google.com/notebooks/data_table.ipynb>data table notebook</a>'\n",
              "            + ' to learn more about interactive tables.';\n",
              "          element.innerHTML = '';\n",
              "          dataTable['output_type'] = 'display_data';\n",
              "          await google.colab.output.renderOutput(dataTable, element);\n",
              "          const docLink = document.createElement('div');\n",
              "          docLink.innerHTML = docLinkHtml;\n",
              "          element.appendChild(docLink);\n",
              "        }\n",
              "      </script>\n",
              "    </div>\n",
              "  </div>\n",
              "  "
            ]
          },
          "metadata": {},
          "execution_count": 123
        }
      ]
    },
    {
      "cell_type": "code",
      "source": [
        "import plotly.express as px"
      ],
      "metadata": {
        "id": "hA_8UlE7hj2P"
      },
      "execution_count": null,
      "outputs": []
    },
    {
      "cell_type": "code",
      "source": [
        "data['dp'].value_counts()"
      ],
      "metadata": {
        "id": "vNCNKs14cQhN",
        "colab": {
          "base_uri": "https://localhost:8080/"
        },
        "outputId": "a4645d06-e332-4a7c-c20e-a4fa330419e7"
      },
      "execution_count": null,
      "outputs": [
        {
          "output_type": "execute_result",
          "data": {
            "text/plain": [
              "Day        1919984\n",
              "Night       982109\n",
              "Morning       2159\n",
              "Name: dp, dtype: int64"
            ]
          },
          "metadata": {},
          "execution_count": 14
        }
      ]
    },
    {
      "cell_type": "code",
      "source": [
        "timess = data['dp'].value_counts().head(50)\n",
        "\n",
        "timess.plot.bar()"
      ],
      "metadata": {
        "colab": {
          "base_uri": "https://localhost:8080/",
          "height": 504
        },
        "id": "f-8tYk1JUneM",
        "outputId": "54364961-595a-461a-d0ee-b2fc3d711d7a"
      },
      "execution_count": null,
      "outputs": [
        {
          "output_type": "execute_result",
          "data": {
            "text/plain": [
              "<Axes: >"
            ]
          },
          "metadata": {},
          "execution_count": 15
        },
        {
          "output_type": "display_data",
          "data": {
            "text/plain": [
              "<Figure size 640x480 with 1 Axes>"
            ],
            "image/png": "[encoded data removed]"
          },
          "metadata": {}
        }
      ]
    },
    {
      "cell_type": "code",
      "source": [
        "len(data['subject.account.id'].unique ())"
      ],
      "metadata": {
        "id": "BFVIzlNX4gH9",
        "colab": {
          "base_uri": "https://localhost:8080/"
        },
        "outputId": "60323236-d8cc-4651-f1fb-477853f93813"
      },
      "execution_count": null,
      "outputs": [
        {
          "output_type": "execute_result",
          "data": {
            "text/plain": [
              "1506"
            ]
          },
          "metadata": {},
          "execution_count": 16
        }
      ]
    },
    {
      "cell_type": "code",
      "source": [
        "len(data['src.asset'].unique())"
      ],
      "metadata": {
        "colab": {
          "base_uri": "https://localhost:8080/"
        },
        "id": "cAd4Zp1J54Tx",
        "outputId": "932fb8fa-b121-465f-a0bf-3df95c85b5fa"
      },
      "execution_count": null,
      "outputs": [
        {
          "output_type": "execute_result",
          "data": {
            "text/plain": [
              "1235"
            ]
          },
          "metadata": {},
          "execution_count": 17
        }
      ]
    },
    {
      "cell_type": "code",
      "source": [
        "df1= pd.read_csv('df_12.csv',index_col=0,low_memory=False)\n",
        "df1"
      ],
      "metadata": {
        "colab": {
          "base_uri": "https://localhost:8080/",
          "height": 727
        },
        "id": "vM0CuxOVf2d9",
        "outputId": "ebb5f747-16c3-4528-b876-fbb4eaf86f5a"
      },
      "execution_count": null,
      "outputs": [
        {
          "output_type": "execute_result",
          "data": {
            "text/plain": [
              "           object.storage.id                            object.storage.name  \\\n",
              "Unnamed: 0                                                                    \n",
              "117781                   NaN                                            NaN   \n",
              "90057              \\\\*\\imap4                        imap4be2022040410-1.log   \n",
              "76079                    NaN                                            NaN   \n",
              "1864275           \\\\*\\w3svc1                               u_ex220309_x.log   \n",
              "99438             \\\\*\\W3SVC1                             u_ex22031017_x.log   \n",
              "...                      ...                                            ...   \n",
              "708481             \\\\*\\imap4                        imap4be2022040709-1.log   \n",
              "1372073            \\\\*\\imap4                          imap42022032514-1.log   \n",
              "1244827              \\\\*\\opp                                          цебит   \n",
              "1784055              \\\\*\\opp  отгрузка от 07.04.2022 (продление mp8 №13716)   \n",
              "1234853           \\\\*\\w3svc1                             u_ex22040410_x.log   \n",
              "\n",
              "                  src.ip                              subject.account.id  \\\n",
              "Unnamed: 0                                                                 \n",
              "117781      10.10.52.126  S-1-5-21-1023191730-727829927-3985050192-40269   \n",
              "90057       10.10.192.57  S-1-5-21-1023191730-727829927-3985050192-32035   \n",
              "76079                NaN  S-1-5-21-1023191730-727829927-3985050192-32023   \n",
              "1864275     10.10.192.57  S-1-5-21-1023191730-727829927-3985050192-32035   \n",
              "99438       10.10.192.57  S-1-5-21-1023191730-727829927-3985050192-32035   \n",
              "...                  ...                                             ...   \n",
              "708481      10.10.192.57  S-1-5-21-1023191730-727829927-3985050192-32035   \n",
              "1372073     10.10.192.57  S-1-5-21-1023191730-727829927-3985050192-32035   \n",
              "1244827      10.0.102.29  S-1-5-21-1023191730-727829927-3985050192-18835   \n",
              "1784055     10.0.102.168  S-1-5-21-1023191730-727829927-3985050192-40453   \n",
              "1234853     10.10.192.57  S-1-5-21-1023191730-727829927-3985050192-32035   \n",
              "\n",
              "           subject.account.domain                     event_src.host  \\\n",
              "Unnamed: 0                                                             \n",
              "117781              ptsecurity.ru  dc1-tfs-at-01.build.ptsecurity.ru   \n",
              "90057               ptsecurity.ru          dc1-mail-02.ptsecurity.ru   \n",
              "76079               ptsecurity.ru      dc2-bkp-mgmt-01.ptsecurity.ru   \n",
              "1864275             ptsecurity.ru           dc1-spw-02.ptsecurity.ru   \n",
              "99438               ptsecurity.ru          dc1-mail-01.ptsecurity.ru   \n",
              "...                           ...                                ...   \n",
              "708481              ptsecurity.ru          dc1-mail-02.ptsecurity.ru   \n",
              "1372073             ptsecurity.ru          dc1-mail-02.ptsecurity.ru   \n",
              "1244827             ptsecurity.ru            dc2-fs-01.ptsecurity.ru   \n",
              "1784055             ptsecurity.ru            dc2-fs-01.ptsecurity.ru   \n",
              "1234853             ptsecurity.ru          dc1-mail-01.ptsecurity.ru   \n",
              "\n",
              "                                       src.asset      datafield6  \\\n",
              "Unnamed: 0                                                         \n",
              "117781      1452d867-9840-0001-0000-00000000069b         Network   \n",
              "90057       165dc53b-cd40-0001-0000-0000000007ee            0x80   \n",
              "76079                                        NaN  NewCredentials   \n",
              "1864275     165dc53b-cd40-0001-0000-0000000007ee            0x80   \n",
              "99438       165dc53b-cd40-0001-0000-0000000007ee        0x120089   \n",
              "...                                          ...             ...   \n",
              "708481      165dc53b-cd40-0001-0000-0000000007ee            0x80   \n",
              "1372073     165dc53b-cd40-0001-0000-0000000007ee            0x80   \n",
              "1244827     1457bbaf-9940-0001-0000-000000001019        0x100081   \n",
              "1784055     14f070b5-de40-0001-0000-0000000000bd            0x80   \n",
              "1234853     165dc53b-cd40-0001-0000-0000000007ee        0x120089   \n",
              "\n",
              "                                 time  \n",
              "Unnamed: 0                             \n",
              "117781           2022-03-16T04:31:04Z  \n",
              "90057       2022-04-07 12:24:40+00:00  \n",
              "76079            2022-03-16T02:58:16Z  \n",
              "1864275     2022-04-07 14:10:00+00:00  \n",
              "99438            2022-03-18T00:32:37Z  \n",
              "...                               ...  \n",
              "708481      2022-04-07 12:09:08+00:00  \n",
              "1372073     2022-04-07 14:27:11+00:00  \n",
              "1244827     2022-04-07 14:55:54+00:00  \n",
              "1784055     2022-04-07 13:41:19+00:00  \n",
              "1234853     2022-04-07 14:51:20+00:00  \n",
              "\n",
              "[2323401 rows x 9 columns]"
            ],
            "text/html": [
              "\n",
              "  <div id=\"df-a4168d73-5814-4991-8034-0676e71d9ddd\">\n",
              "    <div class=\"colab-df-container\">\n",
              "      <div>\n",
              "<style scoped>\n",
              "    .dataframe tbody tr th:only-of-type {\n",
              "        vertical-align: middle;\n",
              "    }\n",
              "\n",
              "    .dataframe tbody tr th {\n",
              "        vertical-align: top;\n",
              "    }\n",
              "\n",
              "    .dataframe thead th {\n",
              "        text-align: right;\n",
              "    }\n",
              "</style>\n",
              "<table border=\"1\" class=\"dataframe\">\n",
              "  <thead>\n",
              "    <tr style=\"text-align: right;\">\n",
              "      <th></th>\n",
              "      <th>object.storage.id</th>\n",
              "      <th>object.storage.name</th>\n",
              "      <th>src.ip</th>\n",
              "      <th>subject.account.id</th>\n",
              "      <th>subject.account.domain</th>\n",
              "      <th>event_src.host</th>\n",
              "      <th>src.asset</th>\n",
              "      <th>datafield6</th>\n",
              "      <th>time</th>\n",
              "    </tr>\n",
              "    <tr>\n",
              "      <th>Unnamed: 0</th>\n",
              "      <th></th>\n",
              "      <th></th>\n",
              "      <th></th>\n",
              "      <th></th>\n",
              "      <th></th>\n",
              "      <th></th>\n",
              "      <th></th>\n",
              "      <th></th>\n",
              "      <th></th>\n",
              "    </tr>\n",
              "  </thead>\n",
              "  <tbody>\n",
              "    <tr>\n",
              "      <th>117781</th>\n",
              "      <td>NaN</td>\n",
              "      <td>NaN</td>\n",
              "      <td>10.10.52.126</td>\n",
              "      <td>S-1-5-21-1023191730-727829927-3985050192-40269</td>\n",
              "      <td>ptsecurity.ru</td>\n",
              "      <td>dc1-tfs-at-01.build.ptsecurity.ru</td>\n",
              "      <td>1452d867-9840-0001-0000-00000000069b</td>\n",
              "      <td>Network</td>\n",
              "      <td>2022-03-16T04:31:04Z</td>\n",
              "    </tr>\n",
              "    <tr>\n",
              "      <th>90057</th>\n",
              "      <td>\\\\*\\imap4</td>\n",
              "      <td>imap4be2022040410-1.log</td>\n",
              "      <td>10.10.192.57</td>\n",
              "      <td>S-1-5-21-1023191730-727829927-3985050192-32035</td>\n",
              "      <td>ptsecurity.ru</td>\n",
              "      <td>dc1-mail-02.ptsecurity.ru</td>\n",
              "      <td>165dc53b-cd40-0001-0000-0000000007ee</td>\n",
              "      <td>0x80</td>\n",
              "      <td>2022-04-07 12:24:40+00:00</td>\n",
              "    </tr>\n",
              "    <tr>\n",
              "      <th>76079</th>\n",
              "      <td>NaN</td>\n",
              "      <td>NaN</td>\n",
              "      <td>NaN</td>\n",
              "      <td>S-1-5-21-1023191730-727829927-3985050192-32023</td>\n",
              "      <td>ptsecurity.ru</td>\n",
              "      <td>dc2-bkp-mgmt-01.ptsecurity.ru</td>\n",
              "      <td>NaN</td>\n",
              "      <td>NewCredentials</td>\n",
              "      <td>2022-03-16T02:58:16Z</td>\n",
              "    </tr>\n",
              "    <tr>\n",
              "      <th>1864275</th>\n",
              "      <td>\\\\*\\w3svc1</td>\n",
              "      <td>u_ex220309_x.log</td>\n",
              "      <td>10.10.192.57</td>\n",
              "      <td>S-1-5-21-1023191730-727829927-3985050192-32035</td>\n",
              "      <td>ptsecurity.ru</td>\n",
              "      <td>dc1-spw-02.ptsecurity.ru</td>\n",
              "      <td>165dc53b-cd40-0001-0000-0000000007ee</td>\n",
              "      <td>0x80</td>\n",
              "      <td>2022-04-07 14:10:00+00:00</td>\n",
              "    </tr>\n",
              "    <tr>\n",
              "      <th>99438</th>\n",
              "      <td>\\\\*\\W3SVC1</td>\n",
              "      <td>u_ex22031017_x.log</td>\n",
              "      <td>10.10.192.57</td>\n",
              "      <td>S-1-5-21-1023191730-727829927-3985050192-32035</td>\n",
              "      <td>ptsecurity.ru</td>\n",
              "      <td>dc1-mail-01.ptsecurity.ru</td>\n",
              "      <td>165dc53b-cd40-0001-0000-0000000007ee</td>\n",
              "      <td>0x120089</td>\n",
              "      <td>2022-03-18T00:32:37Z</td>\n",
              "    </tr>\n",
              "    <tr>\n",
              "      <th>...</th>\n",
              "      <td>...</td>\n",
              "      <td>...</td>\n",
              "      <td>...</td>\n",
              "      <td>...</td>\n",
              "      <td>...</td>\n",
              "      <td>...</td>\n",
              "      <td>...</td>\n",
              "      <td>...</td>\n",
              "      <td>...</td>\n",
              "    </tr>\n",
              "    <tr>\n",
              "      <th>708481</th>\n",
              "      <td>\\\\*\\imap4</td>\n",
              "      <td>imap4be2022040709-1.log</td>\n",
              "      <td>10.10.192.57</td>\n",
              "      <td>S-1-5-21-1023191730-727829927-3985050192-32035</td>\n",
              "      <td>ptsecurity.ru</td>\n",
              "      <td>dc1-mail-02.ptsecurity.ru</td>\n",
              "      <td>165dc53b-cd40-0001-0000-0000000007ee</td>\n",
              "      <td>0x80</td>\n",
              "      <td>2022-04-07 12:09:08+00:00</td>\n",
              "    </tr>\n",
              "    <tr>\n",
              "      <th>1372073</th>\n",
              "      <td>\\\\*\\imap4</td>\n",
              "      <td>imap42022032514-1.log</td>\n",
              "      <td>10.10.192.57</td>\n",
              "      <td>S-1-5-21-1023191730-727829927-3985050192-32035</td>\n",
              "      <td>ptsecurity.ru</td>\n",
              "      <td>dc1-mail-02.ptsecurity.ru</td>\n",
              "      <td>165dc53b-cd40-0001-0000-0000000007ee</td>\n",
              "      <td>0x80</td>\n",
              "      <td>2022-04-07 14:27:11+00:00</td>\n",
              "    </tr>\n",
              "    <tr>\n",
              "      <th>1244827</th>\n",
              "      <td>\\\\*\\opp</td>\n",
              "      <td>цебит</td>\n",
              "      <td>10.0.102.29</td>\n",
              "      <td>S-1-5-21-1023191730-727829927-3985050192-18835</td>\n",
              "      <td>ptsecurity.ru</td>\n",
              "      <td>dc2-fs-01.ptsecurity.ru</td>\n",
              "      <td>1457bbaf-9940-0001-0000-000000001019</td>\n",
              "      <td>0x100081</td>\n",
              "      <td>2022-04-07 14:55:54+00:00</td>\n",
              "    </tr>\n",
              "    <tr>\n",
              "      <th>1784055</th>\n",
              "      <td>\\\\*\\opp</td>\n",
              "      <td>отгрузка от 07.04.2022 (продление mp8 №13716)</td>\n",
              "      <td>10.0.102.168</td>\n",
              "      <td>S-1-5-21-1023191730-727829927-3985050192-40453</td>\n",
              "      <td>ptsecurity.ru</td>\n",
              "      <td>dc2-fs-01.ptsecurity.ru</td>\n",
              "      <td>14f070b5-de40-0001-0000-0000000000bd</td>\n",
              "      <td>0x80</td>\n",
              "      <td>2022-04-07 13:41:19+00:00</td>\n",
              "    </tr>\n",
              "    <tr>\n",
              "      <th>1234853</th>\n",
              "      <td>\\\\*\\w3svc1</td>\n",
              "      <td>u_ex22040410_x.log</td>\n",
              "      <td>10.10.192.57</td>\n",
              "      <td>S-1-5-21-1023191730-727829927-3985050192-32035</td>\n",
              "      <td>ptsecurity.ru</td>\n",
              "      <td>dc1-mail-01.ptsecurity.ru</td>\n",
              "      <td>165dc53b-cd40-0001-0000-0000000007ee</td>\n",
              "      <td>0x120089</td>\n",
              "      <td>2022-04-07 14:51:20+00:00</td>\n",
              "    </tr>\n",
              "  </tbody>\n",
              "</table>\n",
              "<p>2323401 rows × 9 columns</p>\n",
              "</div>\n",
              "      <button class=\"colab-df-convert\" onclick=\"convertToInteractive('df-a4168d73-5814-4991-8034-0676e71d9ddd')\"\n",
              "              title=\"Convert this dataframe to an interactive table.\"\n",
              "              style=\"display:none;\">\n",
              "        \n",
              "  <svg xmlns=\"http://www.w3.org/2000/svg\" height=\"24px\"viewBox=\"0 0 24 24\"\n",
              "       width=\"24px\">\n",
              "    <path d=\"M0 0h24v24H0V0z\" fill=\"none\"/>\n",
              "    <path d=\"M18.56 5.44l.94 2.06.94-2.06 2.06-.94-2.06-.94-.94-2.06-.94 2.06-2.06.94zm-11 1L8.5 8.5l.94-2.06 2.06-.94-2.06-.94L8.5 2.5l-.94 2.06-2.06.94zm10 10l.94 2.06.94-2.06 2.06-.94-2.06-.94-.94-2.06-.94 2.06-2.06.94z\"/><path d=\"M17.41 7.96l-1.37-1.37c-.4-.4-.92-.59-1.43-.59-.52 0-1.04.2-1.43.59L10.3 9.45l-7.72 7.72c-.78.78-.78 2.05 0 2.83L4 21.41c.39.39.9.59 1.41.59.51 0 1.02-.2 1.41-.59l7.78-7.78 2.81-2.81c.8-.78.8-2.07 0-2.86zM5.41 20L4 18.59l7.72-7.72 1.47 1.35L5.41 20z\"/>\n",
              "  </svg>\n",
              "      </button>\n",
              "      \n",
              "  <style>\n",
              "    .colab-df-container {\n",
              "      display:flex;\n",
              "      flex-wrap:wrap;\n",
              "      gap: 12px;\n",
              "    }\n",
              "\n",
              "    .colab-df-convert {\n",
              "      background-color: #E8F0FE;\n",
              "      border: none;\n",
              "      border-radius: 50%;\n",
              "      cursor: pointer;\n",
              "      display: none;\n",
              "      fill: #1967D2;\n",
              "      height: 32px;\n",
              "      padding: 0 0 0 0;\n",
              "      width: 32px;\n",
              "    }\n",
              "\n",
              "    .colab-df-convert:hover {\n",
              "      background-color: #E2EBFA;\n",
              "      box-shadow: 0px 1px 2px rgba(60, 64, 67, 0.3), 0px 1px 3px 1px rgba(60, 64, 67, 0.15);\n",
              "      fill: #174EA6;\n",
              "    }\n",
              "\n",
              "    [theme=dark] .colab-df-convert {\n",
              "      background-color: #3B4455;\n",
              "      fill: #D2E3FC;\n",
              "    }\n",
              "\n",
              "    [theme=dark] .colab-df-convert:hover {\n",
              "      background-color: #434B5C;\n",
              "      box-shadow: 0px 1px 3px 1px rgba(0, 0, 0, 0.15);\n",
              "      filter: drop-shadow(0px 1px 2px rgba(0, 0, 0, 0.3));\n",
              "      fill: #FFFFFF;\n",
              "    }\n",
              "  </style>\n",
              "\n",
              "      <script>\n",
              "        const buttonEl =\n",
              "          document.querySelector('#df-a4168d73-5814-4991-8034-0676e71d9ddd button.colab-df-convert');\n",
              "        buttonEl.style.display =\n",
              "          google.colab.kernel.accessAllowed ? 'block' : 'none';\n",
              "\n",
              "        async function convertToInteractive(key) {\n",
              "          const element = document.querySelector('#df-a4168d73-5814-4991-8034-0676e71d9ddd');\n",
              "          const dataTable =\n",
              "            await google.colab.kernel.invokeFunction('convertToInteractive',\n",
              "                                                     [key], {});\n",
              "          if (!dataTable) return;\n",
              "\n",
              "          const docLinkHtml = 'Like what you see? Visit the ' +\n",
              "            '<a target=\"_blank\" href=https://colab.research.google.com/notebooks/data_table.ipynb>data table notebook</a>'\n",
              "            + ' to learn more about interactive tables.';\n",
              "          element.innerHTML = '';\n",
              "          dataTable['output_type'] = 'display_data';\n",
              "          await google.colab.output.renderOutput(dataTable, element);\n",
              "          const docLink = document.createElement('div');\n",
              "          docLink.innerHTML = docLinkHtml;\n",
              "          element.appendChild(docLink);\n",
              "        }\n",
              "      </script>\n",
              "    </div>\n",
              "  </div>\n",
              "  "
            ]
          },
          "metadata": {},
          "execution_count": 18
        }
      ]
    },
    {
      "cell_type": "code",
      "source": [
        "len(data['src.asset'].unique())"
      ],
      "metadata": {
        "id": "BGmGUeIW2LeV",
        "colab": {
          "base_uri": "https://localhost:8080/"
        },
        "outputId": "65a613c7-8ec9-45dd-85a5-9f696673c6ca"
      },
      "execution_count": null,
      "outputs": [
        {
          "output_type": "execute_result",
          "data": {
            "text/plain": [
              "1235"
            ]
          },
          "metadata": {},
          "execution_count": 19
        }
      ]
    },
    {
      "cell_type": "code",
      "source": [
        "df1['src.asset'].value_counts()"
      ],
      "metadata": {
        "colab": {
          "base_uri": "https://localhost:8080/"
        },
        "id": "BrPZOjaJlgiO",
        "outputId": "65a4a32a-e2c9-46e5-996c-d1ad74f22dc6"
      },
      "execution_count": null,
      "outputs": [
        {
          "output_type": "execute_result",
          "data": {
            "text/plain": [
              "165dc53b-cd40-0001-0000-0000000007ee    1771036\n",
              "1452db12-bbc0-0001-0000-000000000c34      31423\n",
              "1457bbaf-9940-0001-0000-000000001019      26887\n",
              "1601e3d7-6600-0001-0000-00000000015c      24076\n",
              "1457bbfe-f380-0001-0000-000000001469      22615\n",
              "                                         ...   \n",
              "1457bc07-65c0-0001-0000-000000001491          1\n",
              "156fc7f4-5880-0001-0000-000000000322          1\n",
              "15dd0f8e-2780-0001-0000-000000000ac6          1\n",
              "1547f557-ce40-0001-0000-000000000847          1\n",
              "165c1c78-3bc0-0001-0000-00000000079b          1\n",
              "Name: src.asset, Length: 1218, dtype: int64"
            ]
          },
          "metadata": {},
          "execution_count": 20
        }
      ]
    },
    {
      "cell_type": "code",
      "source": [
        "assets = data['src.asset'].value_counts().head(50)\n",
        "assets.plot.bar()"
      ],
      "metadata": {
        "colab": {
          "base_uri": "https://localhost:8080/",
          "height": 749
        },
        "id": "L-CSGTGDsjIS",
        "outputId": "1d9974a1-d637-4eac-f293-80b653c746f7"
      },
      "execution_count": null,
      "outputs": [
        {
          "output_type": "execute_result",
          "data": {
            "text/plain": [
              "<Axes: >"
            ]
          },
          "metadata": {},
          "execution_count": 124
        },
        {
          "output_type": "display_data",
          "data": {
            "text/plain": [
              "<Figure size 640x480 with 1 Axes>"
            ],
            "image/png": "[encoded data removed]"
          },
          "metadata": {}
        }
      ]
    },
    {
      "cell_type": "code",
      "source": [
        "df1['event_src.host'].value_counts()"
      ],
      "metadata": {
        "colab": {
          "base_uri": "https://localhost:8080/"
        },
        "id": "8844G30fJz1I",
        "outputId": "9c79ca2e-c482-4ac8-baa2-f33a61a2d162"
      },
      "execution_count": null,
      "outputs": [
        {
          "output_type": "execute_result",
          "data": {
            "text/plain": [
              "dc1-spw-02.ptsecurity.ru         319194\n",
              "dc1-mail-03.ptsecurity.ru        201579\n",
              "dc1-mail-01.ptsecurity.ru        201126\n",
              "dc1-prn-01.ptsecurity.ru         125404\n",
              "dc1-fs-01.ptsecurity.ru          123503\n",
              "                                  ...  \n",
              "manfinogenov-nb.ptsecurity.ru         1\n",
              "esitnikova-nb.ptsecurity.ru           1\n",
              "azhdanova-nb.ptsecurity.ru            1\n",
              "tmsk-fs-02.ptsecurity.ru              1\n",
              "obilovod-nb.ptsecurity.ru             1\n",
              "Name: event_src.host, Length: 932, dtype: int64"
            ]
          },
          "metadata": {},
          "execution_count": 21
        }
      ]
    },
    {
      "cell_type": "code",
      "source": [
        "data['object.storage.id'].unique()"
      ],
      "metadata": {
        "colab": {
          "base_uri": "https://localhost:8080/"
        },
        "id": "uy4Zi4icRDO7",
        "outputId": "a0de5462-0a65-4f8d-a186-b4bbc9a4a6c0"
      },
      "execution_count": null,
      "outputs": [
        {
          "output_type": "execute_result",
          "data": {
            "text/plain": [
              "array(['\\\\\\\\*\\\\w3svc1', '\\\\\\\\*\\\\w3svc2', '\\\\\\\\*\\\\ipc$', '\\\\\\\\*\\\\imap4',\n",
              "       '\\\\\\\\*\\\\security development', '\\\\\\\\*\\\\exchange',\n",
              "       '\\\\\\\\*\\\\userdata', '\\\\\\\\*\\\\bugs', '\\\\\\\\*\\\\radius.adapter.logs',\n",
              "       '\\\\\\\\*\\\\dhcp', '\\\\\\\\*\\\\selfservice.portal.logs',\n",
              "       '\\\\\\\\*\\\\analytics_29352d48-e534-4a42-9f08-1c496aecb08f',\n",
              "       '\\\\\\\\*\\\\regjournal',\n",
              "       '\\\\\\\\*\\\\analytics_471b55b2-489d-4ba7-8cd1-a251292ee09a',\n",
              "       '\\\\\\\\*\\\\w3svc5', '\\\\\\\\*\\\\w3svc4', '\\\\\\\\*\\\\pt', '\\\\\\\\*\\\\w3svc3',\n",
              "       '\\\\\\\\*\\\\w3svc34578', '\\\\\\\\*\\\\office', '\\\\\\\\*\\\\qlikshare',\n",
              "       '\\\\\\\\*\\\\accounting',\n",
              "       '\\\\\\\\*\\\\analytics_56a3fcaf-5771-446d-8106-c75bdf1a9bf0',\n",
              "       '\\\\\\\\*\\\\consultant', '\\\\\\\\*\\\\w3svc34577', '\\\\\\\\*\\\\W3SVC1',\n",
              "       '\\\\\\\\*\\\\Imap4', '\\\\\\\\*\\\\W3SVC2', '\\\\\\\\*\\\\IPC$',\n",
              "       '\\\\\\\\*\\\\Radius.Adapter.Logs', '\\\\\\\\*\\\\W3SVC34577', '\\\\\\\\*\\\\PT',\n",
              "       '\\\\\\\\*\\\\Office', '\\\\\\\\*\\\\regJournal', '\\\\\\\\*\\\\Distrib',\n",
              "       '\\\\\\\\*\\\\Analytics_56a3fcaf-5771-446d-8106-c75bdf1a9bf0',\n",
              "       '\\\\\\\\*\\\\UserData',\n",
              "       '\\\\\\\\*\\\\Analytics_29352d48-e534-4a42-9f08-1c496aecb08f',\n",
              "       '\\\\\\\\*\\\\Security Development', '\\\\\\\\*\\\\W3SVC34578',\n",
              "       '\\\\\\\\*\\\\Analytics_471b55b2-489d-4ba7-8cd1-a251292ee09a',\n",
              "       '\\\\\\\\*\\\\W3SVC4', '\\\\\\\\*\\\\W3SVC3', '\\\\\\\\*\\\\W3SVC5', '\\\\\\\\*\\\\Bugs',\n",
              "       '\\\\\\\\*\\\\C$', '\\\\\\\\*\\\\F$', '\\\\\\\\*\\\\1C_Docs$', '\\\\\\\\*\\\\Pentesters',\n",
              "       '\\\\\\\\*\\\\saploc', '\\\\\\\\*\\\\Soft', '\\\\\\\\*\\\\Exchange',\n",
              "       '\\\\\\\\*\\\\QlikShare', '\\\\\\\\*\\\\Marketing', '\\\\\\\\*\\\\Finance',\n",
              "       '\\\\\\\\*\\\\MP8', '\\\\\\\\*\\\\SYSVOL', '\\\\\\\\*\\\\Consultant',\n",
              "       '\\\\\\\\*\\\\gthrsvc_471b55b2-489d-4ba7-8cd1-a251292ee09a-crawl-0',\n",
              "       '\\\\\\\\*\\\\Коммерческий отдел', '\\\\\\\\*\\\\Dev', '\\\\\\\\*\\\\Photos',\n",
              "       '\\\\\\\\*\\\\Lawyers', '\\\\\\\\*\\\\PublicStory', '\\\\\\\\*\\\\TechWriters',\n",
              "       '\\\\\\\\*\\\\AgentSymbols', '\\\\\\\\*\\\\1c_docs$', '\\\\\\\\*\\\\soft',\n",
              "       '\\\\\\\\*\\\\opp', '\\\\\\\\*\\\\python', '\\\\\\\\*\\\\marketing',\n",
              "       '\\\\\\\\*\\\\distrib', '\\\\\\\\*\\\\sysvol', '\\\\\\\\*\\\\admin$', '\\\\\\\\*\\\\c$',\n",
              "       '\\\\\\\\*\\\\коммерческий отдел', '\\\\\\\\*\\\\dev', '\\\\\\\\*\\\\nad',\n",
              "       '\\\\\\\\*\\\\lawyers', '\\\\\\\\*\\\\photos', '\\\\\\\\*\\\\videos',\n",
              "       '\\\\\\\\*\\\\historyupload', '\\\\\\\\*\\\\klshare', '\\\\\\\\*\\\\publicstory',\n",
              "       '\\\\\\\\*\\\\mpconnectors', '\\\\\\\\*\\\\mp8', nan, '\\\\\\\\*\\\\Python',\n",
              "       '\\\\\\\\*\\\\1C_ERP$', '\\\\\\\\*\\\\HistoryUpload', '\\\\\\\\*\\\\Videos',\n",
              "       '\\\\\\\\*\\\\OPP', '\\\\\\\\*\\\\pr', '\\\\\\\\*\\\\finance', '\\\\\\\\*\\\\lyncclient',\n",
              "       '\\\\\\\\*\\\\pentesters', '\\\\\\\\*\\\\d$', '\\\\\\\\*\\\\1c_erp$',\n",
              "       '\\\\\\\\*\\\\wwdocs$', '\\\\\\\\*\\\\skype-records', '\\\\\\\\*\\\\share',\n",
              "       '\\\\\\\\*\\\\e$', '\\\\\\\\*\\\\logs', '\\\\\\\\*\\\\g$', '\\\\\\\\*\\\\techwriters',\n",
              "       '\\\\\\\\*\\\\doxy', '\\\\\\\\*\\\\developers', '\\\\\\\\*\\\\whatsnewinbox',\n",
              "       '\\\\\\\\*\\\\plugins', '\\\\\\\\*\\\\cygwin', '\\\\\\\\*\\\\f$',\n",
              "       '\\\\\\\\*\\\\meetingrooms-fileshare', '\\\\\\\\*\\\\1c-sql',\n",
              "       '\\\\\\\\*\\\\security', '\\\\\\\\*\\\\backup', '\\\\\\\\*\\\\agentsymbols',\n",
              "       '\\\\\\\\*\\\\l$', '\\\\\\\\*\\\\ebooks', '\\\\\\\\*\\\\dpl-dfs$', '\\\\\\\\*\\\\scan',\n",
              "       '\\\\\\\\*\\\\highload', '\\\\\\\\*\\\\netlogon', '\\\\\\\\*\\\\pentestplugins',\n",
              "       '\\\\\\\\*\\\\print$', '\\\\\\\\*\\\\connectorlogs', '\\\\\\\\*\\\\integration',\n",
              "       '\\\\\\\\*\\\\historynightly'], dtype=object)"
            ]
          },
          "metadata": {},
          "execution_count": 125
        }
      ]
    },
    {
      "cell_type": "code",
      "source": [
        "hosts = data['object.storage.id'].value_counts().head(50)\n",
        "hosts.plot.bar()"
      ],
      "metadata": {
        "colab": {
          "base_uri": "https://localhost:8080/",
          "height": 822
        },
        "id": "YxzW_ArfTYrM",
        "outputId": "15890cd9-0d8d-492e-aa27-389b67ccd5ba"
      },
      "execution_count": null,
      "outputs": [
        {
          "output_type": "execute_result",
          "data": {
            "text/plain": [
              "<Axes: >"
            ]
          },
          "metadata": {},
          "execution_count": 126
        },
        {
          "output_type": "display_data",
          "data": {
            "text/plain": [
              "<Figure size 640x480 with 1 Axes>"
            ],
            "image/png": "[encoded data removed]"
          },
          "metadata": {}
        }
      ]
    },
    {
      "cell_type": "code",
      "source": [
        "len(data['event_src.host'].unique())"
      ],
      "metadata": {
        "colab": {
          "base_uri": "https://localhost:8080/"
        },
        "id": "PSbWUDBKRVcS",
        "outputId": "001b8de3-ce80-4fab-b1f9-155c9a01474c"
      },
      "execution_count": null,
      "outputs": [
        {
          "output_type": "execute_result",
          "data": {
            "text/plain": [
              "936"
            ]
          },
          "metadata": {},
          "execution_count": 127
        }
      ]
    },
    {
      "cell_type": "code",
      "source": [
        "data['event_src.host'].value_counts()"
      ],
      "metadata": {
        "colab": {
          "base_uri": "https://localhost:8080/"
        },
        "id": "534g1lUDRe6t",
        "outputId": "ef14ed95-e13f-4070-bae6-96c1fe959cea"
      },
      "execution_count": null,
      "outputs": [
        {
          "output_type": "execute_result",
          "data": {
            "text/plain": [
              "dc1-spw-02.ptsecurity.ru      399031\n",
              "dc1-mail-03.ptsecurity.ru     252035\n",
              "dc1-mail-01.ptsecurity.ru     251530\n",
              "dc1-prn-01.ptsecurity.ru      156942\n",
              "dc1-fs-01.ptsecurity.ru       154278\n",
              "                               ...  \n",
              "bridge.ptsecurity.ru               1\n",
              "sshamov.ptsecurity.ru              1\n",
              "azhdanova-nb.ptsecurity.ru         1\n",
              "dc2-share-01.ptsecurity.ru         1\n",
              "ailichev-nb.ptsecurity.ru          1\n",
              "Name: event_src.host, Length: 936, dtype: int64"
            ]
          },
          "metadata": {},
          "execution_count": 128
        }
      ]
    },
    {
      "cell_type": "code",
      "source": [
        "hosts = data['event_src.host'].value_counts().head(50)\n",
        "hosts.plot.bar()"
      ],
      "metadata": {
        "colab": {
          "base_uri": "https://localhost:8080/",
          "height": 663
        },
        "id": "m74eoU9HSpaF",
        "outputId": "f697d824-80b4-461f-deac-b1acc51914a4"
      },
      "execution_count": null,
      "outputs": [
        {
          "output_type": "execute_result",
          "data": {
            "text/plain": [
              "<Axes: >"
            ]
          },
          "metadata": {},
          "execution_count": 127
        },
        {
          "output_type": "display_data",
          "data": {
            "text/plain": [
              "<Figure size 640x480 with 1 Axes>"
            ],
            "image/png": "[encoded data removed]"
          },
          "metadata": {}
        }
      ]
    },
    {
      "cell_type": "code",
      "source": [
        "df=pd.read_csv('df_12.csv',usecols = ['subject.account.id','src.asset'], engine=\"pyarrow\")\n",
        "df"
      ],
      "metadata": {
        "colab": {
          "base_uri": "https://localhost:8080/",
          "height": 424
        },
        "id": "q-FBMriEgVeP",
        "outputId": "5fddf429-a0b5-44b7-d21f-4c40071c8c17"
      },
      "execution_count": null,
      "outputs": [
        {
          "output_type": "execute_result",
          "data": {
            "text/plain": [
              "                                     subject.account.id  \\\n",
              "0        S-1-5-21-1023191730-727829927-3985050192-40269   \n",
              "1        S-1-5-21-1023191730-727829927-3985050192-32035   \n",
              "2        S-1-5-21-1023191730-727829927-3985050192-32023   \n",
              "3        S-1-5-21-1023191730-727829927-3985050192-32035   \n",
              "4        S-1-5-21-1023191730-727829927-3985050192-32035   \n",
              "...                                                 ...   \n",
              "2323396  S-1-5-21-1023191730-727829927-3985050192-32035   \n",
              "2323397  S-1-5-21-1023191730-727829927-3985050192-32035   \n",
              "2323398  S-1-5-21-1023191730-727829927-3985050192-18835   \n",
              "2323399  S-1-5-21-1023191730-727829927-3985050192-40453   \n",
              "2323400  S-1-5-21-1023191730-727829927-3985050192-32035   \n",
              "\n",
              "                                    src.asset  \n",
              "0        1452d867-9840-0001-0000-00000000069b  \n",
              "1        165dc53b-cd40-0001-0000-0000000007ee  \n",
              "2                                              \n",
              "3        165dc53b-cd40-0001-0000-0000000007ee  \n",
              "4        165dc53b-cd40-0001-0000-0000000007ee  \n",
              "...                                       ...  \n",
              "2323396  165dc53b-cd40-0001-0000-0000000007ee  \n",
              "2323397  165dc53b-cd40-0001-0000-0000000007ee  \n",
              "2323398  1457bbaf-9940-0001-0000-000000001019  \n",
              "2323399  14f070b5-de40-0001-0000-0000000000bd  \n",
              "2323400  165dc53b-cd40-0001-0000-0000000007ee  \n",
              "\n",
              "[2323401 rows x 2 columns]"
            ],
            "text/html": [
              "\n",
              "  <div id=\"df-ca7d4645-9d25-4b3e-a0a9-9797cf14d1f2\">\n",
              "    <div class=\"colab-df-container\">\n",
              "      <div>\n",
              "<style scoped>\n",
              "    .dataframe tbody tr th:only-of-type {\n",
              "        vertical-align: middle;\n",
              "    }\n",
              "\n",
              "    .dataframe tbody tr th {\n",
              "        vertical-align: top;\n",
              "    }\n",
              "\n",
              "    .dataframe thead th {\n",
              "        text-align: right;\n",
              "    }\n",
              "</style>\n",
              "<table border=\"1\" class=\"dataframe\">\n",
              "  <thead>\n",
              "    <tr style=\"text-align: right;\">\n",
              "      <th></th>\n",
              "      <th>subject.account.id</th>\n",
              "      <th>src.asset</th>\n",
              "    </tr>\n",
              "  </thead>\n",
              "  <tbody>\n",
              "    <tr>\n",
              "      <th>0</th>\n",
              "      <td>S-1-5-21-1023191730-727829927-3985050192-40269</td>\n",
              "      <td>1452d867-9840-0001-0000-00000000069b</td>\n",
              "    </tr>\n",
              "    <tr>\n",
              "      <th>1</th>\n",
              "      <td>S-1-5-21-1023191730-727829927-3985050192-32035</td>\n",
              "      <td>165dc53b-cd40-0001-0000-0000000007ee</td>\n",
              "    </tr>\n",
              "    <tr>\n",
              "      <th>2</th>\n",
              "      <td>S-1-5-21-1023191730-727829927-3985050192-32023</td>\n",
              "      <td></td>\n",
              "    </tr>\n",
              "    <tr>\n",
              "      <th>3</th>\n",
              "      <td>S-1-5-21-1023191730-727829927-3985050192-32035</td>\n",
              "      <td>165dc53b-cd40-0001-0000-0000000007ee</td>\n",
              "    </tr>\n",
              "    <tr>\n",
              "      <th>4</th>\n",
              "      <td>S-1-5-21-1023191730-727829927-3985050192-32035</td>\n",
              "      <td>165dc53b-cd40-0001-0000-0000000007ee</td>\n",
              "    </tr>\n",
              "    <tr>\n",
              "      <th>...</th>\n",
              "      <td>...</td>\n",
              "      <td>...</td>\n",
              "    </tr>\n",
              "    <tr>\n",
              "      <th>2323396</th>\n",
              "      <td>S-1-5-21-1023191730-727829927-3985050192-32035</td>\n",
              "      <td>165dc53b-cd40-0001-0000-0000000007ee</td>\n",
              "    </tr>\n",
              "    <tr>\n",
              "      <th>2323397</th>\n",
              "      <td>S-1-5-21-1023191730-727829927-3985050192-32035</td>\n",
              "      <td>165dc53b-cd40-0001-0000-0000000007ee</td>\n",
              "    </tr>\n",
              "    <tr>\n",
              "      <th>2323398</th>\n",
              "      <td>S-1-5-21-1023191730-727829927-3985050192-18835</td>\n",
              "      <td>1457bbaf-9940-0001-0000-000000001019</td>\n",
              "    </tr>\n",
              "    <tr>\n",
              "      <th>2323399</th>\n",
              "      <td>S-1-5-21-1023191730-727829927-3985050192-40453</td>\n",
              "      <td>14f070b5-de40-0001-0000-0000000000bd</td>\n",
              "    </tr>\n",
              "    <tr>\n",
              "      <th>2323400</th>\n",
              "      <td>S-1-5-21-1023191730-727829927-3985050192-32035</td>\n",
              "      <td>165dc53b-cd40-0001-0000-0000000007ee</td>\n",
              "    </tr>\n",
              "  </tbody>\n",
              "</table>\n",
              "<p>2323401 rows × 2 columns</p>\n",
              "</div>\n",
              "      <button class=\"colab-df-convert\" onclick=\"convertToInteractive('df-ca7d4645-9d25-4b3e-a0a9-9797cf14d1f2')\"\n",
              "              title=\"Convert this dataframe to an interactive table.\"\n",
              "              style=\"display:none;\">\n",
              "        \n",
              "  <svg xmlns=\"http://www.w3.org/2000/svg\" height=\"24px\"viewBox=\"0 0 24 24\"\n",
              "       width=\"24px\">\n",
              "    <path d=\"M0 0h24v24H0V0z\" fill=\"none\"/>\n",
              "    <path d=\"M18.56 5.44l.94 2.06.94-2.06 2.06-.94-2.06-.94-.94-2.06-.94 2.06-2.06.94zm-11 1L8.5 8.5l.94-2.06 2.06-.94-2.06-.94L8.5 2.5l-.94 2.06-2.06.94zm10 10l.94 2.06.94-2.06 2.06-.94-2.06-.94-.94-2.06-.94 2.06-2.06.94z\"/><path d=\"M17.41 7.96l-1.37-1.37c-.4-.4-.92-.59-1.43-.59-.52 0-1.04.2-1.43.59L10.3 9.45l-7.72 7.72c-.78.78-.78 2.05 0 2.83L4 21.41c.39.39.9.59 1.41.59.51 0 1.02-.2 1.41-.59l7.78-7.78 2.81-2.81c.8-.78.8-2.07 0-2.86zM5.41 20L4 18.59l7.72-7.72 1.47 1.35L5.41 20z\"/>\n",
              "  </svg>\n",
              "      </button>\n",
              "      \n",
              "  <style>\n",
              "    .colab-df-container {\n",
              "      display:flex;\n",
              "      flex-wrap:wrap;\n",
              "      gap: 12px;\n",
              "    }\n",
              "\n",
              "    .colab-df-convert {\n",
              "      background-color: #E8F0FE;\n",
              "      border: none;\n",
              "      border-radius: 50%;\n",
              "      cursor: pointer;\n",
              "      display: none;\n",
              "      fill: #1967D2;\n",
              "      height: 32px;\n",
              "      padding: 0 0 0 0;\n",
              "      width: 32px;\n",
              "    }\n",
              "\n",
              "    .colab-df-convert:hover {\n",
              "      background-color: #E2EBFA;\n",
              "      box-shadow: 0px 1px 2px rgba(60, 64, 67, 0.3), 0px 1px 3px 1px rgba(60, 64, 67, 0.15);\n",
              "      fill: #174EA6;\n",
              "    }\n",
              "\n",
              "    [theme=dark] .colab-df-convert {\n",
              "      background-color: #3B4455;\n",
              "      fill: #D2E3FC;\n",
              "    }\n",
              "\n",
              "    [theme=dark] .colab-df-convert:hover {\n",
              "      background-color: #434B5C;\n",
              "      box-shadow: 0px 1px 3px 1px rgba(0, 0, 0, 0.15);\n",
              "      filter: drop-shadow(0px 1px 2px rgba(0, 0, 0, 0.3));\n",
              "      fill: #FFFFFF;\n",
              "    }\n",
              "  </style>\n",
              "\n",
              "      <script>\n",
              "        const buttonEl =\n",
              "          document.querySelector('#df-ca7d4645-9d25-4b3e-a0a9-9797cf14d1f2 button.colab-df-convert');\n",
              "        buttonEl.style.display =\n",
              "          google.colab.kernel.accessAllowed ? 'block' : 'none';\n",
              "\n",
              "        async function convertToInteractive(key) {\n",
              "          const element = document.querySelector('#df-ca7d4645-9d25-4b3e-a0a9-9797cf14d1f2');\n",
              "          const dataTable =\n",
              "            await google.colab.kernel.invokeFunction('convertToInteractive',\n",
              "                                                     [key], {});\n",
              "          if (!dataTable) return;\n",
              "\n",
              "          const docLinkHtml = 'Like what you see? Visit the ' +\n",
              "            '<a target=\"_blank\" href=https://colab.research.google.com/notebooks/data_table.ipynb>data table notebook</a>'\n",
              "            + ' to learn more about interactive tables.';\n",
              "          element.innerHTML = '';\n",
              "          dataTable['output_type'] = 'display_data';\n",
              "          await google.colab.output.renderOutput(dataTable, element);\n",
              "          const docLink = document.createElement('div');\n",
              "          docLink.innerHTML = docLinkHtml;\n",
              "          element.appendChild(docLink);\n",
              "        }\n",
              "      </script>\n",
              "    </div>\n",
              "  </div>\n",
              "  "
            ]
          },
          "metadata": {},
          "execution_count": 129
        }
      ]
    },
    {
      "cell_type": "code",
      "source": [
        "len(df['subject.account.id'].unique ())"
      ],
      "metadata": {
        "colab": {
          "base_uri": "https://localhost:8080/"
        },
        "id": "SAy4A0AjY7Fw",
        "outputId": "000c7b8e-1111-4aa1-d77f-b5472b391083"
      },
      "execution_count": null,
      "outputs": [
        {
          "output_type": "execute_result",
          "data": {
            "text/plain": [
              "1496"
            ]
          },
          "metadata": {},
          "execution_count": 26
        }
      ]
    },
    {
      "cell_type": "code",
      "source": [
        "df=df.replace('', np.nan, regex=True)\n",
        "df=df.fillna('un')"
      ],
      "metadata": {
        "id": "V0kePSW6hPtX"
      },
      "execution_count": null,
      "outputs": []
    },
    {
      "cell_type": "code",
      "source": [
        "import matplotlib.pyplot as plt"
      ],
      "metadata": {
        "id": "hcUf9dihm1Xo"
      },
      "execution_count": null,
      "outputs": []
    },
    {
      "cell_type": "code",
      "source": [
        "tf1=pd.read_csv('tf_12.csv', engine=\"pyarrow\")\n",
        "tf1"
      ],
      "metadata": {
        "colab": {
          "base_uri": "https://localhost:8080/",
          "height": 679
        },
        "id": "i8VbDxWQi8MC",
        "outputId": "4cfe1ca2-a9ea-4e6d-f62d-cb58cae775d9"
      },
      "execution_count": null,
      "outputs": [
        {
          "output_type": "execute_result",
          "data": {
            "text/plain": [
              "        Unnamed: 0 object.storage.id      object.storage.name        src.ip  \\\n",
              "0          1187158        \\\\*\\office                      внд    10.0.99.56   \n",
              "1           134522        \\\\*\\w3svc2         u_ex211206_x.log  10.10.192.57   \n",
              "2           367478          \\\\*\\ipc$                  spoolss   10.31.4.149   \n",
              "3           120618        \\\\*\\W3SVC1         u_ex210523_x.log  10.10.192.57   \n",
              "4            55246        \\\\*\\W3SVC1         u_ex210820_x.log  10.10.192.57   \n",
              "...            ...               ...                      ...           ...   \n",
              "580846     1647896         \\\\*\\imap4  imap4be2022032600-1.log  10.10.192.57   \n",
              "580847      278346           \\\\*\\opp          уралсвязьинформ   10.0.102.42   \n",
              "580848      315788         \\\\*\\imap4  imap4be2022032820-1.log  10.10.192.57   \n",
              "580849      601356        \\\\*\\w3svc1         u_ex211207_x.log  10.10.192.57   \n",
              "580850     1202182        \\\\*\\w3svc1           u_ex201015.log  10.10.192.57   \n",
              "\n",
              "                                    subject.account.id subject.account.domain  \\\n",
              "0       S-1-5-21-1023191730-727829927-3985050192-22786          ptsecurity.ru   \n",
              "1       S-1-5-21-1023191730-727829927-3985050192-32035          ptsecurity.ru   \n",
              "2       S-1-5-21-1023191730-727829927-3985050192-40118          ptsecurity.ru   \n",
              "3       S-1-5-21-1023191730-727829927-3985050192-32035          ptsecurity.ru   \n",
              "4       S-1-5-21-1023191730-727829927-3985050192-32035          ptsecurity.ru   \n",
              "...                                                ...                    ...   \n",
              "580846  S-1-5-21-1023191730-727829927-3985050192-32035          ptsecurity.ru   \n",
              "580847  S-1-5-21-1023191730-727829927-3985050192-27189          ptsecurity.ru   \n",
              "580848  S-1-5-21-1023191730-727829927-3985050192-32035          ptsecurity.ru   \n",
              "580849  S-1-5-21-1023191730-727829927-3985050192-32035          ptsecurity.ru   \n",
              "580850  S-1-5-21-1023191730-727829927-3985050192-32035          ptsecurity.ru   \n",
              "\n",
              "                     event_src.host                             src.asset  \\\n",
              "0           dc1-fs-01.ptsecurity.ru  1457bbb5-c440-0001-0000-0000000010de   \n",
              "1          dc1-spw-01.ptsecurity.ru  165dc53b-cd40-0001-0000-0000000007ee   \n",
              "2          dc1-prn-01.ptsecurity.ru  1457bbff-21c0-0001-0000-00000000147a   \n",
              "3       dc1-sfb-fe-02.ptsecurity.ru  165dc53b-cd40-0001-0000-0000000007ee   \n",
              "4          dc1-spw-01.ptsecurity.ru  165dc53b-cd40-0001-0000-0000000007ee   \n",
              "...                             ...                                   ...   \n",
              "580846    dc1-mail-03.ptsecurity.ru  165dc53b-cd40-0001-0000-0000000007ee   \n",
              "580847      dc2-fs-01.ptsecurity.ru  1457bbb5-b8c0-0001-0000-0000000010d6   \n",
              "580848    dc1-mail-02.ptsecurity.ru  165dc53b-cd40-0001-0000-0000000007ee   \n",
              "580849  dc1-sfb-fe-02.ptsecurity.ru  165dc53b-cd40-0001-0000-0000000007ee   \n",
              "580850     dc1-spw-02.ptsecurity.ru  165dc53b-cd40-0001-0000-0000000007ee   \n",
              "\n",
              "       datafield6                      time  \n",
              "0        0x100081 2022-04-07 14:06:01+00:00  \n",
              "1        0x120089 2022-03-28 00:34:20+00:00  \n",
              "2        0x12019f 2022-04-07 13:34:17+00:00  \n",
              "3        0x120089 2022-03-18 00:36:14+00:00  \n",
              "4        0x120089 2022-03-18 00:09:45+00:00  \n",
              "...           ...                       ...  \n",
              "580846       0x80 2022-04-07 13:01:17+00:00  \n",
              "580847       0x80 2022-04-07 13:05:38+00:00  \n",
              "580848       0x80 2022-04-07 13:16:43+00:00  \n",
              "580849   0x120089 2022-04-07 14:27:45+00:00  \n",
              "580850       0x80 2022-04-07 14:14:10+00:00  \n",
              "\n",
              "[580851 rows x 10 columns]"
            ],
            "text/html": [
              "\n",
              "  <div id=\"df-1b099b57-dac6-4412-b5b7-848c480cbf93\">\n",
              "    <div class=\"colab-df-container\">\n",
              "      <div>\n",
              "<style scoped>\n",
              "    .dataframe tbody tr th:only-of-type {\n",
              "        vertical-align: middle;\n",
              "    }\n",
              "\n",
              "    .dataframe tbody tr th {\n",
              "        vertical-align: top;\n",
              "    }\n",
              "\n",
              "    .dataframe thead th {\n",
              "        text-align: right;\n",
              "    }\n",
              "</style>\n",
              "<table border=\"1\" class=\"dataframe\">\n",
              "  <thead>\n",
              "    <tr style=\"text-align: right;\">\n",
              "      <th></th>\n",
              "      <th>Unnamed: 0</th>\n",
              "      <th>object.storage.id</th>\n",
              "      <th>object.storage.name</th>\n",
              "      <th>src.ip</th>\n",
              "      <th>subject.account.id</th>\n",
              "      <th>subject.account.domain</th>\n",
              "      <th>event_src.host</th>\n",
              "      <th>src.asset</th>\n",
              "      <th>datafield6</th>\n",
              "      <th>time</th>\n",
              "    </tr>\n",
              "  </thead>\n",
              "  <tbody>\n",
              "    <tr>\n",
              "      <th>0</th>\n",
              "      <td>1187158</td>\n",
              "      <td>\\\\*\\office</td>\n",
              "      <td>внд</td>\n",
              "      <td>10.0.99.56</td>\n",
              "      <td>S-1-5-21-1023191730-727829927-3985050192-22786</td>\n",
              "      <td>ptsecurity.ru</td>\n",
              "      <td>dc1-fs-01.ptsecurity.ru</td>\n",
              "      <td>1457bbb5-c440-0001-0000-0000000010de</td>\n",
              "      <td>0x100081</td>\n",
              "      <td>2022-04-07 14:06:01+00:00</td>\n",
              "    </tr>\n",
              "    <tr>\n",
              "      <th>1</th>\n",
              "      <td>134522</td>\n",
              "      <td>\\\\*\\w3svc2</td>\n",
              "      <td>u_ex211206_x.log</td>\n",
              "      <td>10.10.192.57</td>\n",
              "      <td>S-1-5-21-1023191730-727829927-3985050192-32035</td>\n",
              "      <td>ptsecurity.ru</td>\n",
              "      <td>dc1-spw-01.ptsecurity.ru</td>\n",
              "      <td>165dc53b-cd40-0001-0000-0000000007ee</td>\n",
              "      <td>0x120089</td>\n",
              "      <td>2022-03-28 00:34:20+00:00</td>\n",
              "    </tr>\n",
              "    <tr>\n",
              "      <th>2</th>\n",
              "      <td>367478</td>\n",
              "      <td>\\\\*\\ipc$</td>\n",
              "      <td>spoolss</td>\n",
              "      <td>10.31.4.149</td>\n",
              "      <td>S-1-5-21-1023191730-727829927-3985050192-40118</td>\n",
              "      <td>ptsecurity.ru</td>\n",
              "      <td>dc1-prn-01.ptsecurity.ru</td>\n",
              "      <td>1457bbff-21c0-0001-0000-00000000147a</td>\n",
              "      <td>0x12019f</td>\n",
              "      <td>2022-04-07 13:34:17+00:00</td>\n",
              "    </tr>\n",
              "    <tr>\n",
              "      <th>3</th>\n",
              "      <td>120618</td>\n",
              "      <td>\\\\*\\W3SVC1</td>\n",
              "      <td>u_ex210523_x.log</td>\n",
              "      <td>10.10.192.57</td>\n",
              "      <td>S-1-5-21-1023191730-727829927-3985050192-32035</td>\n",
              "      <td>ptsecurity.ru</td>\n",
              "      <td>dc1-sfb-fe-02.ptsecurity.ru</td>\n",
              "      <td>165dc53b-cd40-0001-0000-0000000007ee</td>\n",
              "      <td>0x120089</td>\n",
              "      <td>2022-03-18 00:36:14+00:00</td>\n",
              "    </tr>\n",
              "    <tr>\n",
              "      <th>4</th>\n",
              "      <td>55246</td>\n",
              "      <td>\\\\*\\W3SVC1</td>\n",
              "      <td>u_ex210820_x.log</td>\n",
              "      <td>10.10.192.57</td>\n",
              "      <td>S-1-5-21-1023191730-727829927-3985050192-32035</td>\n",
              "      <td>ptsecurity.ru</td>\n",
              "      <td>dc1-spw-01.ptsecurity.ru</td>\n",
              "      <td>165dc53b-cd40-0001-0000-0000000007ee</td>\n",
              "      <td>0x120089</td>\n",
              "      <td>2022-03-18 00:09:45+00:00</td>\n",
              "    </tr>\n",
              "    <tr>\n",
              "      <th>...</th>\n",
              "      <td>...</td>\n",
              "      <td>...</td>\n",
              "      <td>...</td>\n",
              "      <td>...</td>\n",
              "      <td>...</td>\n",
              "      <td>...</td>\n",
              "      <td>...</td>\n",
              "      <td>...</td>\n",
              "      <td>...</td>\n",
              "      <td>...</td>\n",
              "    </tr>\n",
              "    <tr>\n",
              "      <th>580846</th>\n",
              "      <td>1647896</td>\n",
              "      <td>\\\\*\\imap4</td>\n",
              "      <td>imap4be2022032600-1.log</td>\n",
              "      <td>10.10.192.57</td>\n",
              "      <td>S-1-5-21-1023191730-727829927-3985050192-32035</td>\n",
              "      <td>ptsecurity.ru</td>\n",
              "      <td>dc1-mail-03.ptsecurity.ru</td>\n",
              "      <td>165dc53b-cd40-0001-0000-0000000007ee</td>\n",
              "      <td>0x80</td>\n",
              "      <td>2022-04-07 13:01:17+00:00</td>\n",
              "    </tr>\n",
              "    <tr>\n",
              "      <th>580847</th>\n",
              "      <td>278346</td>\n",
              "      <td>\\\\*\\opp</td>\n",
              "      <td>уралсвязьинформ</td>\n",
              "      <td>10.0.102.42</td>\n",
              "      <td>S-1-5-21-1023191730-727829927-3985050192-27189</td>\n",
              "      <td>ptsecurity.ru</td>\n",
              "      <td>dc2-fs-01.ptsecurity.ru</td>\n",
              "      <td>1457bbb5-b8c0-0001-0000-0000000010d6</td>\n",
              "      <td>0x80</td>\n",
              "      <td>2022-04-07 13:05:38+00:00</td>\n",
              "    </tr>\n",
              "    <tr>\n",
              "      <th>580848</th>\n",
              "      <td>315788</td>\n",
              "      <td>\\\\*\\imap4</td>\n",
              "      <td>imap4be2022032820-1.log</td>\n",
              "      <td>10.10.192.57</td>\n",
              "      <td>S-1-5-21-1023191730-727829927-3985050192-32035</td>\n",
              "      <td>ptsecurity.ru</td>\n",
              "      <td>dc1-mail-02.ptsecurity.ru</td>\n",
              "      <td>165dc53b-cd40-0001-0000-0000000007ee</td>\n",
              "      <td>0x80</td>\n",
              "      <td>2022-04-07 13:16:43+00:00</td>\n",
              "    </tr>\n",
              "    <tr>\n",
              "      <th>580849</th>\n",
              "      <td>601356</td>\n",
              "      <td>\\\\*\\w3svc1</td>\n",
              "      <td>u_ex211207_x.log</td>\n",
              "      <td>10.10.192.57</td>\n",
              "      <td>S-1-5-21-1023191730-727829927-3985050192-32035</td>\n",
              "      <td>ptsecurity.ru</td>\n",
              "      <td>dc1-sfb-fe-02.ptsecurity.ru</td>\n",
              "      <td>165dc53b-cd40-0001-0000-0000000007ee</td>\n",
              "      <td>0x120089</td>\n",
              "      <td>2022-04-07 14:27:45+00:00</td>\n",
              "    </tr>\n",
              "    <tr>\n",
              "      <th>580850</th>\n",
              "      <td>1202182</td>\n",
              "      <td>\\\\*\\w3svc1</td>\n",
              "      <td>u_ex201015.log</td>\n",
              "      <td>10.10.192.57</td>\n",
              "      <td>S-1-5-21-1023191730-727829927-3985050192-32035</td>\n",
              "      <td>ptsecurity.ru</td>\n",
              "      <td>dc1-spw-02.ptsecurity.ru</td>\n",
              "      <td>165dc53b-cd40-0001-0000-0000000007ee</td>\n",
              "      <td>0x80</td>\n",
              "      <td>2022-04-07 14:14:10+00:00</td>\n",
              "    </tr>\n",
              "  </tbody>\n",
              "</table>\n",
              "<p>580851 rows × 10 columns</p>\n",
              "</div>\n",
              "      <button class=\"colab-df-convert\" onclick=\"convertToInteractive('df-1b099b57-dac6-4412-b5b7-848c480cbf93')\"\n",
              "              title=\"Convert this dataframe to an interactive table.\"\n",
              "              style=\"display:none;\">\n",
              "        \n",
              "  <svg xmlns=\"http://www.w3.org/2000/svg\" height=\"24px\"viewBox=\"0 0 24 24\"\n",
              "       width=\"24px\">\n",
              "    <path d=\"M0 0h24v24H0V0z\" fill=\"none\"/>\n",
              "    <path d=\"M18.56 5.44l.94 2.06.94-2.06 2.06-.94-2.06-.94-.94-2.06-.94 2.06-2.06.94zm-11 1L8.5 8.5l.94-2.06 2.06-.94-2.06-.94L8.5 2.5l-.94 2.06-2.06.94zm10 10l.94 2.06.94-2.06 2.06-.94-2.06-.94-.94-2.06-.94 2.06-2.06.94z\"/><path d=\"M17.41 7.96l-1.37-1.37c-.4-.4-.92-.59-1.43-.59-.52 0-1.04.2-1.43.59L10.3 9.45l-7.72 7.72c-.78.78-.78 2.05 0 2.83L4 21.41c.39.39.9.59 1.41.59.51 0 1.02-.2 1.41-.59l7.78-7.78 2.81-2.81c.8-.78.8-2.07 0-2.86zM5.41 20L4 18.59l7.72-7.72 1.47 1.35L5.41 20z\"/>\n",
              "  </svg>\n",
              "      </button>\n",
              "      \n",
              "  <style>\n",
              "    .colab-df-container {\n",
              "      display:flex;\n",
              "      flex-wrap:wrap;\n",
              "      gap: 12px;\n",
              "    }\n",
              "\n",
              "    .colab-df-convert {\n",
              "      background-color: #E8F0FE;\n",
              "      border: none;\n",
              "      border-radius: 50%;\n",
              "      cursor: pointer;\n",
              "      display: none;\n",
              "      fill: #1967D2;\n",
              "      height: 32px;\n",
              "      padding: 0 0 0 0;\n",
              "      width: 32px;\n",
              "    }\n",
              "\n",
              "    .colab-df-convert:hover {\n",
              "      background-color: #E2EBFA;\n",
              "      box-shadow: 0px 1px 2px rgba(60, 64, 67, 0.3), 0px 1px 3px 1px rgba(60, 64, 67, 0.15);\n",
              "      fill: #174EA6;\n",
              "    }\n",
              "\n",
              "    [theme=dark] .colab-df-convert {\n",
              "      background-color: #3B4455;\n",
              "      fill: #D2E3FC;\n",
              "    }\n",
              "\n",
              "    [theme=dark] .colab-df-convert:hover {\n",
              "      background-color: #434B5C;\n",
              "      box-shadow: 0px 1px 3px 1px rgba(0, 0, 0, 0.15);\n",
              "      filter: drop-shadow(0px 1px 2px rgba(0, 0, 0, 0.3));\n",
              "      fill: #FFFFFF;\n",
              "    }\n",
              "  </style>\n",
              "\n",
              "      <script>\n",
              "        const buttonEl =\n",
              "          document.querySelector('#df-1b099b57-dac6-4412-b5b7-848c480cbf93 button.colab-df-convert');\n",
              "        buttonEl.style.display =\n",
              "          google.colab.kernel.accessAllowed ? 'block' : 'none';\n",
              "\n",
              "        async function convertToInteractive(key) {\n",
              "          const element = document.querySelector('#df-1b099b57-dac6-4412-b5b7-848c480cbf93');\n",
              "          const dataTable =\n",
              "            await google.colab.kernel.invokeFunction('convertToInteractive',\n",
              "                                                     [key], {});\n",
              "          if (!dataTable) return;\n",
              "\n",
              "          const docLinkHtml = 'Like what you see? Visit the ' +\n",
              "            '<a target=\"_blank\" href=https://colab.research.google.com/notebooks/data_table.ipynb>data table notebook</a>'\n",
              "            + ' to learn more about interactive tables.';\n",
              "          element.innerHTML = '';\n",
              "          dataTable['output_type'] = 'display_data';\n",
              "          await google.colab.output.renderOutput(dataTable, element);\n",
              "          const docLink = document.createElement('div');\n",
              "          docLink.innerHTML = docLinkHtml;\n",
              "          element.appendChild(docLink);\n",
              "        }\n",
              "      </script>\n",
              "    </div>\n",
              "  </div>\n",
              "  "
            ]
          },
          "metadata": {},
          "execution_count": 131
        }
      ]
    },
    {
      "cell_type": "code",
      "source": [
        "tf=pd.read_csv('tf_12.csv',usecols = ['subject.account.id','src.asset'], engine=\"pyarrow\")\n",
        "tf"
      ],
      "metadata": {
        "colab": {
          "base_uri": "https://localhost:8080/",
          "height": 424
        },
        "id": "jXIcOEl3vWhf",
        "outputId": "93105a46-6e8f-430c-e739-81e5679fc358"
      },
      "execution_count": null,
      "outputs": [
        {
          "output_type": "execute_result",
          "data": {
            "text/plain": [
              "                                    subject.account.id  \\\n",
              "0       S-1-5-21-1023191730-727829927-3985050192-22786   \n",
              "1       S-1-5-21-1023191730-727829927-3985050192-32035   \n",
              "2       S-1-5-21-1023191730-727829927-3985050192-40118   \n",
              "3       S-1-5-21-1023191730-727829927-3985050192-32035   \n",
              "4       S-1-5-21-1023191730-727829927-3985050192-32035   \n",
              "...                                                ...   \n",
              "580846  S-1-5-21-1023191730-727829927-3985050192-32035   \n",
              "580847  S-1-5-21-1023191730-727829927-3985050192-27189   \n",
              "580848  S-1-5-21-1023191730-727829927-3985050192-32035   \n",
              "580849  S-1-5-21-1023191730-727829927-3985050192-32035   \n",
              "580850  S-1-5-21-1023191730-727829927-3985050192-32035   \n",
              "\n",
              "                                   src.asset  \n",
              "0       1457bbb5-c440-0001-0000-0000000010de  \n",
              "1       165dc53b-cd40-0001-0000-0000000007ee  \n",
              "2       1457bbff-21c0-0001-0000-00000000147a  \n",
              "3       165dc53b-cd40-0001-0000-0000000007ee  \n",
              "4       165dc53b-cd40-0001-0000-0000000007ee  \n",
              "...                                      ...  \n",
              "580846  165dc53b-cd40-0001-0000-0000000007ee  \n",
              "580847  1457bbb5-b8c0-0001-0000-0000000010d6  \n",
              "580848  165dc53b-cd40-0001-0000-0000000007ee  \n",
              "580849  165dc53b-cd40-0001-0000-0000000007ee  \n",
              "580850  165dc53b-cd40-0001-0000-0000000007ee  \n",
              "\n",
              "[580851 rows x 2 columns]"
            ],
            "text/html": [
              "\n",
              "  <div id=\"df-be48d19f-10b6-4052-aab6-fffa14bb6e55\">\n",
              "    <div class=\"colab-df-container\">\n",
              "      <div>\n",
              "<style scoped>\n",
              "    .dataframe tbody tr th:only-of-type {\n",
              "        vertical-align: middle;\n",
              "    }\n",
              "\n",
              "    .dataframe tbody tr th {\n",
              "        vertical-align: top;\n",
              "    }\n",
              "\n",
              "    .dataframe thead th {\n",
              "        text-align: right;\n",
              "    }\n",
              "</style>\n",
              "<table border=\"1\" class=\"dataframe\">\n",
              "  <thead>\n",
              "    <tr style=\"text-align: right;\">\n",
              "      <th></th>\n",
              "      <th>subject.account.id</th>\n",
              "      <th>src.asset</th>\n",
              "    </tr>\n",
              "  </thead>\n",
              "  <tbody>\n",
              "    <tr>\n",
              "      <th>0</th>\n",
              "      <td>S-1-5-21-1023191730-727829927-3985050192-22786</td>\n",
              "      <td>1457bbb5-c440-0001-0000-0000000010de</td>\n",
              "    </tr>\n",
              "    <tr>\n",
              "      <th>1</th>\n",
              "      <td>S-1-5-21-1023191730-727829927-3985050192-32035</td>\n",
              "      <td>165dc53b-cd40-0001-0000-0000000007ee</td>\n",
              "    </tr>\n",
              "    <tr>\n",
              "      <th>2</th>\n",
              "      <td>S-1-5-21-1023191730-727829927-3985050192-40118</td>\n",
              "      <td>1457bbff-21c0-0001-0000-00000000147a</td>\n",
              "    </tr>\n",
              "    <tr>\n",
              "      <th>3</th>\n",
              "      <td>S-1-5-21-1023191730-727829927-3985050192-32035</td>\n",
              "      <td>165dc53b-cd40-0001-0000-0000000007ee</td>\n",
              "    </tr>\n",
              "    <tr>\n",
              "      <th>4</th>\n",
              "      <td>S-1-5-21-1023191730-727829927-3985050192-32035</td>\n",
              "      <td>165dc53b-cd40-0001-0000-0000000007ee</td>\n",
              "    </tr>\n",
              "    <tr>\n",
              "      <th>...</th>\n",
              "      <td>...</td>\n",
              "      <td>...</td>\n",
              "    </tr>\n",
              "    <tr>\n",
              "      <th>580846</th>\n",
              "      <td>S-1-5-21-1023191730-727829927-3985050192-32035</td>\n",
              "      <td>165dc53b-cd40-0001-0000-0000000007ee</td>\n",
              "    </tr>\n",
              "    <tr>\n",
              "      <th>580847</th>\n",
              "      <td>S-1-5-21-1023191730-727829927-3985050192-27189</td>\n",
              "      <td>1457bbb5-b8c0-0001-0000-0000000010d6</td>\n",
              "    </tr>\n",
              "    <tr>\n",
              "      <th>580848</th>\n",
              "      <td>S-1-5-21-1023191730-727829927-3985050192-32035</td>\n",
              "      <td>165dc53b-cd40-0001-0000-0000000007ee</td>\n",
              "    </tr>\n",
              "    <tr>\n",
              "      <th>580849</th>\n",
              "      <td>S-1-5-21-1023191730-727829927-3985050192-32035</td>\n",
              "      <td>165dc53b-cd40-0001-0000-0000000007ee</td>\n",
              "    </tr>\n",
              "    <tr>\n",
              "      <th>580850</th>\n",
              "      <td>S-1-5-21-1023191730-727829927-3985050192-32035</td>\n",
              "      <td>165dc53b-cd40-0001-0000-0000000007ee</td>\n",
              "    </tr>\n",
              "  </tbody>\n",
              "</table>\n",
              "<p>580851 rows × 2 columns</p>\n",
              "</div>\n",
              "      <button class=\"colab-df-convert\" onclick=\"convertToInteractive('df-be48d19f-10b6-4052-aab6-fffa14bb6e55')\"\n",
              "              title=\"Convert this dataframe to an interactive table.\"\n",
              "              style=\"display:none;\">\n",
              "        \n",
              "  <svg xmlns=\"http://www.w3.org/2000/svg\" height=\"24px\"viewBox=\"0 0 24 24\"\n",
              "       width=\"24px\">\n",
              "    <path d=\"M0 0h24v24H0V0z\" fill=\"none\"/>\n",
              "    <path d=\"M18.56 5.44l.94 2.06.94-2.06 2.06-.94-2.06-.94-.94-2.06-.94 2.06-2.06.94zm-11 1L8.5 8.5l.94-2.06 2.06-.94-2.06-.94L8.5 2.5l-.94 2.06-2.06.94zm10 10l.94 2.06.94-2.06 2.06-.94-2.06-.94-.94-2.06-.94 2.06-2.06.94z\"/><path d=\"M17.41 7.96l-1.37-1.37c-.4-.4-.92-.59-1.43-.59-.52 0-1.04.2-1.43.59L10.3 9.45l-7.72 7.72c-.78.78-.78 2.05 0 2.83L4 21.41c.39.39.9.59 1.41.59.51 0 1.02-.2 1.41-.59l7.78-7.78 2.81-2.81c.8-.78.8-2.07 0-2.86zM5.41 20L4 18.59l7.72-7.72 1.47 1.35L5.41 20z\"/>\n",
              "  </svg>\n",
              "      </button>\n",
              "      \n",
              "  <style>\n",
              "    .colab-df-container {\n",
              "      display:flex;\n",
              "      flex-wrap:wrap;\n",
              "      gap: 12px;\n",
              "    }\n",
              "\n",
              "    .colab-df-convert {\n",
              "      background-color: #E8F0FE;\n",
              "      border: none;\n",
              "      border-radius: 50%;\n",
              "      cursor: pointer;\n",
              "      display: none;\n",
              "      fill: #1967D2;\n",
              "      height: 32px;\n",
              "      padding: 0 0 0 0;\n",
              "      width: 32px;\n",
              "    }\n",
              "\n",
              "    .colab-df-convert:hover {\n",
              "      background-color: #E2EBFA;\n",
              "      box-shadow: 0px 1px 2px rgba(60, 64, 67, 0.3), 0px 1px 3px 1px rgba(60, 64, 67, 0.15);\n",
              "      fill: #174EA6;\n",
              "    }\n",
              "\n",
              "    [theme=dark] .colab-df-convert {\n",
              "      background-color: #3B4455;\n",
              "      fill: #D2E3FC;\n",
              "    }\n",
              "\n",
              "    [theme=dark] .colab-df-convert:hover {\n",
              "      background-color: #434B5C;\n",
              "      box-shadow: 0px 1px 3px 1px rgba(0, 0, 0, 0.15);\n",
              "      filter: drop-shadow(0px 1px 2px rgba(0, 0, 0, 0.3));\n",
              "      fill: #FFFFFF;\n",
              "    }\n",
              "  </style>\n",
              "\n",
              "      <script>\n",
              "        const buttonEl =\n",
              "          document.querySelector('#df-be48d19f-10b6-4052-aab6-fffa14bb6e55 button.colab-df-convert');\n",
              "        buttonEl.style.display =\n",
              "          google.colab.kernel.accessAllowed ? 'block' : 'none';\n",
              "\n",
              "        async function convertToInteractive(key) {\n",
              "          const element = document.querySelector('#df-be48d19f-10b6-4052-aab6-fffa14bb6e55');\n",
              "          const dataTable =\n",
              "            await google.colab.kernel.invokeFunction('convertToInteractive',\n",
              "                                                     [key], {});\n",
              "          if (!dataTable) return;\n",
              "\n",
              "          const docLinkHtml = 'Like what you see? Visit the ' +\n",
              "            '<a target=\"_blank\" href=https://colab.research.google.com/notebooks/data_table.ipynb>data table notebook</a>'\n",
              "            + ' to learn more about interactive tables.';\n",
              "          element.innerHTML = '';\n",
              "          dataTable['output_type'] = 'display_data';\n",
              "          await google.colab.output.renderOutput(dataTable, element);\n",
              "          const docLink = document.createElement('div');\n",
              "          docLink.innerHTML = docLinkHtml;\n",
              "          element.appendChild(docLink);\n",
              "        }\n",
              "      </script>\n",
              "    </div>\n",
              "  </div>\n",
              "  "
            ]
          },
          "metadata": {},
          "execution_count": 132
        }
      ]
    },
    {
      "cell_type": "code",
      "source": [
        "len(tf['subject.account.id'].unique ())"
      ],
      "metadata": {
        "colab": {
          "base_uri": "https://localhost:8080/"
        },
        "id": "ZSLYR_1t4zpV",
        "outputId": "b57d350f-5e7e-4f64-9297-370a154e0887"
      },
      "execution_count": null,
      "outputs": [
        {
          "output_type": "execute_result",
          "data": {
            "text/plain": [
              "1386"
            ]
          },
          "metadata": {},
          "execution_count": 31
        }
      ]
    },
    {
      "cell_type": "code",
      "source": [
        "for_rec_df=df\n",
        "vectorizer = OrdinalEncoder(handle_unknown='use_encoded_value', unknown_value=np.nan)\n",
        "encoded_df = pd.DataFrame(vectorizer.fit_transform(for_rec_df))\n",
        "encoded_df.columns = ['uid','iid']\n",
        "encoded_df.info()\n",
        "encoded_df['quantity'] = 1\n",
        "grouped_purchased = encoded_df.groupby(['uid','iid']).sum().reset_index()\n",
        "grouped_purchased"
      ],
      "metadata": {
        "colab": {
          "base_uri": "https://localhost:8080/",
          "height": 580
        },
        "id": "EgIaoMo4hRdR",
        "outputId": "b32f24a3-efce-40f4-adbf-4fab68e919f1"
      },
      "execution_count": null,
      "outputs": [
        {
          "output_type": "stream",
          "name": "stdout",
          "text": [
            "<class 'pandas.core.frame.DataFrame'>\n",
            "RangeIndex: 2323401 entries, 0 to 2323400\n",
            "Data columns (total 2 columns):\n",
            " #   Column  Dtype  \n",
            "---  ------  -----  \n",
            " 0   uid     float64\n",
            " 1   iid     float64\n",
            "dtypes: float64(2)\n",
            "memory usage: 35.5 MB\n"
          ]
        },
        {
          "output_type": "execute_result",
          "data": {
            "text/plain": [
              "         uid     iid  quantity\n",
              "0        0.0  1218.0      9038\n",
              "1        1.0  1218.0        16\n",
              "2        2.0  1218.0       107\n",
              "3        3.0  1218.0         1\n",
              "4        4.0   403.0         1\n",
              "...      ...     ...       ...\n",
              "5660  1491.0  1218.0         1\n",
              "5661  1492.0  1218.0         2\n",
              "5662  1493.0  1218.0         7\n",
              "5663  1494.0  1218.0         2\n",
              "5664  1495.0  1218.0         1\n",
              "\n",
              "[5665 rows x 3 columns]"
            ],
            "text/html": [
              "\n",
              "  <div id=\"df-694b8f03-7e2c-4952-93b9-ca96567db046\">\n",
              "    <div class=\"colab-df-container\">\n",
              "      <div>\n",
              "<style scoped>\n",
              "    .dataframe tbody tr th:only-of-type {\n",
              "        vertical-align: middle;\n",
              "    }\n",
              "\n",
              "    .dataframe tbody tr th {\n",
              "        vertical-align: top;\n",
              "    }\n",
              "\n",
              "    .dataframe thead th {\n",
              "        text-align: right;\n",
              "    }\n",
              "</style>\n",
              "<table border=\"1\" class=\"dataframe\">\n",
              "  <thead>\n",
              "    <tr style=\"text-align: right;\">\n",
              "      <th></th>\n",
              "      <th>uid</th>\n",
              "      <th>iid</th>\n",
              "      <th>quantity</th>\n",
              "    </tr>\n",
              "  </thead>\n",
              "  <tbody>\n",
              "    <tr>\n",
              "      <th>0</th>\n",
              "      <td>0.0</td>\n",
              "      <td>1218.0</td>\n",
              "      <td>9038</td>\n",
              "    </tr>\n",
              "    <tr>\n",
              "      <th>1</th>\n",
              "      <td>1.0</td>\n",
              "      <td>1218.0</td>\n",
              "      <td>16</td>\n",
              "    </tr>\n",
              "    <tr>\n",
              "      <th>2</th>\n",
              "      <td>2.0</td>\n",
              "      <td>1218.0</td>\n",
              "      <td>107</td>\n",
              "    </tr>\n",
              "    <tr>\n",
              "      <th>3</th>\n",
              "      <td>3.0</td>\n",
              "      <td>1218.0</td>\n",
              "      <td>1</td>\n",
              "    </tr>\n",
              "    <tr>\n",
              "      <th>4</th>\n",
              "      <td>4.0</td>\n",
              "      <td>403.0</td>\n",
              "      <td>1</td>\n",
              "    </tr>\n",
              "    <tr>\n",
              "      <th>...</th>\n",
              "      <td>...</td>\n",
              "      <td>...</td>\n",
              "      <td>...</td>\n",
              "    </tr>\n",
              "    <tr>\n",
              "      <th>5660</th>\n",
              "      <td>1491.0</td>\n",
              "      <td>1218.0</td>\n",
              "      <td>1</td>\n",
              "    </tr>\n",
              "    <tr>\n",
              "      <th>5661</th>\n",
              "      <td>1492.0</td>\n",
              "      <td>1218.0</td>\n",
              "      <td>2</td>\n",
              "    </tr>\n",
              "    <tr>\n",
              "      <th>5662</th>\n",
              "      <td>1493.0</td>\n",
              "      <td>1218.0</td>\n",
              "      <td>7</td>\n",
              "    </tr>\n",
              "    <tr>\n",
              "      <th>5663</th>\n",
              "      <td>1494.0</td>\n",
              "      <td>1218.0</td>\n",
              "      <td>2</td>\n",
              "    </tr>\n",
              "    <tr>\n",
              "      <th>5664</th>\n",
              "      <td>1495.0</td>\n",
              "      <td>1218.0</td>\n",
              "      <td>1</td>\n",
              "    </tr>\n",
              "  </tbody>\n",
              "</table>\n",
              "<p>5665 rows × 3 columns</p>\n",
              "</div>\n",
              "      <button class=\"colab-df-convert\" onclick=\"convertToInteractive('df-694b8f03-7e2c-4952-93b9-ca96567db046')\"\n",
              "              title=\"Convert this dataframe to an interactive table.\"\n",
              "              style=\"display:none;\">\n",
              "        \n",
              "  <svg xmlns=\"http://www.w3.org/2000/svg\" height=\"24px\"viewBox=\"0 0 24 24\"\n",
              "       width=\"24px\">\n",
              "    <path d=\"M0 0h24v24H0V0z\" fill=\"none\"/>\n",
              "    <path d=\"M18.56 5.44l.94 2.06.94-2.06 2.06-.94-2.06-.94-.94-2.06-.94 2.06-2.06.94zm-11 1L8.5 8.5l.94-2.06 2.06-.94-2.06-.94L8.5 2.5l-.94 2.06-2.06.94zm10 10l.94 2.06.94-2.06 2.06-.94-2.06-.94-.94-2.06-.94 2.06-2.06.94z\"/><path d=\"M17.41 7.96l-1.37-1.37c-.4-.4-.92-.59-1.43-.59-.52 0-1.04.2-1.43.59L10.3 9.45l-7.72 7.72c-.78.78-.78 2.05 0 2.83L4 21.41c.39.39.9.59 1.41.59.51 0 1.02-.2 1.41-.59l7.78-7.78 2.81-2.81c.8-.78.8-2.07 0-2.86zM5.41 20L4 18.59l7.72-7.72 1.47 1.35L5.41 20z\"/>\n",
              "  </svg>\n",
              "      </button>\n",
              "      \n",
              "  <style>\n",
              "    .colab-df-container {\n",
              "      display:flex;\n",
              "      flex-wrap:wrap;\n",
              "      gap: 12px;\n",
              "    }\n",
              "\n",
              "    .colab-df-convert {\n",
              "      background-color: #E8F0FE;\n",
              "      border: none;\n",
              "      border-radius: 50%;\n",
              "      cursor: pointer;\n",
              "      display: none;\n",
              "      fill: #1967D2;\n",
              "      height: 32px;\n",
              "      padding: 0 0 0 0;\n",
              "      width: 32px;\n",
              "    }\n",
              "\n",
              "    .colab-df-convert:hover {\n",
              "      background-color: #E2EBFA;\n",
              "      box-shadow: 0px 1px 2px rgba(60, 64, 67, 0.3), 0px 1px 3px 1px rgba(60, 64, 67, 0.15);\n",
              "      fill: #174EA6;\n",
              "    }\n",
              "\n",
              "    [theme=dark] .colab-df-convert {\n",
              "      background-color: #3B4455;\n",
              "      fill: #D2E3FC;\n",
              "    }\n",
              "\n",
              "    [theme=dark] .colab-df-convert:hover {\n",
              "      background-color: #434B5C;\n",
              "      box-shadow: 0px 1px 3px 1px rgba(0, 0, 0, 0.15);\n",
              "      filter: drop-shadow(0px 1px 2px rgba(0, 0, 0, 0.3));\n",
              "      fill: #FFFFFF;\n",
              "    }\n",
              "  </style>\n",
              "\n",
              "      <script>\n",
              "        const buttonEl =\n",
              "          document.querySelector('#df-694b8f03-7e2c-4952-93b9-ca96567db046 button.colab-df-convert');\n",
              "        buttonEl.style.display =\n",
              "          google.colab.kernel.accessAllowed ? 'block' : 'none';\n",
              "\n",
              "        async function convertToInteractive(key) {\n",
              "          const element = document.querySelector('#df-694b8f03-7e2c-4952-93b9-ca96567db046');\n",
              "          const dataTable =\n",
              "            await google.colab.kernel.invokeFunction('convertToInteractive',\n",
              "                                                     [key], {});\n",
              "          if (!dataTable) return;\n",
              "\n",
              "          const docLinkHtml = 'Like what you see? Visit the ' +\n",
              "            '<a target=\"_blank\" href=https://colab.research.google.com/notebooks/data_table.ipynb>data table notebook</a>'\n",
              "            + ' to learn more about interactive tables.';\n",
              "          element.innerHTML = '';\n",
              "          dataTable['output_type'] = 'display_data';\n",
              "          await google.colab.output.renderOutput(dataTable, element);\n",
              "          const docLink = document.createElement('div');\n",
              "          docLink.innerHTML = docLinkHtml;\n",
              "          element.appendChild(docLink);\n",
              "        }\n",
              "      </script>\n",
              "    </div>\n",
              "  </div>\n",
              "  "
            ]
          },
          "metadata": {},
          "execution_count": 133
        }
      ]
    },
    {
      "cell_type": "code",
      "source": [
        "grouped_purchased.hist(figsize=(10, 10))"
      ],
      "metadata": {
        "colab": {
          "base_uri": "https://localhost:8080/",
          "height": 906
        },
        "id": "rSgMkMoPf_3T",
        "outputId": "8e2960ee-37de-45c6-a186-13b217685bcc"
      },
      "execution_count": null,
      "outputs": [
        {
          "output_type": "execute_result",
          "data": {
            "text/plain": [
              "array([[<Axes: title={'center': 'uid'}>, <Axes: title={'center': 'iid'}>],\n",
              "       [<Axes: title={'center': 'quantity'}>, <Axes: >]], dtype=object)"
            ]
          },
          "metadata": {},
          "execution_count": 134
        },
        {
          "output_type": "display_data",
          "data": {
            "text/plain": [
              "<Figure size 1000x1000 with 4 Axes>"
            ],
            "image/png": "[encoded data removed]"
          },
          "metadata": {}
        }
      ]
    },
    {
      "cell_type": "code",
      "source": [
        "df_sns = grouped_purchased[['uid','quantity']]. copy ()"
      ],
      "metadata": {
        "id": "N7HI8D9LcLxh"
      },
      "execution_count": null,
      "outputs": []
    },
    {
      "cell_type": "code",
      "source": [
        "customers = list(np.sort(grouped_purchased.uid.unique())) # Get our unique customers\n",
        "products = list(grouped_purchased.iid.unique()) # Get our unique products that were purchased\n",
        "quantity = list(grouped_purchased.quantity) # All of our purchases\n",
        "\n",
        "rows = grouped_purchased.uid.astype('category').cat.codes\n",
        "# Get the associated row indices\n",
        "cols = grouped_purchased.iid.astype('category').cat.codes\n",
        "# Get the associated column indices\n",
        "apps_runs_sparse = sparse.csr_matrix((quantity, (rows,cols)), shape=( len(customers),len(products)))"
      ],
      "metadata": {
        "id": "I7tcQKTchlB6"
      },
      "execution_count": null,
      "outputs": []
    },
    {
      "cell_type": "code",
      "source": [
        "print(apps_runs_sparse)"
      ],
      "metadata": {
        "colab": {
          "base_uri": "https://localhost:8080/"
        },
        "id": "qw0pxMcxoCAT",
        "outputId": "2cd55a66-8a7e-4014-8a75-33b3c31b1b3b"
      },
      "execution_count": null,
      "outputs": [
        {
          "output_type": "stream",
          "name": "stdout",
          "text": [
            "  (0, 1218)\t9038\n",
            "  (1, 1218)\t16\n",
            "  (2, 1218)\t107\n",
            "  (3, 1218)\t1\n",
            "  (4, 403)\t1\n",
            "  (4, 661)\t1\n",
            "  (5, 343)\t2\n",
            "  (5, 344)\t1\n",
            "  (5, 403)\t2\n",
            "  (5, 661)\t1\n",
            "  (5, 1111)\t1\n",
            "  (6, 343)\t1\n",
            "  (6, 474)\t1\n",
            "  (6, 660)\t1\n",
            "  (7, 20)\t59\n",
            "  (7, 145)\t582\n",
            "  (7, 403)\t1\n",
            "  (7, 474)\t1\n",
            "  (7, 661)\t1\n",
            "  (7, 1111)\t3\n",
            "  (7, 1218)\t1\n",
            "  (8, 20)\t68\n",
            "  (8, 59)\t378\n",
            "  (8, 343)\t1\n",
            "  (8, 474)\t1\n",
            "  :\t:\n",
            "  (1474, 978)\t1\n",
            "  (1474, 980)\t9\n",
            "  (1474, 1162)\t2\n",
            "  (1474, 1218)\t3\n",
            "  (1475, 1218)\t1\n",
            "  (1476, 1218)\t1\n",
            "  (1477, 1218)\t1119\n",
            "  (1478, 1218)\t1\n",
            "  (1479, 1218)\t1\n",
            "  (1480, 1218)\t2\n",
            "  (1481, 1218)\t41\n",
            "  (1482, 1218)\t1\n",
            "  (1483, 1218)\t1\n",
            "  (1484, 1218)\t7\n",
            "  (1485, 1218)\t12\n",
            "  (1486, 1218)\t2\n",
            "  (1487, 1218)\t4\n",
            "  (1488, 1218)\t1\n",
            "  (1489, 1218)\t19\n",
            "  (1490, 1218)\t22\n",
            "  (1491, 1218)\t1\n",
            "  (1492, 1218)\t2\n",
            "  (1493, 1218)\t7\n",
            "  (1494, 1218)\t2\n",
            "  (1495, 1218)\t1\n"
          ]
        }
      ]
    },
    {
      "cell_type": "code",
      "source": [
        "apps_runs_sparse"
      ],
      "metadata": {
        "colab": {
          "base_uri": "https://localhost:8080/"
        },
        "id": "B8i-fEBQhp_m",
        "outputId": "cd15a1d4-d2ec-4169-8c55-b81b01d91c97"
      },
      "execution_count": null,
      "outputs": [
        {
          "output_type": "execute_result",
          "data": {
            "text/plain": [
              "<1496x1219 sparse matrix of type '<class 'numpy.int64'>'\n",
              "\twith 5665 stored elements in Compressed Sparse Row format>"
            ]
          },
          "metadata": {},
          "execution_count": 138
        }
      ]
    },
    {
      "cell_type": "code",
      "source": [
        "matrix_size = apps_runs_sparse.shape[0]*apps_runs_sparse.shape[1] # Number of possible interactions in the matrix\n",
        "num_purchases = len(apps_runs_sparse.nonzero()[0]) # Number of items interacted with\n",
        "sparsity = 100*(1 - (num_purchases/matrix_size))\n",
        "\n",
        "\n",
        "print(1 - (num_purchases/matrix_size))"
      ],
      "metadata": {
        "colab": {
          "base_uri": "https://localhost:8080/"
        },
        "id": "mK5M21hvhxCT",
        "outputId": "4e304286-6c9e-4cdb-dc30-55c685bc50a8"
      },
      "execution_count": null,
      "outputs": [
        {
          "output_type": "stream",
          "name": "stdout",
          "text": [
            "0.9968935482314337\n"
          ]
        }
      ]
    },
    {
      "cell_type": "code",
      "source": [
        "def get_app_by_id(id):\n",
        "    return vectorizer.categories_[1][id]\n",
        "\n",
        "def get_id_by_appname(name):\n",
        "    return np.where(vectorizer.categories_[1]==name)[0][0]\n",
        "\n",
        "def get_id_by_username(name):\n",
        "    return np.where(vectorizer.categories_[0]==name)[0][0]\n",
        "\n",
        "def get_score(user, appname, matrix):\n",
        "    userid = get_id_by_username(user)\n",
        "    app_id = get_id_by_appname(appname)\n",
        "    return model.rank_items(userid,apps_runs_sparse,[app_id])\n",
        "\n",
        "def get(userid, app_id, matrix):\n",
        "\n",
        "    return model.rank_items(userid,apps_runs_sparse,[app_id])\n",
        "\n",
        "def get_similar_apps(app_name,n):\n",
        "    app_id = get_id_by_appname(app_name)\n",
        "    model_results = [tuple(x for x in row) for row in model.similar_items(app_id,n)]\n",
        "\n",
        "    print(type(model_results))\n",
        "    print(model_results)\n",
        "    output = [(get_app_by_id(int(x[0])),x[1]) for x in model_results]\n",
        "    return output"
      ],
      "metadata": {
        "id": "bM0lEhnfh28m"
      },
      "execution_count": null,
      "outputs": []
    },
    {
      "cell_type": "code",
      "source": [],
      "metadata": {
        "id": "ejLN3raUgpxf"
      },
      "execution_count": null,
      "outputs": []
    },
    {
      "cell_type": "markdown",
      "source": [
        "# Model\n"
      ],
      "metadata": {
        "id": "ry5vkOAAh5tj"
      }
    },
    {
      "cell_type": "code",
      "source": [
        "model =implicit.als.AlternatingLeastSquares(factors=50)"
      ],
      "metadata": {
        "id": "cdnc4DrEiA_T"
      },
      "execution_count": null,
      "outputs": []
    },
    {
      "cell_type": "code",
      "source": [
        "%%time\n",
        "model.fit(apps_runs_sparse)"
      ],
      "metadata": {
        "colab": {
          "base_uri": "https://localhost:8080/",
          "height": 84,
          "referenced_widgets": [
            "f5ff58fd030b44ada7716eab250c6880",
            "52199208a729440ea5204412812471be",
            "e025caedb7204502b28fb3b15d2c039d",
            "23299c5a42d547279df7ae6ad8fc171f",
            "2f6a82c8996e44ba8037b96ce529a175",
            "16364116b0d34100bdf6a36beb9d6424",
            "ba39cafa3476472da56159a8f3324908",
            "bc570a7226d84c5e96f527ece89b1310",
            "0afcb2e23ca545898c700972252206bf",
            "31e1a5d433ee4ef9b4ba259295193c4d",
            "713dec75e1df46969938e02343c4d677"
          ]
        },
        "id": "4qGboX_riGRE",
        "outputId": "ebde7e81-7fb5-405f-b5e6-59dd7140bf3e"
      },
      "execution_count": null,
      "outputs": [
        {
          "output_type": "display_data",
          "data": {
            "text/plain": [
              "  0%|          | 0/15 [00:00<?, ?it/s]"
            ],
            "application/vnd.jupyter.widget-view+json": {
              "version_major": 2,
              "version_minor": 0,
              "model_id": "f5ff58fd030b44ada7716eab250c6880"
            }
          },
          "metadata": {}
        },
        {
          "output_type": "stream",
          "name": "stdout",
          "text": [
            "CPU times: user 2.84 s, sys: 3.23 s, total: 6.06 s\n",
            "Wall time: 3.46 s\n"
          ]
        }
      ]
    },
    {
      "cell_type": "code",
      "source": [
        "pickle.dump(model,open('model_rec.pkl','wb'))"
      ],
      "metadata": {
        "id": "bn4kUZ9RiM_l"
      },
      "execution_count": null,
      "outputs": []
    },
    {
      "cell_type": "code",
      "source": [
        "with open('model_rec.pkl','wb') as file:\n",
        "    pickle.dump(model, file)"
      ],
      "metadata": {
        "id": "W20-qwUAiRaY"
      },
      "execution_count": null,
      "outputs": []
    },
    {
      "cell_type": "code",
      "source": [
        "with open('model_rec.pkl', 'rb') as f:\n",
        "\tmd = pickle.load(f)"
      ],
      "metadata": {
        "id": "FGKDyk9juXkv"
      },
      "execution_count": null,
      "outputs": []
    },
    {
      "cell_type": "code",
      "source": [
        "md"
      ],
      "metadata": {
        "colab": {
          "base_uri": "https://localhost:8080/"
        },
        "id": "sww-ZnJnxaqa",
        "outputId": "2bb8fe31-d11d-44b8-f39c-922ea57409c0"
      },
      "execution_count": null,
      "outputs": [
        {
          "output_type": "execute_result",
          "data": {
            "text/plain": [
              "<implicit.cpu.als.AlternatingLeastSquares at 0x7f578f82a710>"
            ]
          },
          "metadata": {},
          "execution_count": 44
        }
      ]
    },
    {
      "cell_type": "markdown",
      "source": [
        "# Test"
      ],
      "metadata": {
        "id": "jI41q9GaiXHW"
      }
    },
    {
      "cell_type": "code",
      "source": [
        "tf['score']=0\n",
        "tf"
      ],
      "metadata": {
        "colab": {
          "base_uri": "https://localhost:8080/",
          "height": 424
        },
        "id": "wY7Yr2ONiWPy",
        "outputId": "88cd0fd1-23f4-4a63-e782-c0f44fd75106"
      },
      "execution_count": null,
      "outputs": [
        {
          "output_type": "execute_result",
          "data": {
            "text/plain": [
              "                                    subject.account.id  \\\n",
              "0       S-1-5-21-1023191730-727829927-3985050192-22786   \n",
              "1       S-1-5-21-1023191730-727829927-3985050192-32035   \n",
              "2       S-1-5-21-1023191730-727829927-3985050192-40118   \n",
              "11       S-1-5-21-1023191730-727829927-3985050192-3408   \n",
              "13      S-1-5-21-1023191730-727829927-3985050192-36261   \n",
              "...                                                ...   \n",
              "577611  S-1-5-21-1023191730-727829927-3985050192-24126   \n",
              "577700  S-1-5-21-1023191730-727829927-3985050192-27031   \n",
              "579689  S-1-5-21-1023191730-727829927-3985050192-40333   \n",
              "579989  S-1-5-21-1023191730-727829927-3985050192-46656   \n",
              "580036   S-1-5-21-1023191730-727829927-3985050192-3575   \n",
              "\n",
              "                                   src.asset  score  \n",
              "0       1457bbb5-c440-0001-0000-0000000010de      0  \n",
              "1       165dc53b-cd40-0001-0000-0000000007ee      0  \n",
              "2       1457bbff-21c0-0001-0000-00000000147a      0  \n",
              "11      1457bbaf-7880-0001-0000-00000000100e      0  \n",
              "13      1457bbbb-e4c0-0001-0000-00000000127b      0  \n",
              "...                                      ...    ...  \n",
              "577611  1457bbbf-d6c0-0001-0000-000000001326      0  \n",
              "577700  147656e1-9fc0-0001-0000-000000000005      0  \n",
              "579689  1640c896-e1c0-0001-0000-000000000023      0  \n",
              "579989  16531e52-8580-0001-0000-0000000004b4      0  \n",
              "580036  1457bbbb-4700-0001-0000-000000001219      0  \n",
              "\n",
              "[3060 rows x 3 columns]"
            ],
            "text/html": [
              "\n",
              "  <div id=\"df-428c7d1c-f4e7-462e-bc37-45115cdc9862\">\n",
              "    <div class=\"colab-df-container\">\n",
              "      <div>\n",
              "<style scoped>\n",
              "    .dataframe tbody tr th:only-of-type {\n",
              "        vertical-align: middle;\n",
              "    }\n",
              "\n",
              "    .dataframe tbody tr th {\n",
              "        vertical-align: top;\n",
              "    }\n",
              "\n",
              "    .dataframe thead th {\n",
              "        text-align: right;\n",
              "    }\n",
              "</style>\n",
              "<table border=\"1\" class=\"dataframe\">\n",
              "  <thead>\n",
              "    <tr style=\"text-align: right;\">\n",
              "      <th></th>\n",
              "      <th>subject.account.id</th>\n",
              "      <th>src.asset</th>\n",
              "      <th>score</th>\n",
              "    </tr>\n",
              "  </thead>\n",
              "  <tbody>\n",
              "    <tr>\n",
              "      <th>0</th>\n",
              "      <td>S-1-5-21-1023191730-727829927-3985050192-22786</td>\n",
              "      <td>1457bbb5-c440-0001-0000-0000000010de</td>\n",
              "      <td>0</td>\n",
              "    </tr>\n",
              "    <tr>\n",
              "      <th>1</th>\n",
              "      <td>S-1-5-21-1023191730-727829927-3985050192-32035</td>\n",
              "      <td>165dc53b-cd40-0001-0000-0000000007ee</td>\n",
              "      <td>0</td>\n",
              "    </tr>\n",
              "    <tr>\n",
              "      <th>2</th>\n",
              "      <td>S-1-5-21-1023191730-727829927-3985050192-40118</td>\n",
              "      <td>1457bbff-21c0-0001-0000-00000000147a</td>\n",
              "      <td>0</td>\n",
              "    </tr>\n",
              "    <tr>\n",
              "      <th>11</th>\n",
              "      <td>S-1-5-21-1023191730-727829927-3985050192-3408</td>\n",
              "      <td>1457bbaf-7880-0001-0000-00000000100e</td>\n",
              "      <td>0</td>\n",
              "    </tr>\n",
              "    <tr>\n",
              "      <th>13</th>\n",
              "      <td>S-1-5-21-1023191730-727829927-3985050192-36261</td>\n",
              "      <td>1457bbbb-e4c0-0001-0000-00000000127b</td>\n",
              "      <td>0</td>\n",
              "    </tr>\n",
              "    <tr>\n",
              "      <th>...</th>\n",
              "      <td>...</td>\n",
              "      <td>...</td>\n",
              "      <td>...</td>\n",
              "    </tr>\n",
              "    <tr>\n",
              "      <th>577611</th>\n",
              "      <td>S-1-5-21-1023191730-727829927-3985050192-24126</td>\n",
              "      <td>1457bbbf-d6c0-0001-0000-000000001326</td>\n",
              "      <td>0</td>\n",
              "    </tr>\n",
              "    <tr>\n",
              "      <th>577700</th>\n",
              "      <td>S-1-5-21-1023191730-727829927-3985050192-27031</td>\n",
              "      <td>147656e1-9fc0-0001-0000-000000000005</td>\n",
              "      <td>0</td>\n",
              "    </tr>\n",
              "    <tr>\n",
              "      <th>579689</th>\n",
              "      <td>S-1-5-21-1023191730-727829927-3985050192-40333</td>\n",
              "      <td>1640c896-e1c0-0001-0000-000000000023</td>\n",
              "      <td>0</td>\n",
              "    </tr>\n",
              "    <tr>\n",
              "      <th>579989</th>\n",
              "      <td>S-1-5-21-1023191730-727829927-3985050192-46656</td>\n",
              "      <td>16531e52-8580-0001-0000-0000000004b4</td>\n",
              "      <td>0</td>\n",
              "    </tr>\n",
              "    <tr>\n",
              "      <th>580036</th>\n",
              "      <td>S-1-5-21-1023191730-727829927-3985050192-3575</td>\n",
              "      <td>1457bbbb-4700-0001-0000-000000001219</td>\n",
              "      <td>0</td>\n",
              "    </tr>\n",
              "  </tbody>\n",
              "</table>\n",
              "<p>3060 rows × 3 columns</p>\n",
              "</div>\n",
              "      <button class=\"colab-df-convert\" onclick=\"convertToInteractive('df-428c7d1c-f4e7-462e-bc37-45115cdc9862')\"\n",
              "              title=\"Convert this dataframe to an interactive table.\"\n",
              "              style=\"display:none;\">\n",
              "        \n",
              "  <svg xmlns=\"http://www.w3.org/2000/svg\" height=\"24px\"viewBox=\"0 0 24 24\"\n",
              "       width=\"24px\">\n",
              "    <path d=\"M0 0h24v24H0V0z\" fill=\"none\"/>\n",
              "    <path d=\"M18.56 5.44l.94 2.06.94-2.06 2.06-.94-2.06-.94-.94-2.06-.94 2.06-2.06.94zm-11 1L8.5 8.5l.94-2.06 2.06-.94-2.06-.94L8.5 2.5l-.94 2.06-2.06.94zm10 10l.94 2.06.94-2.06 2.06-.94-2.06-.94-.94-2.06-.94 2.06-2.06.94z\"/><path d=\"M17.41 7.96l-1.37-1.37c-.4-.4-.92-.59-1.43-.59-.52 0-1.04.2-1.43.59L10.3 9.45l-7.72 7.72c-.78.78-.78 2.05 0 2.83L4 21.41c.39.39.9.59 1.41.59.51 0 1.02-.2 1.41-.59l7.78-7.78 2.81-2.81c.8-.78.8-2.07 0-2.86zM5.41 20L4 18.59l7.72-7.72 1.47 1.35L5.41 20z\"/>\n",
              "  </svg>\n",
              "      </button>\n",
              "      \n",
              "  <style>\n",
              "    .colab-df-container {\n",
              "      display:flex;\n",
              "      flex-wrap:wrap;\n",
              "      gap: 12px;\n",
              "    }\n",
              "\n",
              "    .colab-df-convert {\n",
              "      background-color: #E8F0FE;\n",
              "      border: none;\n",
              "      border-radius: 50%;\n",
              "      cursor: pointer;\n",
              "      display: none;\n",
              "      fill: #1967D2;\n",
              "      height: 32px;\n",
              "      padding: 0 0 0 0;\n",
              "      width: 32px;\n",
              "    }\n",
              "\n",
              "    .colab-df-convert:hover {\n",
              "      background-color: #E2EBFA;\n",
              "      box-shadow: 0px 1px 2px rgba(60, 64, 67, 0.3), 0px 1px 3px 1px rgba(60, 64, 67, 0.15);\n",
              "      fill: #174EA6;\n",
              "    }\n",
              "\n",
              "    [theme=dark] .colab-df-convert {\n",
              "      background-color: #3B4455;\n",
              "      fill: #D2E3FC;\n",
              "    }\n",
              "\n",
              "    [theme=dark] .colab-df-convert:hover {\n",
              "      background-color: #434B5C;\n",
              "      box-shadow: 0px 1px 3px 1px rgba(0, 0, 0, 0.15);\n",
              "      filter: drop-shadow(0px 1px 2px rgba(0, 0, 0, 0.3));\n",
              "      fill: #FFFFFF;\n",
              "    }\n",
              "  </style>\n",
              "\n",
              "      <script>\n",
              "        const buttonEl =\n",
              "          document.querySelector('#df-428c7d1c-f4e7-462e-bc37-45115cdc9862 button.colab-df-convert');\n",
              "        buttonEl.style.display =\n",
              "          google.colab.kernel.accessAllowed ? 'block' : 'none';\n",
              "\n",
              "        async function convertToInteractive(key) {\n",
              "          const element = document.querySelector('#df-428c7d1c-f4e7-462e-bc37-45115cdc9862');\n",
              "          const dataTable =\n",
              "            await google.colab.kernel.invokeFunction('convertToInteractive',\n",
              "                                                     [key], {});\n",
              "          if (!dataTable) return;\n",
              "\n",
              "          const docLinkHtml = 'Like what you see? Visit the ' +\n",
              "            '<a target=\"_blank\" href=https://colab.research.google.com/notebooks/data_table.ipynb>data table notebook</a>'\n",
              "            + ' to learn more about interactive tables.';\n",
              "          element.innerHTML = '';\n",
              "          dataTable['output_type'] = 'display_data';\n",
              "          await google.colab.output.renderOutput(dataTable, element);\n",
              "          const docLink = document.createElement('div');\n",
              "          docLink.innerHTML = docLinkHtml;\n",
              "          element.appendChild(docLink);\n",
              "        }\n",
              "      </script>\n",
              "    </div>\n",
              "  </div>\n",
              "  "
            ]
          },
          "metadata": {},
          "execution_count": 172
        }
      ]
    },
    {
      "cell_type": "code",
      "source": [
        "tf=tf.drop_duplicates()\n",
        "tf"
      ],
      "metadata": {
        "colab": {
          "base_uri": "https://localhost:8080/",
          "height": 424
        },
        "id": "q0pK9e9ijzIh",
        "outputId": "64bb5c74-7d07-44be-d29c-ce1defdae998"
      },
      "execution_count": null,
      "outputs": [
        {
          "output_type": "execute_result",
          "data": {
            "text/plain": [
              "                                    subject.account.id  \\\n",
              "0       S-1-5-21-1023191730-727829927-3985050192-22786   \n",
              "1       S-1-5-21-1023191730-727829927-3985050192-32035   \n",
              "2       S-1-5-21-1023191730-727829927-3985050192-40118   \n",
              "11       S-1-5-21-1023191730-727829927-3985050192-3408   \n",
              "13      S-1-5-21-1023191730-727829927-3985050192-36261   \n",
              "...                                                ...   \n",
              "577700  S-1-5-21-1023191730-727829927-3985050192-27031   \n",
              "579283  S-1-5-21-1023191730-727829927-3985050192-45857   \n",
              "579689  S-1-5-21-1023191730-727829927-3985050192-40333   \n",
              "579989  S-1-5-21-1023191730-727829927-3985050192-46656   \n",
              "580036   S-1-5-21-1023191730-727829927-3985050192-3575   \n",
              "\n",
              "                                   src.asset  score  \n",
              "0       1457bbb5-c440-0001-0000-0000000010de      0  \n",
              "1       165dc53b-cd40-0001-0000-0000000007ee      0  \n",
              "2       1457bbff-21c0-0001-0000-00000000147a      0  \n",
              "11      1457bbaf-7880-0001-0000-00000000100e      0  \n",
              "13      1457bbbb-e4c0-0001-0000-00000000127b      0  \n",
              "...                                      ...    ...  \n",
              "577700  147656e1-9fc0-0001-0000-000000000005      0  \n",
              "579283                                            0  \n",
              "579689  1640c896-e1c0-0001-0000-000000000023      0  \n",
              "579989  16531e52-8580-0001-0000-0000000004b4      0  \n",
              "580036  1457bbbb-4700-0001-0000-000000001219      0  \n",
              "\n",
              "[3459 rows x 3 columns]"
            ],
            "text/html": [
              "\n",
              "  <div id=\"df-67ae3575-e47b-41ba-aa37-04f6d5a99e30\">\n",
              "    <div class=\"colab-df-container\">\n",
              "      <div>\n",
              "<style scoped>\n",
              "    .dataframe tbody tr th:only-of-type {\n",
              "        vertical-align: middle;\n",
              "    }\n",
              "\n",
              "    .dataframe tbody tr th {\n",
              "        vertical-align: top;\n",
              "    }\n",
              "\n",
              "    .dataframe thead th {\n",
              "        text-align: right;\n",
              "    }\n",
              "</style>\n",
              "<table border=\"1\" class=\"dataframe\">\n",
              "  <thead>\n",
              "    <tr style=\"text-align: right;\">\n",
              "      <th></th>\n",
              "      <th>subject.account.id</th>\n",
              "      <th>src.asset</th>\n",
              "      <th>score</th>\n",
              "    </tr>\n",
              "  </thead>\n",
              "  <tbody>\n",
              "    <tr>\n",
              "      <th>0</th>\n",
              "      <td>S-1-5-21-1023191730-727829927-3985050192-22786</td>\n",
              "      <td>1457bbb5-c440-0001-0000-0000000010de</td>\n",
              "      <td>0</td>\n",
              "    </tr>\n",
              "    <tr>\n",
              "      <th>1</th>\n",
              "      <td>S-1-5-21-1023191730-727829927-3985050192-32035</td>\n",
              "      <td>165dc53b-cd40-0001-0000-0000000007ee</td>\n",
              "      <td>0</td>\n",
              "    </tr>\n",
              "    <tr>\n",
              "      <th>2</th>\n",
              "      <td>S-1-5-21-1023191730-727829927-3985050192-40118</td>\n",
              "      <td>1457bbff-21c0-0001-0000-00000000147a</td>\n",
              "      <td>0</td>\n",
              "    </tr>\n",
              "    <tr>\n",
              "      <th>11</th>\n",
              "      <td>S-1-5-21-1023191730-727829927-3985050192-3408</td>\n",
              "      <td>1457bbaf-7880-0001-0000-00000000100e</td>\n",
              "      <td>0</td>\n",
              "    </tr>\n",
              "    <tr>\n",
              "      <th>13</th>\n",
              "      <td>S-1-5-21-1023191730-727829927-3985050192-36261</td>\n",
              "      <td>1457bbbb-e4c0-0001-0000-00000000127b</td>\n",
              "      <td>0</td>\n",
              "    </tr>\n",
              "    <tr>\n",
              "      <th>...</th>\n",
              "      <td>...</td>\n",
              "      <td>...</td>\n",
              "      <td>...</td>\n",
              "    </tr>\n",
              "    <tr>\n",
              "      <th>577700</th>\n",
              "      <td>S-1-5-21-1023191730-727829927-3985050192-27031</td>\n",
              "      <td>147656e1-9fc0-0001-0000-000000000005</td>\n",
              "      <td>0</td>\n",
              "    </tr>\n",
              "    <tr>\n",
              "      <th>579283</th>\n",
              "      <td>S-1-5-21-1023191730-727829927-3985050192-45857</td>\n",
              "      <td></td>\n",
              "      <td>0</td>\n",
              "    </tr>\n",
              "    <tr>\n",
              "      <th>579689</th>\n",
              "      <td>S-1-5-21-1023191730-727829927-3985050192-40333</td>\n",
              "      <td>1640c896-e1c0-0001-0000-000000000023</td>\n",
              "      <td>0</td>\n",
              "    </tr>\n",
              "    <tr>\n",
              "      <th>579989</th>\n",
              "      <td>S-1-5-21-1023191730-727829927-3985050192-46656</td>\n",
              "      <td>16531e52-8580-0001-0000-0000000004b4</td>\n",
              "      <td>0</td>\n",
              "    </tr>\n",
              "    <tr>\n",
              "      <th>580036</th>\n",
              "      <td>S-1-5-21-1023191730-727829927-3985050192-3575</td>\n",
              "      <td>1457bbbb-4700-0001-0000-000000001219</td>\n",
              "      <td>0</td>\n",
              "    </tr>\n",
              "  </tbody>\n",
              "</table>\n",
              "<p>3459 rows × 3 columns</p>\n",
              "</div>\n",
              "      <button class=\"colab-df-convert\" onclick=\"convertToInteractive('df-67ae3575-e47b-41ba-aa37-04f6d5a99e30')\"\n",
              "              title=\"Convert this dataframe to an interactive table.\"\n",
              "              style=\"display:none;\">\n",
              "        \n",
              "  <svg xmlns=\"http://www.w3.org/2000/svg\" height=\"24px\"viewBox=\"0 0 24 24\"\n",
              "       width=\"24px\">\n",
              "    <path d=\"M0 0h24v24H0V0z\" fill=\"none\"/>\n",
              "    <path d=\"M18.56 5.44l.94 2.06.94-2.06 2.06-.94-2.06-.94-.94-2.06-.94 2.06-2.06.94zm-11 1L8.5 8.5l.94-2.06 2.06-.94-2.06-.94L8.5 2.5l-.94 2.06-2.06.94zm10 10l.94 2.06.94-2.06 2.06-.94-2.06-.94-.94-2.06-.94 2.06-2.06.94z\"/><path d=\"M17.41 7.96l-1.37-1.37c-.4-.4-.92-.59-1.43-.59-.52 0-1.04.2-1.43.59L10.3 9.45l-7.72 7.72c-.78.78-.78 2.05 0 2.83L4 21.41c.39.39.9.59 1.41.59.51 0 1.02-.2 1.41-.59l7.78-7.78 2.81-2.81c.8-.78.8-2.07 0-2.86zM5.41 20L4 18.59l7.72-7.72 1.47 1.35L5.41 20z\"/>\n",
              "  </svg>\n",
              "      </button>\n",
              "      \n",
              "  <style>\n",
              "    .colab-df-container {\n",
              "      display:flex;\n",
              "      flex-wrap:wrap;\n",
              "      gap: 12px;\n",
              "    }\n",
              "\n",
              "    .colab-df-convert {\n",
              "      background-color: #E8F0FE;\n",
              "      border: none;\n",
              "      border-radius: 50%;\n",
              "      cursor: pointer;\n",
              "      display: none;\n",
              "      fill: #1967D2;\n",
              "      height: 32px;\n",
              "      padding: 0 0 0 0;\n",
              "      width: 32px;\n",
              "    }\n",
              "\n",
              "    .colab-df-convert:hover {\n",
              "      background-color: #E2EBFA;\n",
              "      box-shadow: 0px 1px 2px rgba(60, 64, 67, 0.3), 0px 1px 3px 1px rgba(60, 64, 67, 0.15);\n",
              "      fill: #174EA6;\n",
              "    }\n",
              "\n",
              "    [theme=dark] .colab-df-convert {\n",
              "      background-color: #3B4455;\n",
              "      fill: #D2E3FC;\n",
              "    }\n",
              "\n",
              "    [theme=dark] .colab-df-convert:hover {\n",
              "      background-color: #434B5C;\n",
              "      box-shadow: 0px 1px 3px 1px rgba(0, 0, 0, 0.15);\n",
              "      filter: drop-shadow(0px 1px 2px rgba(0, 0, 0, 0.3));\n",
              "      fill: #FFFFFF;\n",
              "    }\n",
              "  </style>\n",
              "\n",
              "      <script>\n",
              "        const buttonEl =\n",
              "          document.querySelector('#df-67ae3575-e47b-41ba-aa37-04f6d5a99e30 button.colab-df-convert');\n",
              "        buttonEl.style.display =\n",
              "          google.colab.kernel.accessAllowed ? 'block' : 'none';\n",
              "\n",
              "        async function convertToInteractive(key) {\n",
              "          const element = document.querySelector('#df-67ae3575-e47b-41ba-aa37-04f6d5a99e30');\n",
              "          const dataTable =\n",
              "            await google.colab.kernel.invokeFunction('convertToInteractive',\n",
              "                                                     [key], {});\n",
              "          if (!dataTable) return;\n",
              "\n",
              "          const docLinkHtml = 'Like what you see? Visit the ' +\n",
              "            '<a target=\"_blank\" href=https://colab.research.google.com/notebooks/data_table.ipynb>data table notebook</a>'\n",
              "            + ' to learn more about interactive tables.';\n",
              "          element.innerHTML = '';\n",
              "          dataTable['output_type'] = 'display_data';\n",
              "          await google.colab.output.renderOutput(dataTable, element);\n",
              "          const docLink = document.createElement('div');\n",
              "          docLink.innerHTML = docLinkHtml;\n",
              "          element.appendChild(docLink);\n",
              "        }\n",
              "      </script>\n",
              "    </div>\n",
              "  </div>\n",
              "  "
            ]
          },
          "metadata": {},
          "execution_count": 146
        }
      ]
    },
    {
      "cell_type": "code",
      "source": [
        "tf=tf.replace('', np.nan, regex=True)\n",
        "tf=tf.dropna()\n",
        "tf"
      ],
      "metadata": {
        "colab": {
          "base_uri": "https://localhost:8080/",
          "height": 424
        },
        "id": "LLG4pXlJj407",
        "outputId": "e12f1117-2551-478f-873e-cdd1db4c58ef"
      },
      "execution_count": null,
      "outputs": [
        {
          "output_type": "execute_result",
          "data": {
            "text/plain": [
              "                                    subject.account.id  \\\n",
              "0       S-1-5-21-1023191730-727829927-3985050192-22786   \n",
              "1       S-1-5-21-1023191730-727829927-3985050192-32035   \n",
              "2       S-1-5-21-1023191730-727829927-3985050192-40118   \n",
              "11       S-1-5-21-1023191730-727829927-3985050192-3408   \n",
              "13      S-1-5-21-1023191730-727829927-3985050192-36261   \n",
              "...                                                ...   \n",
              "577611  S-1-5-21-1023191730-727829927-3985050192-24126   \n",
              "577700  S-1-5-21-1023191730-727829927-3985050192-27031   \n",
              "579689  S-1-5-21-1023191730-727829927-3985050192-40333   \n",
              "579989  S-1-5-21-1023191730-727829927-3985050192-46656   \n",
              "580036   S-1-5-21-1023191730-727829927-3985050192-3575   \n",
              "\n",
              "                                   src.asset  score  \n",
              "0       1457bbb5-c440-0001-0000-0000000010de      0  \n",
              "1       165dc53b-cd40-0001-0000-0000000007ee      0  \n",
              "2       1457bbff-21c0-0001-0000-00000000147a      0  \n",
              "11      1457bbaf-7880-0001-0000-00000000100e      0  \n",
              "13      1457bbbb-e4c0-0001-0000-00000000127b      0  \n",
              "...                                      ...    ...  \n",
              "577611  1457bbbf-d6c0-0001-0000-000000001326      0  \n",
              "577700  147656e1-9fc0-0001-0000-000000000005      0  \n",
              "579689  1640c896-e1c0-0001-0000-000000000023      0  \n",
              "579989  16531e52-8580-0001-0000-0000000004b4      0  \n",
              "580036  1457bbbb-4700-0001-0000-000000001219      0  \n",
              "\n",
              "[3060 rows x 3 columns]"
            ],
            "text/html": [
              "\n",
              "  <div id=\"df-db0fca13-a35b-4420-a493-73c590797904\">\n",
              "    <div class=\"colab-df-container\">\n",
              "      <div>\n",
              "<style scoped>\n",
              "    .dataframe tbody tr th:only-of-type {\n",
              "        vertical-align: middle;\n",
              "    }\n",
              "\n",
              "    .dataframe tbody tr th {\n",
              "        vertical-align: top;\n",
              "    }\n",
              "\n",
              "    .dataframe thead th {\n",
              "        text-align: right;\n",
              "    }\n",
              "</style>\n",
              "<table border=\"1\" class=\"dataframe\">\n",
              "  <thead>\n",
              "    <tr style=\"text-align: right;\">\n",
              "      <th></th>\n",
              "      <th>subject.account.id</th>\n",
              "      <th>src.asset</th>\n",
              "      <th>score</th>\n",
              "    </tr>\n",
              "  </thead>\n",
              "  <tbody>\n",
              "    <tr>\n",
              "      <th>0</th>\n",
              "      <td>S-1-5-21-1023191730-727829927-3985050192-22786</td>\n",
              "      <td>1457bbb5-c440-0001-0000-0000000010de</td>\n",
              "      <td>0</td>\n",
              "    </tr>\n",
              "    <tr>\n",
              "      <th>1</th>\n",
              "      <td>S-1-5-21-1023191730-727829927-3985050192-32035</td>\n",
              "      <td>165dc53b-cd40-0001-0000-0000000007ee</td>\n",
              "      <td>0</td>\n",
              "    </tr>\n",
              "    <tr>\n",
              "      <th>2</th>\n",
              "      <td>S-1-5-21-1023191730-727829927-3985050192-40118</td>\n",
              "      <td>1457bbff-21c0-0001-0000-00000000147a</td>\n",
              "      <td>0</td>\n",
              "    </tr>\n",
              "    <tr>\n",
              "      <th>11</th>\n",
              "      <td>S-1-5-21-1023191730-727829927-3985050192-3408</td>\n",
              "      <td>1457bbaf-7880-0001-0000-00000000100e</td>\n",
              "      <td>0</td>\n",
              "    </tr>\n",
              "    <tr>\n",
              "      <th>13</th>\n",
              "      <td>S-1-5-21-1023191730-727829927-3985050192-36261</td>\n",
              "      <td>1457bbbb-e4c0-0001-0000-00000000127b</td>\n",
              "      <td>0</td>\n",
              "    </tr>\n",
              "    <tr>\n",
              "      <th>...</th>\n",
              "      <td>...</td>\n",
              "      <td>...</td>\n",
              "      <td>...</td>\n",
              "    </tr>\n",
              "    <tr>\n",
              "      <th>577611</th>\n",
              "      <td>S-1-5-21-1023191730-727829927-3985050192-24126</td>\n",
              "      <td>1457bbbf-d6c0-0001-0000-000000001326</td>\n",
              "      <td>0</td>\n",
              "    </tr>\n",
              "    <tr>\n",
              "      <th>577700</th>\n",
              "      <td>S-1-5-21-1023191730-727829927-3985050192-27031</td>\n",
              "      <td>147656e1-9fc0-0001-0000-000000000005</td>\n",
              "      <td>0</td>\n",
              "    </tr>\n",
              "    <tr>\n",
              "      <th>579689</th>\n",
              "      <td>S-1-5-21-1023191730-727829927-3985050192-40333</td>\n",
              "      <td>1640c896-e1c0-0001-0000-000000000023</td>\n",
              "      <td>0</td>\n",
              "    </tr>\n",
              "    <tr>\n",
              "      <th>579989</th>\n",
              "      <td>S-1-5-21-1023191730-727829927-3985050192-46656</td>\n",
              "      <td>16531e52-8580-0001-0000-0000000004b4</td>\n",
              "      <td>0</td>\n",
              "    </tr>\n",
              "    <tr>\n",
              "      <th>580036</th>\n",
              "      <td>S-1-5-21-1023191730-727829927-3985050192-3575</td>\n",
              "      <td>1457bbbb-4700-0001-0000-000000001219</td>\n",
              "      <td>0</td>\n",
              "    </tr>\n",
              "  </tbody>\n",
              "</table>\n",
              "<p>3060 rows × 3 columns</p>\n",
              "</div>\n",
              "      <button class=\"colab-df-convert\" onclick=\"convertToInteractive('df-db0fca13-a35b-4420-a493-73c590797904')\"\n",
              "              title=\"Convert this dataframe to an interactive table.\"\n",
              "              style=\"display:none;\">\n",
              "        \n",
              "  <svg xmlns=\"http://www.w3.org/2000/svg\" height=\"24px\"viewBox=\"0 0 24 24\"\n",
              "       width=\"24px\">\n",
              "    <path d=\"M0 0h24v24H0V0z\" fill=\"none\"/>\n",
              "    <path d=\"M18.56 5.44l.94 2.06.94-2.06 2.06-.94-2.06-.94-.94-2.06-.94 2.06-2.06.94zm-11 1L8.5 8.5l.94-2.06 2.06-.94-2.06-.94L8.5 2.5l-.94 2.06-2.06.94zm10 10l.94 2.06.94-2.06 2.06-.94-2.06-.94-.94-2.06-.94 2.06-2.06.94z\"/><path d=\"M17.41 7.96l-1.37-1.37c-.4-.4-.92-.59-1.43-.59-.52 0-1.04.2-1.43.59L10.3 9.45l-7.72 7.72c-.78.78-.78 2.05 0 2.83L4 21.41c.39.39.9.59 1.41.59.51 0 1.02-.2 1.41-.59l7.78-7.78 2.81-2.81c.8-.78.8-2.07 0-2.86zM5.41 20L4 18.59l7.72-7.72 1.47 1.35L5.41 20z\"/>\n",
              "  </svg>\n",
              "      </button>\n",
              "      \n",
              "  <style>\n",
              "    .colab-df-container {\n",
              "      display:flex;\n",
              "      flex-wrap:wrap;\n",
              "      gap: 12px;\n",
              "    }\n",
              "\n",
              "    .colab-df-convert {\n",
              "      background-color: #E8F0FE;\n",
              "      border: none;\n",
              "      border-radius: 50%;\n",
              "      cursor: pointer;\n",
              "      display: none;\n",
              "      fill: #1967D2;\n",
              "      height: 32px;\n",
              "      padding: 0 0 0 0;\n",
              "      width: 32px;\n",
              "    }\n",
              "\n",
              "    .colab-df-convert:hover {\n",
              "      background-color: #E2EBFA;\n",
              "      box-shadow: 0px 1px 2px rgba(60, 64, 67, 0.3), 0px 1px 3px 1px rgba(60, 64, 67, 0.15);\n",
              "      fill: #174EA6;\n",
              "    }\n",
              "\n",
              "    [theme=dark] .colab-df-convert {\n",
              "      background-color: #3B4455;\n",
              "      fill: #D2E3FC;\n",
              "    }\n",
              "\n",
              "    [theme=dark] .colab-df-convert:hover {\n",
              "      background-color: #434B5C;\n",
              "      box-shadow: 0px 1px 3px 1px rgba(0, 0, 0, 0.15);\n",
              "      filter: drop-shadow(0px 1px 2px rgba(0, 0, 0, 0.3));\n",
              "      fill: #FFFFFF;\n",
              "    }\n",
              "  </style>\n",
              "\n",
              "      <script>\n",
              "        const buttonEl =\n",
              "          document.querySelector('#df-db0fca13-a35b-4420-a493-73c590797904 button.colab-df-convert');\n",
              "        buttonEl.style.display =\n",
              "          google.colab.kernel.accessAllowed ? 'block' : 'none';\n",
              "\n",
              "        async function convertToInteractive(key) {\n",
              "          const element = document.querySelector('#df-db0fca13-a35b-4420-a493-73c590797904');\n",
              "          const dataTable =\n",
              "            await google.colab.kernel.invokeFunction('convertToInteractive',\n",
              "                                                     [key], {});\n",
              "          if (!dataTable) return;\n",
              "\n",
              "          const docLinkHtml = 'Like what you see? Visit the ' +\n",
              "            '<a target=\"_blank\" href=https://colab.research.google.com/notebooks/data_table.ipynb>data table notebook</a>'\n",
              "            + ' to learn more about interactive tables.';\n",
              "          element.innerHTML = '';\n",
              "          dataTable['output_type'] = 'display_data';\n",
              "          await google.colab.output.renderOutput(dataTable, element);\n",
              "          const docLink = document.createElement('div');\n",
              "          docLink.innerHTML = docLinkHtml;\n",
              "          element.appendChild(docLink);\n",
              "        }\n",
              "      </script>\n",
              "    </div>\n",
              "  </div>\n",
              "  "
            ]
          },
          "metadata": {},
          "execution_count": 173
        }
      ]
    },
    {
      "cell_type": "code",
      "source": [
        "u=df['subject.account.id'].drop_duplicates()\n",
        "u=u.to_list()\n",
        "h=df['src.asset'].drop_duplicates()\n",
        "h=h.fillna('un')\n",
        "h=h.to_list()\n"
      ],
      "metadata": {
        "id": "1xwOxK19j6nB"
      },
      "execution_count": null,
      "outputs": []
    },
    {
      "cell_type": "code",
      "source": [
        "tf1=tf.fillna('un')\n",
        "tf1"
      ],
      "metadata": {
        "colab": {
          "base_uri": "https://localhost:8080/",
          "height": 424
        },
        "id": "zKf6FOSFkPRi",
        "outputId": "1e31159a-9aaf-459f-8ec7-06d3bfcc1502"
      },
      "execution_count": null,
      "outputs": [
        {
          "output_type": "execute_result",
          "data": {
            "text/plain": [
              "                                    subject.account.id  \\\n",
              "0       S-1-5-21-1023191730-727829927-3985050192-22786   \n",
              "1       S-1-5-21-1023191730-727829927-3985050192-32035   \n",
              "2       S-1-5-21-1023191730-727829927-3985050192-40118   \n",
              "11       S-1-5-21-1023191730-727829927-3985050192-3408   \n",
              "13      S-1-5-21-1023191730-727829927-3985050192-36261   \n",
              "...                                                ...   \n",
              "577611  S-1-5-21-1023191730-727829927-3985050192-24126   \n",
              "577700  S-1-5-21-1023191730-727829927-3985050192-27031   \n",
              "579689  S-1-5-21-1023191730-727829927-3985050192-40333   \n",
              "579989  S-1-5-21-1023191730-727829927-3985050192-46656   \n",
              "580036   S-1-5-21-1023191730-727829927-3985050192-3575   \n",
              "\n",
              "                                   src.asset  score  \n",
              "0       1457bbb5-c440-0001-0000-0000000010de      0  \n",
              "1       165dc53b-cd40-0001-0000-0000000007ee      0  \n",
              "2       1457bbff-21c0-0001-0000-00000000147a      0  \n",
              "11      1457bbaf-7880-0001-0000-00000000100e      0  \n",
              "13      1457bbbb-e4c0-0001-0000-00000000127b      0  \n",
              "...                                      ...    ...  \n",
              "577611  1457bbbf-d6c0-0001-0000-000000001326      0  \n",
              "577700  147656e1-9fc0-0001-0000-000000000005      0  \n",
              "579689  1640c896-e1c0-0001-0000-000000000023      0  \n",
              "579989  16531e52-8580-0001-0000-0000000004b4      0  \n",
              "580036  1457bbbb-4700-0001-0000-000000001219      0  \n",
              "\n",
              "[3060 rows x 3 columns]"
            ],
            "text/html": [
              "\n",
              "  <div id=\"df-643481a1-3a16-4890-9aae-552ee928b1be\">\n",
              "    <div class=\"colab-df-container\">\n",
              "      <div>\n",
              "<style scoped>\n",
              "    .dataframe tbody tr th:only-of-type {\n",
              "        vertical-align: middle;\n",
              "    }\n",
              "\n",
              "    .dataframe tbody tr th {\n",
              "        vertical-align: top;\n",
              "    }\n",
              "\n",
              "    .dataframe thead th {\n",
              "        text-align: right;\n",
              "    }\n",
              "</style>\n",
              "<table border=\"1\" class=\"dataframe\">\n",
              "  <thead>\n",
              "    <tr style=\"text-align: right;\">\n",
              "      <th></th>\n",
              "      <th>subject.account.id</th>\n",
              "      <th>src.asset</th>\n",
              "      <th>score</th>\n",
              "    </tr>\n",
              "  </thead>\n",
              "  <tbody>\n",
              "    <tr>\n",
              "      <th>0</th>\n",
              "      <td>S-1-5-21-1023191730-727829927-3985050192-22786</td>\n",
              "      <td>1457bbb5-c440-0001-0000-0000000010de</td>\n",
              "      <td>0</td>\n",
              "    </tr>\n",
              "    <tr>\n",
              "      <th>1</th>\n",
              "      <td>S-1-5-21-1023191730-727829927-3985050192-32035</td>\n",
              "      <td>165dc53b-cd40-0001-0000-0000000007ee</td>\n",
              "      <td>0</td>\n",
              "    </tr>\n",
              "    <tr>\n",
              "      <th>2</th>\n",
              "      <td>S-1-5-21-1023191730-727829927-3985050192-40118</td>\n",
              "      <td>1457bbff-21c0-0001-0000-00000000147a</td>\n",
              "      <td>0</td>\n",
              "    </tr>\n",
              "    <tr>\n",
              "      <th>11</th>\n",
              "      <td>S-1-5-21-1023191730-727829927-3985050192-3408</td>\n",
              "      <td>1457bbaf-7880-0001-0000-00000000100e</td>\n",
              "      <td>0</td>\n",
              "    </tr>\n",
              "    <tr>\n",
              "      <th>13</th>\n",
              "      <td>S-1-5-21-1023191730-727829927-3985050192-36261</td>\n",
              "      <td>1457bbbb-e4c0-0001-0000-00000000127b</td>\n",
              "      <td>0</td>\n",
              "    </tr>\n",
              "    <tr>\n",
              "      <th>...</th>\n",
              "      <td>...</td>\n",
              "      <td>...</td>\n",
              "      <td>...</td>\n",
              "    </tr>\n",
              "    <tr>\n",
              "      <th>577611</th>\n",
              "      <td>S-1-5-21-1023191730-727829927-3985050192-24126</td>\n",
              "      <td>1457bbbf-d6c0-0001-0000-000000001326</td>\n",
              "      <td>0</td>\n",
              "    </tr>\n",
              "    <tr>\n",
              "      <th>577700</th>\n",
              "      <td>S-1-5-21-1023191730-727829927-3985050192-27031</td>\n",
              "      <td>147656e1-9fc0-0001-0000-000000000005</td>\n",
              "      <td>0</td>\n",
              "    </tr>\n",
              "    <tr>\n",
              "      <th>579689</th>\n",
              "      <td>S-1-5-21-1023191730-727829927-3985050192-40333</td>\n",
              "      <td>1640c896-e1c0-0001-0000-000000000023</td>\n",
              "      <td>0</td>\n",
              "    </tr>\n",
              "    <tr>\n",
              "      <th>579989</th>\n",
              "      <td>S-1-5-21-1023191730-727829927-3985050192-46656</td>\n",
              "      <td>16531e52-8580-0001-0000-0000000004b4</td>\n",
              "      <td>0</td>\n",
              "    </tr>\n",
              "    <tr>\n",
              "      <th>580036</th>\n",
              "      <td>S-1-5-21-1023191730-727829927-3985050192-3575</td>\n",
              "      <td>1457bbbb-4700-0001-0000-000000001219</td>\n",
              "      <td>0</td>\n",
              "    </tr>\n",
              "  </tbody>\n",
              "</table>\n",
              "<p>3060 rows × 3 columns</p>\n",
              "</div>\n",
              "      <button class=\"colab-df-convert\" onclick=\"convertToInteractive('df-643481a1-3a16-4890-9aae-552ee928b1be')\"\n",
              "              title=\"Convert this dataframe to an interactive table.\"\n",
              "              style=\"display:none;\">\n",
              "        \n",
              "  <svg xmlns=\"http://www.w3.org/2000/svg\" height=\"24px\"viewBox=\"0 0 24 24\"\n",
              "       width=\"24px\">\n",
              "    <path d=\"M0 0h24v24H0V0z\" fill=\"none\"/>\n",
              "    <path d=\"M18.56 5.44l.94 2.06.94-2.06 2.06-.94-2.06-.94-.94-2.06-.94 2.06-2.06.94zm-11 1L8.5 8.5l.94-2.06 2.06-.94-2.06-.94L8.5 2.5l-.94 2.06-2.06.94zm10 10l.94 2.06.94-2.06 2.06-.94-2.06-.94-.94-2.06-.94 2.06-2.06.94z\"/><path d=\"M17.41 7.96l-1.37-1.37c-.4-.4-.92-.59-1.43-.59-.52 0-1.04.2-1.43.59L10.3 9.45l-7.72 7.72c-.78.78-.78 2.05 0 2.83L4 21.41c.39.39.9.59 1.41.59.51 0 1.02-.2 1.41-.59l7.78-7.78 2.81-2.81c.8-.78.8-2.07 0-2.86zM5.41 20L4 18.59l7.72-7.72 1.47 1.35L5.41 20z\"/>\n",
              "  </svg>\n",
              "      </button>\n",
              "      \n",
              "  <style>\n",
              "    .colab-df-container {\n",
              "      display:flex;\n",
              "      flex-wrap:wrap;\n",
              "      gap: 12px;\n",
              "    }\n",
              "\n",
              "    .colab-df-convert {\n",
              "      background-color: #E8F0FE;\n",
              "      border: none;\n",
              "      border-radius: 50%;\n",
              "      cursor: pointer;\n",
              "      display: none;\n",
              "      fill: #1967D2;\n",
              "      height: 32px;\n",
              "      padding: 0 0 0 0;\n",
              "      width: 32px;\n",
              "    }\n",
              "\n",
              "    .colab-df-convert:hover {\n",
              "      background-color: #E2EBFA;\n",
              "      box-shadow: 0px 1px 2px rgba(60, 64, 67, 0.3), 0px 1px 3px 1px rgba(60, 64, 67, 0.15);\n",
              "      fill: #174EA6;\n",
              "    }\n",
              "\n",
              "    [theme=dark] .colab-df-convert {\n",
              "      background-color: #3B4455;\n",
              "      fill: #D2E3FC;\n",
              "    }\n",
              "\n",
              "    [theme=dark] .colab-df-convert:hover {\n",
              "      background-color: #434B5C;\n",
              "      box-shadow: 0px 1px 3px 1px rgba(0, 0, 0, 0.15);\n",
              "      filter: drop-shadow(0px 1px 2px rgba(0, 0, 0, 0.3));\n",
              "      fill: #FFFFFF;\n",
              "    }\n",
              "  </style>\n",
              "\n",
              "      <script>\n",
              "        const buttonEl =\n",
              "          document.querySelector('#df-643481a1-3a16-4890-9aae-552ee928b1be button.colab-df-convert');\n",
              "        buttonEl.style.display =\n",
              "          google.colab.kernel.accessAllowed ? 'block' : 'none';\n",
              "\n",
              "        async function convertToInteractive(key) {\n",
              "          const element = document.querySelector('#df-643481a1-3a16-4890-9aae-552ee928b1be');\n",
              "          const dataTable =\n",
              "            await google.colab.kernel.invokeFunction('convertToInteractive',\n",
              "                                                     [key], {});\n",
              "          if (!dataTable) return;\n",
              "\n",
              "          const docLinkHtml = 'Like what you see? Visit the ' +\n",
              "            '<a target=\"_blank\" href=https://colab.research.google.com/notebooks/data_table.ipynb>data table notebook</a>'\n",
              "            + ' to learn more about interactive tables.';\n",
              "          element.innerHTML = '';\n",
              "          dataTable['output_type'] = 'display_data';\n",
              "          await google.colab.output.renderOutput(dataTable, element);\n",
              "          const docLink = document.createElement('div');\n",
              "          docLink.innerHTML = docLinkHtml;\n",
              "          element.appendChild(docLink);\n",
              "        }\n",
              "      </script>\n",
              "    </div>\n",
              "  </div>\n",
              "  "
            ]
          },
          "metadata": {},
          "execution_count": 97
        }
      ]
    },
    {
      "cell_type": "code",
      "source": [
        "%%time\n",
        "for i in range(0,len(tf)):\n",
        "    if (tf.iloc[i,0] in u) and (tf.iloc[i,1] in h):\n",
        "       tf.iloc[i,2]=get_score(tf.iloc[i,0], tf.iloc[i,1],apps_runs_sparse)[1]\n",
        "    else: tf.iloc[i,2]=0"
      ],
      "metadata": {
        "colab": {
          "base_uri": "https://localhost:8080/"
        },
        "id": "xs2RELaLkWmA",
        "outputId": "2327cffe-5f2a-48cc-d064-54ca5e17a0e3"
      },
      "execution_count": null,
      "outputs": [
        {
          "output_type": "stream",
          "name": "stdout",
          "text": [
            "CPU times: user 1.15 s, sys: 18.1 ms, total: 1.16 s\n",
            "Wall time: 1.18 s\n"
          ]
        }
      ]
    },
    {
      "cell_type": "code",
      "source": [
        "tf"
      ],
      "metadata": {
        "colab": {
          "base_uri": "https://localhost:8080/",
          "height": 424
        },
        "id": "vspb-Wuskh2R",
        "outputId": "c96fc2ab-ca0c-4e5e-a7ed-eff230e10474"
      },
      "execution_count": null,
      "outputs": [
        {
          "output_type": "execute_result",
          "data": {
            "text/plain": [
              "                                    subject.account.id  \\\n",
              "0       S-1-5-21-1023191730-727829927-3985050192-22786   \n",
              "1       S-1-5-21-1023191730-727829927-3985050192-32035   \n",
              "2       S-1-5-21-1023191730-727829927-3985050192-40118   \n",
              "11       S-1-5-21-1023191730-727829927-3985050192-3408   \n",
              "13      S-1-5-21-1023191730-727829927-3985050192-36261   \n",
              "...                                                ...   \n",
              "577611  S-1-5-21-1023191730-727829927-3985050192-24126   \n",
              "577700  S-1-5-21-1023191730-727829927-3985050192-27031   \n",
              "579689  S-1-5-21-1023191730-727829927-3985050192-40333   \n",
              "579989  S-1-5-21-1023191730-727829927-3985050192-46656   \n",
              "580036   S-1-5-21-1023191730-727829927-3985050192-3575   \n",
              "\n",
              "                                   src.asset     score  \n",
              "0       1457bbb5-c440-0001-0000-0000000010de  0.999335  \n",
              "1       165dc53b-cd40-0001-0000-0000000007ee  0.999786  \n",
              "2       1457bbff-21c0-0001-0000-00000000147a  0.996264  \n",
              "11      1457bbaf-7880-0001-0000-00000000100e  0.998475  \n",
              "13      1457bbbb-e4c0-0001-0000-00000000127b  0.999462  \n",
              "...                                      ...       ...  \n",
              "577611  1457bbbf-d6c0-0001-0000-000000001326  0.087383  \n",
              "577700  147656e1-9fc0-0001-0000-000000000005  1.045987  \n",
              "579689  1640c896-e1c0-0001-0000-000000000023  1.219877  \n",
              "579989  16531e52-8580-0001-0000-0000000004b4  0.013471  \n",
              "580036  1457bbbb-4700-0001-0000-000000001219  0.906661  \n",
              "\n",
              "[3060 rows x 3 columns]"
            ],
            "text/html": [
              "\n",
              "  <div id=\"df-ccea26e2-4e35-44a3-8ceb-1c9699e5a3c3\">\n",
              "    <div class=\"colab-df-container\">\n",
              "      <div>\n",
              "<style scoped>\n",
              "    .dataframe tbody tr th:only-of-type {\n",
              "        vertical-align: middle;\n",
              "    }\n",
              "\n",
              "    .dataframe tbody tr th {\n",
              "        vertical-align: top;\n",
              "    }\n",
              "\n",
              "    .dataframe thead th {\n",
              "        text-align: right;\n",
              "    }\n",
              "</style>\n",
              "<table border=\"1\" class=\"dataframe\">\n",
              "  <thead>\n",
              "    <tr style=\"text-align: right;\">\n",
              "      <th></th>\n",
              "      <th>subject.account.id</th>\n",
              "      <th>src.asset</th>\n",
              "      <th>score</th>\n",
              "    </tr>\n",
              "  </thead>\n",
              "  <tbody>\n",
              "    <tr>\n",
              "      <th>0</th>\n",
              "      <td>S-1-5-21-1023191730-727829927-3985050192-22786</td>\n",
              "      <td>1457bbb5-c440-0001-0000-0000000010de</td>\n",
              "      <td>0.999335</td>\n",
              "    </tr>\n",
              "    <tr>\n",
              "      <th>1</th>\n",
              "      <td>S-1-5-21-1023191730-727829927-3985050192-32035</td>\n",
              "      <td>165dc53b-cd40-0001-0000-0000000007ee</td>\n",
              "      <td>0.999786</td>\n",
              "    </tr>\n",
              "    <tr>\n",
              "      <th>2</th>\n",
              "      <td>S-1-5-21-1023191730-727829927-3985050192-40118</td>\n",
              "      <td>1457bbff-21c0-0001-0000-00000000147a</td>\n",
              "      <td>0.996264</td>\n",
              "    </tr>\n",
              "    <tr>\n",
              "      <th>11</th>\n",
              "      <td>S-1-5-21-1023191730-727829927-3985050192-3408</td>\n",
              "      <td>1457bbaf-7880-0001-0000-00000000100e</td>\n",
              "      <td>0.998475</td>\n",
              "    </tr>\n",
              "    <tr>\n",
              "      <th>13</th>\n",
              "      <td>S-1-5-21-1023191730-727829927-3985050192-36261</td>\n",
              "      <td>1457bbbb-e4c0-0001-0000-00000000127b</td>\n",
              "      <td>0.999462</td>\n",
              "    </tr>\n",
              "    <tr>\n",
              "      <th>...</th>\n",
              "      <td>...</td>\n",
              "      <td>...</td>\n",
              "      <td>...</td>\n",
              "    </tr>\n",
              "    <tr>\n",
              "      <th>577611</th>\n",
              "      <td>S-1-5-21-1023191730-727829927-3985050192-24126</td>\n",
              "      <td>1457bbbf-d6c0-0001-0000-000000001326</td>\n",
              "      <td>0.087383</td>\n",
              "    </tr>\n",
              "    <tr>\n",
              "      <th>577700</th>\n",
              "      <td>S-1-5-21-1023191730-727829927-3985050192-27031</td>\n",
              "      <td>147656e1-9fc0-0001-0000-000000000005</td>\n",
              "      <td>1.045987</td>\n",
              "    </tr>\n",
              "    <tr>\n",
              "      <th>579689</th>\n",
              "      <td>S-1-5-21-1023191730-727829927-3985050192-40333</td>\n",
              "      <td>1640c896-e1c0-0001-0000-000000000023</td>\n",
              "      <td>1.219877</td>\n",
              "    </tr>\n",
              "    <tr>\n",
              "      <th>579989</th>\n",
              "      <td>S-1-5-21-1023191730-727829927-3985050192-46656</td>\n",
              "      <td>16531e52-8580-0001-0000-0000000004b4</td>\n",
              "      <td>0.013471</td>\n",
              "    </tr>\n",
              "    <tr>\n",
              "      <th>580036</th>\n",
              "      <td>S-1-5-21-1023191730-727829927-3985050192-3575</td>\n",
              "      <td>1457bbbb-4700-0001-0000-000000001219</td>\n",
              "      <td>0.906661</td>\n",
              "    </tr>\n",
              "  </tbody>\n",
              "</table>\n",
              "<p>3060 rows × 3 columns</p>\n",
              "</div>\n",
              "      <button class=\"colab-df-convert\" onclick=\"convertToInteractive('df-ccea26e2-4e35-44a3-8ceb-1c9699e5a3c3')\"\n",
              "              title=\"Convert this dataframe to an interactive table.\"\n",
              "              style=\"display:none;\">\n",
              "        \n",
              "  <svg xmlns=\"http://www.w3.org/2000/svg\" height=\"24px\"viewBox=\"0 0 24 24\"\n",
              "       width=\"24px\">\n",
              "    <path d=\"M0 0h24v24H0V0z\" fill=\"none\"/>\n",
              "    <path d=\"M18.56 5.44l.94 2.06.94-2.06 2.06-.94-2.06-.94-.94-2.06-.94 2.06-2.06.94zm-11 1L8.5 8.5l.94-2.06 2.06-.94-2.06-.94L8.5 2.5l-.94 2.06-2.06.94zm10 10l.94 2.06.94-2.06 2.06-.94-2.06-.94-.94-2.06-.94 2.06-2.06.94z\"/><path d=\"M17.41 7.96l-1.37-1.37c-.4-.4-.92-.59-1.43-.59-.52 0-1.04.2-1.43.59L10.3 9.45l-7.72 7.72c-.78.78-.78 2.05 0 2.83L4 21.41c.39.39.9.59 1.41.59.51 0 1.02-.2 1.41-.59l7.78-7.78 2.81-2.81c.8-.78.8-2.07 0-2.86zM5.41 20L4 18.59l7.72-7.72 1.47 1.35L5.41 20z\"/>\n",
              "  </svg>\n",
              "      </button>\n",
              "      \n",
              "  <style>\n",
              "    .colab-df-container {\n",
              "      display:flex;\n",
              "      flex-wrap:wrap;\n",
              "      gap: 12px;\n",
              "    }\n",
              "\n",
              "    .colab-df-convert {\n",
              "      background-color: #E8F0FE;\n",
              "      border: none;\n",
              "      border-radius: 50%;\n",
              "      cursor: pointer;\n",
              "      display: none;\n",
              "      fill: #1967D2;\n",
              "      height: 32px;\n",
              "      padding: 0 0 0 0;\n",
              "      width: 32px;\n",
              "    }\n",
              "\n",
              "    .colab-df-convert:hover {\n",
              "      background-color: #E2EBFA;\n",
              "      box-shadow: 0px 1px 2px rgba(60, 64, 67, 0.3), 0px 1px 3px 1px rgba(60, 64, 67, 0.15);\n",
              "      fill: #174EA6;\n",
              "    }\n",
              "\n",
              "    [theme=dark] .colab-df-convert {\n",
              "      background-color: #3B4455;\n",
              "      fill: #D2E3FC;\n",
              "    }\n",
              "\n",
              "    [theme=dark] .colab-df-convert:hover {\n",
              "      background-color: #434B5C;\n",
              "      box-shadow: 0px 1px 3px 1px rgba(0, 0, 0, 0.15);\n",
              "      filter: drop-shadow(0px 1px 2px rgba(0, 0, 0, 0.3));\n",
              "      fill: #FFFFFF;\n",
              "    }\n",
              "  </style>\n",
              "\n",
              "      <script>\n",
              "        const buttonEl =\n",
              "          document.querySelector('#df-ccea26e2-4e35-44a3-8ceb-1c9699e5a3c3 button.colab-df-convert');\n",
              "        buttonEl.style.display =\n",
              "          google.colab.kernel.accessAllowed ? 'block' : 'none';\n",
              "\n",
              "        async function convertToInteractive(key) {\n",
              "          const element = document.querySelector('#df-ccea26e2-4e35-44a3-8ceb-1c9699e5a3c3');\n",
              "          const dataTable =\n",
              "            await google.colab.kernel.invokeFunction('convertToInteractive',\n",
              "                                                     [key], {});\n",
              "          if (!dataTable) return;\n",
              "\n",
              "          const docLinkHtml = 'Like what you see? Visit the ' +\n",
              "            '<a target=\"_blank\" href=https://colab.research.google.com/notebooks/data_table.ipynb>data table notebook</a>'\n",
              "            + ' to learn more about interactive tables.';\n",
              "          element.innerHTML = '';\n",
              "          dataTable['output_type'] = 'display_data';\n",
              "          await google.colab.output.renderOutput(dataTable, element);\n",
              "          const docLink = document.createElement('div');\n",
              "          docLink.innerHTML = docLinkHtml;\n",
              "          element.appendChild(docLink);\n",
              "        }\n",
              "      </script>\n",
              "    </div>\n",
              "  </div>\n",
              "  "
            ]
          },
          "metadata": {},
          "execution_count": 176
        }
      ]
    },
    {
      "cell_type": "code",
      "source": [
        "tf.hist(figsize=(5, 5))"
      ],
      "metadata": {
        "colab": {
          "base_uri": "https://localhost:8080/",
          "height": 485
        },
        "id": "P7SK2nuLbW9w",
        "outputId": "fa07d8d9-7331-447f-b170-5059154f08d1"
      },
      "execution_count": null,
      "outputs": [
        {
          "output_type": "execute_result",
          "data": {
            "text/plain": [
              "array([[<Axes: title={'center': 'score'}>]], dtype=object)"
            ]
          },
          "metadata": {},
          "execution_count": 177
        },
        {
          "output_type": "display_data",
          "data": {
            "text/plain": [
              "<Figure size 500x500 with 1 Axes>"
            ],
            "image/png": "[encoded data removed]"
          },
          "metadata": {}
        }
      ]
    },
    {
      "cell_type": "code",
      "source": [
        "import seaborn as sns\n",
        "sns.stripplot(tf.score, jitter=0.4, size=4, linewidth=.4)\n",
        "\n",
        "# Decorations\n",
        "plt.title('Распределение значений score', fontsize=18)\n",
        "plt.show()"
      ],
      "metadata": {
        "colab": {
          "base_uri": "https://localhost:8080/",
          "height": 438
        },
        "id": "NUyoxaRIdggf",
        "outputId": "b880347b-a65f-42f7-993e-23744b573670"
      },
      "execution_count": null,
      "outputs": [
        {
          "output_type": "display_data",
          "data": {
            "text/plain": [
              "<Figure size 640x480 with 1 Axes>"
            ],
            "image/png": "[encoded data removed]"
          },
          "metadata": {}
        }
      ]
    },
    {
      "cell_type": "code",
      "source": [
        "tf['subject.account.id'][tf['score']<0].count()"
      ],
      "metadata": {
        "colab": {
          "base_uri": "https://localhost:8080/"
        },
        "id": "o-NiOZvykoEd",
        "outputId": "dcec07ac-2873-40b2-91bf-c9ea2d030470"
      },
      "execution_count": null,
      "outputs": [
        {
          "output_type": "execute_result",
          "data": {
            "text/plain": [
              "172"
            ]
          },
          "metadata": {},
          "execution_count": 179
        }
      ]
    },
    {
      "cell_type": "code",
      "source": [
        "tf['subject.account.id'][tf['score']==0].count()"
      ],
      "metadata": {
        "colab": {
          "base_uri": "https://localhost:8080/"
        },
        "id": "myYnF6PukvF7",
        "outputId": "419da57f-b175-42d0-ee27-f7582cf5d5dd"
      },
      "execution_count": null,
      "outputs": [
        {
          "output_type": "execute_result",
          "data": {
            "text/plain": [
              "20"
            ]
          },
          "metadata": {},
          "execution_count": 55
        }
      ]
    },
    {
      "cell_type": "code",
      "source": [
        "tf['subject.account.id'][tf['score']>0].count()"
      ],
      "metadata": {
        "colab": {
          "base_uri": "https://localhost:8080/"
        },
        "id": "at66sPXak7C4",
        "outputId": "45212218-cde2-4d41-9f1d-8bc5a79c50be"
      },
      "execution_count": null,
      "outputs": [
        {
          "output_type": "execute_result",
          "data": {
            "text/plain": [
              "2868"
            ]
          },
          "metadata": {},
          "execution_count": 180
        }
      ]
    },
    {
      "cell_type": "markdown",
      "source": [
        "# Evaluate"
      ],
      "metadata": {
        "id": "Nc22bLFtmoTb"
      }
    },
    {
      "cell_type": "code",
      "source": [
        "def calc_mean_auc(training_set, altered_users, predictions, test_set):\n",
        "\n",
        "\n",
        "    store_auc = [] # An empty list to store the AUC for each user that had an item removed from the training set\n",
        "    popularity_auc = [] # To store popular AUC scores\n",
        "    pop_items = np.array(test_set.sum(axis = 1)).reshape(-1) # Get sum of item iteractions to find most popular\n",
        "    item_vecs = predictions[1]\n",
        "    for user in altered_users: # Iterate through each user that had an item altered\n",
        "        training_row = training_set[:,user].toarray().reshape(-1) # Get the training set row\n",
        "        zero_inds = np.where(training_row == 0)\n",
        "        # Get the predicted values based on our user/item vectors\n",
        "        user_vec = predictions[0][user,:]\n",
        "        #pred = user_vec.dot(item_vecs).toarray()[0,zero_inds].reshape(-1)\n",
        "        pred = user_vec.reshape(1, -1).dot(item_vecs)[0, zero_inds].reshape(-1)\n",
        "        # Get only the items that were originally zero\n",
        "        # Select all ratings from the MF prediction for this user that originally had no iteraction\n",
        "        actual = test_set[:,user].toarray()[zero_inds].reshape(-1)\n",
        "        # Select the binarized yes/no interaction pairs from the original full data\n",
        "        # that align with the same pairs in training\n",
        "        pop = pop_items[zero_inds] # Get the item popularity for our chosen items\n",
        "        store_auc.append(auc_score(pred, actual)) # Calculate AUC for the given user and store\n",
        "        popularity_auc.append(auc_score(pop, actual)) # Calculate AUC using most popular and score\n",
        "    # End users iteration\n",
        "\n",
        "    return float('%.3f'%np.mean(store_auc)), float('%.3f'%np.mean(popularity_auc))\n",
        "   # Return the mean AUC rounded to three decimal places for both test and popularity benchmark"
      ],
      "metadata": {
        "id": "vId5s1rZk_TB"
      },
      "execution_count": null,
      "outputs": []
    },
    {
      "cell_type": "code",
      "source": [
        "def auc_score(predictions, test):\n",
        "\n",
        "    fpr, tpr, thresholds = metrics.roc_curve(test, predictions)\n",
        "    return metrics.auc(fpr, tpr)"
      ],
      "metadata": {
        "id": "Sr546y8_m01U"
      },
      "execution_count": null,
      "outputs": []
    },
    {
      "cell_type": "markdown",
      "source": [
        "тест"
      ],
      "metadata": {
        "id": "5U2JMVdLpc03"
      }
    },
    {
      "cell_type": "code",
      "source": [
        "AS=df.loc[(df.loc[:,'subject.account.id']=='S-1-5-21-1023191730-727829927-3985050192-40333'),'src.asset'].value_counts()\n",
        "AS"
      ],
      "metadata": {
        "id": "PaGiB7rmi_Np",
        "colab": {
          "base_uri": "https://localhost:8080/"
        },
        "outputId": "c2bc756d-1753-4e59-f401-64df15d5a22e"
      },
      "execution_count": null,
      "outputs": [
        {
          "output_type": "execute_result",
          "data": {
            "text/plain": [
              "14a957b3-a6c0-0001-0000-0000000006b9    154\n",
              "14765658-9940-0001-0000-000000000004      2\n",
              "1457bbbb-4700-0001-0000-000000001219      2\n",
              "147656e1-9fc0-0001-0000-000000000005      2\n",
              "1457bbbf-d6c0-0001-0000-000000001326      1\n",
              "1640c896-e1c0-0001-0000-000000000023      1\n",
              "Name: src.asset, dtype: int64"
            ]
          },
          "metadata": {},
          "execution_count": 59
        }
      ]
    },
    {
      "cell_type": "code",
      "source": [
        "sdf=df['src.asset']\n",
        "sdf=sdf.to_frame()\n",
        "sdf=sdf.drop_duplicates()\n",
        "sdf['src.asset']"
      ],
      "metadata": {
        "colab": {
          "base_uri": "https://localhost:8080/"
        },
        "id": "F3hgsKK4m2wm",
        "outputId": "19eb918c-ff60-4201-b29c-d6c61edc2019"
      },
      "execution_count": null,
      "outputs": [
        {
          "output_type": "execute_result",
          "data": {
            "text/plain": [
              "0          1452d867-9840-0001-0000-00000000069b\n",
              "1          165dc53b-cd40-0001-0000-0000000007ee\n",
              "2                                            un\n",
              "7          1457bbbb-5dc0-0001-0000-000000001226\n",
              "11         14f070b5-de40-0001-0000-0000000000bd\n",
              "                           ...                 \n",
              "2172702    1457bbfd-5d00-0001-0000-0000000013fe\n",
              "2207119    145620d0-c0c0-0001-0000-000000000f5f\n",
              "2207681    16726841-c6c0-0001-0000-000000000cd7\n",
              "2278812    14a5dcc1-9cc0-0001-0000-00000000066d\n",
              "2283923    165c1c78-3bc0-0001-0000-00000000079b\n",
              "Name: src.asset, Length: 1219, dtype: object"
            ]
          },
          "metadata": {},
          "execution_count": 60
        }
      ]
    },
    {
      "cell_type": "code",
      "source": [
        "model.similar_items(1)"
      ],
      "metadata": {
        "colab": {
          "base_uri": "https://localhost:8080/"
        },
        "id": "Xu-Olh-IrLpM",
        "outputId": "4e31a57d-e3a6-4678-81cd-8a72f318fc63"
      },
      "execution_count": null,
      "outputs": [
        {
          "output_type": "execute_result",
          "data": {
            "text/plain": [
              "(array([   1, 1106,    5,    0, 1105,  648,  844,    3, 1117,  948],\n",
              "       dtype=int32),\n",
              " array([1.        , 0.99903786, 0.99903494, 0.99832505, 0.9978501 ,\n",
              "        0.9906575 , 0.90062505, 0.81121266, 0.7910168 , 0.78720224],\n",
              "       dtype=float32))"
            ]
          },
          "metadata": {},
          "execution_count": 61
        }
      ]
    },
    {
      "cell_type": "code",
      "source": [
        "model.similar_items(5)"
      ],
      "metadata": {
        "colab": {
          "base_uri": "https://localhost:8080/"
        },
        "id": "c05mSaEimI3x",
        "outputId": "e960c421-cf7e-4741-a70b-75f37aecb311"
      },
      "execution_count": null,
      "outputs": [
        {
          "output_type": "execute_result",
          "data": {
            "text/plain": [
              "(array([   5, 1106,    0, 1105,    1,  648,  844,    3, 1117,  948],\n",
              "       dtype=int32),\n",
              " array([0.9999998 , 0.99996066, 0.9998473 , 0.99969614, 0.999035  ,\n",
              "        0.9956154 , 0.8809351 , 0.81718636, 0.7641337 , 0.76068664],\n",
              "       dtype=float32))"
            ]
          },
          "metadata": {},
          "execution_count": 62
        }
      ]
    },
    {
      "cell_type": "code",
      "source": [
        "user_factors = model.user_factors\n",
        "item_factors = model.item_factors\n",
        "print(user_factors)\n",
        "print('_________________')\n",
        "print(item_factors)\n"
      ],
      "metadata": {
        "colab": {
          "base_uri": "https://localhost:8080/"
        },
        "id": "TI68ZQoGpaYI",
        "outputId": "1ea21f28-bce9-4252-9608-1ee4a1cd6eb4"
      },
      "execution_count": null,
      "outputs": [
        {
          "output_type": "stream",
          "name": "stdout",
          "text": [
            "[[-1.3044342   3.657554   -0.45384842 ...  3.9942145  -1.4427428\n",
            "   0.3935682 ]\n",
            " [-1.1335251   3.0963972  -0.41998225 ...  3.3211145  -1.1612052\n",
            "   0.40024695]\n",
            " [-1.2738168   3.5606823  -0.44756532 ...  3.8793013  -1.3942341\n",
            "   0.39109585]\n",
            " ...\n",
            " [-0.9627227   2.5885532  -0.35622248 ...  2.7619536  -0.96536523\n",
            "   0.3596518 ]\n",
            " [-0.55187446  1.4749062  -0.20207189 ...  1.5729316  -0.5486441\n",
            "   0.20681082]\n",
            " [-0.3442456   0.9162985  -0.12566164 ...  0.97611684 -0.34025073\n",
            "   0.1306261 ]]\n",
            "_________________\n",
            "[[ 0.01708668  0.00604847  0.00323291 ...  0.00119469  0.00552365\n",
            "   0.00111511]\n",
            " [ 0.01712359  0.0060195   0.00359683 ...  0.00125537  0.00602589\n",
            "   0.00143875]\n",
            " [ 0.00487144  0.00412524 -0.00127004 ... -0.00121861  0.00820465\n",
            "   0.0040972 ]\n",
            " ...\n",
            " [ 0.00432085  0.00139998  0.00237598 ...  0.00066355  0.00359088\n",
            "   0.00196027]\n",
            " [ 0.00195166  0.0083801   0.00776064 ...  0.006648    0.00066529\n",
            "   0.00899874]\n",
            " [ 0.00015682  0.01833812  0.0032744  ...  0.01994481 -0.00205342\n",
            "   0.00561849]]\n"
          ]
        }
      ]
    },
    {
      "cell_type": "code",
      "source": [
        "AS"
      ],
      "metadata": {
        "colab": {
          "base_uri": "https://localhost:8080/"
        },
        "id": "DJfwK1cDjNfR",
        "outputId": "0296ab83-945b-40be-cc56-982b196e9778"
      },
      "execution_count": null,
      "outputs": [
        {
          "output_type": "execute_result",
          "data": {
            "text/plain": [
              "14a957b3-a6c0-0001-0000-0000000006b9    154\n",
              "14765658-9940-0001-0000-000000000004      2\n",
              "1457bbbb-4700-0001-0000-000000001219      2\n",
              "147656e1-9fc0-0001-0000-000000000005      2\n",
              "1457bbbf-d6c0-0001-0000-000000001326      1\n",
              "1640c896-e1c0-0001-0000-000000000023      1\n",
              "Name: src.asset, dtype: int64"
            ]
          },
          "metadata": {},
          "execution_count": 64
        }
      ]
    },
    {
      "cell_type": "code",
      "source": [
        " vectorizer.categories_[1][154]"
      ],
      "metadata": {
        "colab": {
          "base_uri": "https://localhost:8080/",
          "height": 35
        },
        "id": "G3IT9fHorZcx",
        "outputId": "eb46144b-b4b3-4f51-bf7b-abe2a2dfee7b"
      },
      "execution_count": null,
      "outputs": [
        {
          "output_type": "execute_result",
          "data": {
            "text/plain": [
              "'1457bbb0-a100-0001-0000-000000001082'"
            ],
            "application/vnd.google.colaboratory.intrinsic+json": {
              "type": "string"
            }
          },
          "metadata": {},
          "execution_count": 65
        }
      ]
    },
    {
      "cell_type": "code",
      "source": [
        "model.explain(1,apps_runs_sparse,99)"
      ],
      "metadata": {
        "colab": {
          "base_uri": "https://localhost:8080/"
        },
        "id": "rr-aC-BNr7sW",
        "outputId": "d37e8f10-2f04-4c08-838b-fbfff58f0627"
      },
      "execution_count": null,
      "outputs": [
        {
          "output_type": "execute_result",
          "data": {
            "text/plain": [
              "(-0.005979652266875213,\n",
              " [(1218, -0.005979652266875213)],\n",
              " (array([[ 0.30305244,  0.06242665,  0.11113763, ...,  0.04948023,\n",
              "           0.15775755,  0.07512665],\n",
              "         [ 0.01891855,  0.20784698,  0.0309586 , ...,  0.01547563,\n",
              "           0.02318364,  0.03537923],\n",
              "         [ 0.03368053,  0.0133726 ,  0.20388737, ...,  0.03351589,\n",
              "           0.03916269,  0.02944335],\n",
              "         ...,\n",
              "         [ 0.0149951 ,  0.00630545,  0.01281168, ...,  0.18085678,\n",
              "           0.00405502,  0.00282704],\n",
              "         [ 0.04780881,  0.01466693,  0.02623531, ...,  0.00719934,\n",
              "           0.19143275, -0.00340338],\n",
              "         [ 0.02276732,  0.01204337,  0.01544782, ...,  0.00505172,\n",
              "           0.02166737,  0.18160161]]),\n",
              "  False))"
            ]
          },
          "metadata": {},
          "execution_count": 66
        }
      ]
    },
    {
      "cell_type": "code",
      "source": [
        "get_app_by_id(1200)"
      ],
      "metadata": {
        "colab": {
          "base_uri": "https://localhost:8080/",
          "height": 35
        },
        "id": "B9Dfy2hHc_rP",
        "outputId": "158385f6-f17b-4392-f0db-ef9f4e6fc729"
      },
      "execution_count": null,
      "outputs": [
        {
          "output_type": "execute_result",
          "data": {
            "text/plain": [
              "'167e1c7f-6240-0001-0000-000000000f8a'"
            ],
            "application/vnd.google.colaboratory.intrinsic+json": {
              "type": "string"
            }
          },
          "metadata": {},
          "execution_count": 67
        }
      ]
    },
    {
      "cell_type": "code",
      "source": [
        "get_similar_apps('1457bbbb-0c00-0001-0000-0000000011f2', 3)"
      ],
      "metadata": {
        "colab": {
          "base_uri": "https://localhost:8080/"
        },
        "id": "085hdpy9dKMz",
        "outputId": "935abe33-ecd8-4405-a48c-f030667fd831"
      },
      "execution_count": null,
      "outputs": [
        {
          "output_type": "stream",
          "name": "stdout",
          "text": [
            "<class 'list'>\n",
            "[(330, 527, 385), (1.0000001, 0.9999178, 0.99991566)]\n"
          ]
        },
        {
          "output_type": "execute_result",
          "data": {
            "text/plain": [
              "[('1457bbbb-0c00-0001-0000-0000000011f2', 527),\n",
              " ('1452d83f-c5c0-0001-0000-0000000004cc', 0.9999178)]"
            ]
          },
          "metadata": {},
          "execution_count": 68
        }
      ]
    },
    {
      "cell_type": "markdown",
      "source": [
        "# Поиск аномалий\n"
      ],
      "metadata": {
        "id": "YReaOEpdyKAX"
      }
    },
    {
      "cell_type": "code",
      "source": [
        "tf"
      ],
      "metadata": {
        "colab": {
          "base_uri": "https://localhost:8080/",
          "height": 424
        },
        "id": "CDR4KIcaVBPS",
        "outputId": "c67e50cd-c572-411c-b90d-caee55015706"
      },
      "execution_count": null,
      "outputs": [
        {
          "output_type": "execute_result",
          "data": {
            "text/plain": [
              "                                    subject.account.id  \\\n",
              "0       S-1-5-21-1023191730-727829927-3985050192-22786   \n",
              "1       S-1-5-21-1023191730-727829927-3985050192-32035   \n",
              "2       S-1-5-21-1023191730-727829927-3985050192-40118   \n",
              "11       S-1-5-21-1023191730-727829927-3985050192-3408   \n",
              "13      S-1-5-21-1023191730-727829927-3985050192-36261   \n",
              "...                                                ...   \n",
              "577611  S-1-5-21-1023191730-727829927-3985050192-24126   \n",
              "577700  S-1-5-21-1023191730-727829927-3985050192-27031   \n",
              "579689  S-1-5-21-1023191730-727829927-3985050192-40333   \n",
              "579989  S-1-5-21-1023191730-727829927-3985050192-46656   \n",
              "580036   S-1-5-21-1023191730-727829927-3985050192-3575   \n",
              "\n",
              "                                   src.asset     score  \n",
              "0       1457bbb5-c440-0001-0000-0000000010de  0.999335  \n",
              "1       165dc53b-cd40-0001-0000-0000000007ee  0.999786  \n",
              "2       1457bbff-21c0-0001-0000-00000000147a  0.996264  \n",
              "11      1457bbaf-7880-0001-0000-00000000100e  0.998475  \n",
              "13      1457bbbb-e4c0-0001-0000-00000000127b  0.999462  \n",
              "...                                      ...       ...  \n",
              "577611  1457bbbf-d6c0-0001-0000-000000001326  0.087383  \n",
              "577700  147656e1-9fc0-0001-0000-000000000005  1.045987  \n",
              "579689  1640c896-e1c0-0001-0000-000000000023  1.219877  \n",
              "579989  16531e52-8580-0001-0000-0000000004b4  0.013471  \n",
              "580036  1457bbbb-4700-0001-0000-000000001219  0.906661  \n",
              "\n",
              "[3060 rows x 3 columns]"
            ],
            "text/html": [
              "\n",
              "  <div id=\"df-43b7c1be-583b-436f-bc43-8853eb05d280\">\n",
              "    <div class=\"colab-df-container\">\n",
              "      <div>\n",
              "<style scoped>\n",
              "    .dataframe tbody tr th:only-of-type {\n",
              "        vertical-align: middle;\n",
              "    }\n",
              "\n",
              "    .dataframe tbody tr th {\n",
              "        vertical-align: top;\n",
              "    }\n",
              "\n",
              "    .dataframe thead th {\n",
              "        text-align: right;\n",
              "    }\n",
              "</style>\n",
              "<table border=\"1\" class=\"dataframe\">\n",
              "  <thead>\n",
              "    <tr style=\"text-align: right;\">\n",
              "      <th></th>\n",
              "      <th>subject.account.id</th>\n",
              "      <th>src.asset</th>\n",
              "      <th>score</th>\n",
              "    </tr>\n",
              "  </thead>\n",
              "  <tbody>\n",
              "    <tr>\n",
              "      <th>0</th>\n",
              "      <td>S-1-5-21-1023191730-727829927-3985050192-22786</td>\n",
              "      <td>1457bbb5-c440-0001-0000-0000000010de</td>\n",
              "      <td>0.999335</td>\n",
              "    </tr>\n",
              "    <tr>\n",
              "      <th>1</th>\n",
              "      <td>S-1-5-21-1023191730-727829927-3985050192-32035</td>\n",
              "      <td>165dc53b-cd40-0001-0000-0000000007ee</td>\n",
              "      <td>0.999786</td>\n",
              "    </tr>\n",
              "    <tr>\n",
              "      <th>2</th>\n",
              "      <td>S-1-5-21-1023191730-727829927-3985050192-40118</td>\n",
              "      <td>1457bbff-21c0-0001-0000-00000000147a</td>\n",
              "      <td>0.996264</td>\n",
              "    </tr>\n",
              "    <tr>\n",
              "      <th>11</th>\n",
              "      <td>S-1-5-21-1023191730-727829927-3985050192-3408</td>\n",
              "      <td>1457bbaf-7880-0001-0000-00000000100e</td>\n",
              "      <td>0.998475</td>\n",
              "    </tr>\n",
              "    <tr>\n",
              "      <th>13</th>\n",
              "      <td>S-1-5-21-1023191730-727829927-3985050192-36261</td>\n",
              "      <td>1457bbbb-e4c0-0001-0000-00000000127b</td>\n",
              "      <td>0.999462</td>\n",
              "    </tr>\n",
              "    <tr>\n",
              "      <th>...</th>\n",
              "      <td>...</td>\n",
              "      <td>...</td>\n",
              "      <td>...</td>\n",
              "    </tr>\n",
              "    <tr>\n",
              "      <th>577611</th>\n",
              "      <td>S-1-5-21-1023191730-727829927-3985050192-24126</td>\n",
              "      <td>1457bbbf-d6c0-0001-0000-000000001326</td>\n",
              "      <td>0.087383</td>\n",
              "    </tr>\n",
              "    <tr>\n",
              "      <th>577700</th>\n",
              "      <td>S-1-5-21-1023191730-727829927-3985050192-27031</td>\n",
              "      <td>147656e1-9fc0-0001-0000-000000000005</td>\n",
              "      <td>1.045987</td>\n",
              "    </tr>\n",
              "    <tr>\n",
              "      <th>579689</th>\n",
              "      <td>S-1-5-21-1023191730-727829927-3985050192-40333</td>\n",
              "      <td>1640c896-e1c0-0001-0000-000000000023</td>\n",
              "      <td>1.219877</td>\n",
              "    </tr>\n",
              "    <tr>\n",
              "      <th>579989</th>\n",
              "      <td>S-1-5-21-1023191730-727829927-3985050192-46656</td>\n",
              "      <td>16531e52-8580-0001-0000-0000000004b4</td>\n",
              "      <td>0.013471</td>\n",
              "    </tr>\n",
              "    <tr>\n",
              "      <th>580036</th>\n",
              "      <td>S-1-5-21-1023191730-727829927-3985050192-3575</td>\n",
              "      <td>1457bbbb-4700-0001-0000-000000001219</td>\n",
              "      <td>0.906661</td>\n",
              "    </tr>\n",
              "  </tbody>\n",
              "</table>\n",
              "<p>3060 rows × 3 columns</p>\n",
              "</div>\n",
              "      <button class=\"colab-df-convert\" onclick=\"convertToInteractive('df-43b7c1be-583b-436f-bc43-8853eb05d280')\"\n",
              "              title=\"Convert this dataframe to an interactive table.\"\n",
              "              style=\"display:none;\">\n",
              "        \n",
              "  <svg xmlns=\"http://www.w3.org/2000/svg\" height=\"24px\"viewBox=\"0 0 24 24\"\n",
              "       width=\"24px\">\n",
              "    <path d=\"M0 0h24v24H0V0z\" fill=\"none\"/>\n",
              "    <path d=\"M18.56 5.44l.94 2.06.94-2.06 2.06-.94-2.06-.94-.94-2.06-.94 2.06-2.06.94zm-11 1L8.5 8.5l.94-2.06 2.06-.94-2.06-.94L8.5 2.5l-.94 2.06-2.06.94zm10 10l.94 2.06.94-2.06 2.06-.94-2.06-.94-.94-2.06-.94 2.06-2.06.94z\"/><path d=\"M17.41 7.96l-1.37-1.37c-.4-.4-.92-.59-1.43-.59-.52 0-1.04.2-1.43.59L10.3 9.45l-7.72 7.72c-.78.78-.78 2.05 0 2.83L4 21.41c.39.39.9.59 1.41.59.51 0 1.02-.2 1.41-.59l7.78-7.78 2.81-2.81c.8-.78.8-2.07 0-2.86zM5.41 20L4 18.59l7.72-7.72 1.47 1.35L5.41 20z\"/>\n",
              "  </svg>\n",
              "      </button>\n",
              "      \n",
              "  <style>\n",
              "    .colab-df-container {\n",
              "      display:flex;\n",
              "      flex-wrap:wrap;\n",
              "      gap: 12px;\n",
              "    }\n",
              "\n",
              "    .colab-df-convert {\n",
              "      background-color: #E8F0FE;\n",
              "      border: none;\n",
              "      border-radius: 50%;\n",
              "      cursor: pointer;\n",
              "      display: none;\n",
              "      fill: #1967D2;\n",
              "      height: 32px;\n",
              "      padding: 0 0 0 0;\n",
              "      width: 32px;\n",
              "    }\n",
              "\n",
              "    .colab-df-convert:hover {\n",
              "      background-color: #E2EBFA;\n",
              "      box-shadow: 0px 1px 2px rgba(60, 64, 67, 0.3), 0px 1px 3px 1px rgba(60, 64, 67, 0.15);\n",
              "      fill: #174EA6;\n",
              "    }\n",
              "\n",
              "    [theme=dark] .colab-df-convert {\n",
              "      background-color: #3B4455;\n",
              "      fill: #D2E3FC;\n",
              "    }\n",
              "\n",
              "    [theme=dark] .colab-df-convert:hover {\n",
              "      background-color: #434B5C;\n",
              "      box-shadow: 0px 1px 3px 1px rgba(0, 0, 0, 0.15);\n",
              "      filter: drop-shadow(0px 1px 2px rgba(0, 0, 0, 0.3));\n",
              "      fill: #FFFFFF;\n",
              "    }\n",
              "  </style>\n",
              "\n",
              "      <script>\n",
              "        const buttonEl =\n",
              "          document.querySelector('#df-43b7c1be-583b-436f-bc43-8853eb05d280 button.colab-df-convert');\n",
              "        buttonEl.style.display =\n",
              "          google.colab.kernel.accessAllowed ? 'block' : 'none';\n",
              "\n",
              "        async function convertToInteractive(key) {\n",
              "          const element = document.querySelector('#df-43b7c1be-583b-436f-bc43-8853eb05d280');\n",
              "          const dataTable =\n",
              "            await google.colab.kernel.invokeFunction('convertToInteractive',\n",
              "                                                     [key], {});\n",
              "          if (!dataTable) return;\n",
              "\n",
              "          const docLinkHtml = 'Like what you see? Visit the ' +\n",
              "            '<a target=\"_blank\" href=https://colab.research.google.com/notebooks/data_table.ipynb>data table notebook</a>'\n",
              "            + ' to learn more about interactive tables.';\n",
              "          element.innerHTML = '';\n",
              "          dataTable['output_type'] = 'display_data';\n",
              "          await google.colab.output.renderOutput(dataTable, element);\n",
              "          const docLink = document.createElement('div');\n",
              "          docLink.innerHTML = docLinkHtml;\n",
              "          element.appendChild(docLink);\n",
              "        }\n",
              "      </script>\n",
              "    </div>\n",
              "  </div>\n",
              "  "
            ]
          },
          "metadata": {},
          "execution_count": 217
        }
      ]
    },
    {
      "cell_type": "code",
      "source": [
        "mean_rating = tf['score'].mean()\n",
        "print(mean_rating)"
      ],
      "metadata": {
        "id": "gADgRzHayMiC",
        "colab": {
          "base_uri": "https://localhost:8080/"
        },
        "outputId": "43784725-796c-4f40-928c-6486589ba831"
      },
      "execution_count": null,
      "outputs": [
        {
          "output_type": "stream",
          "name": "stdout",
          "text": [
            "0.6965434587654992\n"
          ]
        }
      ]
    },
    {
      "cell_type": "code",
      "source": [
        "# вычисление стандартного отклонения рейтинга по всей выборке\n",
        "std_rating = tf['score'].std()\n",
        "std_rating"
      ],
      "metadata": {
        "colab": {
          "base_uri": "https://localhost:8080/"
        },
        "id": "PIcfz_L1UcsC",
        "outputId": "7d7500a4-a8b9-4cb3-bb25-3896a12057a4"
      },
      "execution_count": null,
      "outputs": [
        {
          "output_type": "execute_result",
          "data": {
            "text/plain": [
              "0.3752943465259535"
            ]
          },
          "metadata": {},
          "execution_count": 219
        }
      ]
    },
    {
      "cell_type": "code",
      "source": [
        "# вычисление Z-оценки для каждого пользователя\n",
        "user_z_scores = {}\n",
        "for user_id, user_asset in set(zip(tf['subject.account.id'], tf['src.asset'])):\n",
        "    user_data = tf[(tf['subject.account.id'] == user_id) & (tf['src.asset'] == user_asset)]\n",
        "    user_mean = user_data['score'].mean()\n",
        "    user_std = user_data['score'].std()\n",
        "    z_score = (user_mean - mean_rating) / std_rating\n",
        "    user_z_scores[(user_id, user_asset)] = z_score"
      ],
      "metadata": {
        "id": "1rZ6bRZFUmVp"
      },
      "execution_count": null,
      "outputs": []
    },
    {
      "cell_type": "code",
      "source": [
        "user_z_scores = {}\n",
        "for user_id in set(tf['subject.account.id']):\n",
        "    user_data = tf[tf['subject.account.id'] == user_id]\n",
        "    user_mean = user_data['score'].mean()\n",
        "    user_std = user_data['score'].std()\n",
        "    z_score = (user_mean - mean_rating) / std_rating\n",
        "    user_z_scores[user_id] = z_score"
      ],
      "metadata": {
        "id": "db8vj8XHwghn"
      },
      "execution_count": null,
      "outputs": []
    },
    {
      "cell_type": "code",
      "source": [
        "# определение аномальных пользователей\n",
        "anomalies = []\n",
        "for user_id, z_score in user_z_scores.items():\n",
        "    if abs(z_score) > 3: # если значение Z-оценки больше 4 (или меньше -4), то считаем пользователя аномальным\n",
        "        anomalies.append(user_id)\n",
        "\n",
        "print('Аномальные пользователи:', anomalies)"
      ],
      "metadata": {
        "colab": {
          "base_uri": "https://localhost:8080/"
        },
        "id": "UFUSw3MpVgBc",
        "outputId": "7c7847b7-b726-4006-b6a4-41ff825d1e4a"
      },
      "execution_count": null,
      "outputs": [
        {
          "output_type": "stream",
          "name": "stdout",
          "text": [
            "Аномальные пользователи: [('S-1-5-21-1023191730-727829927-3985050192-41331', '1640c896-e1c0-0001-0000-000000000023'), ('S-1-5-21-1023191730-727829927-3985050192-40413', '147656e1-9fc0-0001-0000-000000000005'), ('S-1-5-21-1023191730-727829927-3985050192-3447', '1457bbbb-45c0-0001-0000-000000001218')]\n"
          ]
        }
      ]
    },
    {
      "cell_type": "code",
      "source": [
        "anomalies"
      ],
      "metadata": {
        "colab": {
          "base_uri": "https://localhost:8080/"
        },
        "id": "wl499ouKZN7c",
        "outputId": "cd7260ed-9c9c-44f6-da59-92895544efcd"
      },
      "execution_count": null,
      "outputs": [
        {
          "output_type": "execute_result",
          "data": {
            "text/plain": [
              "[('S-1-5-21-1023191730-727829927-3985050192-41331',\n",
              "  '1640c896-e1c0-0001-0000-000000000023'),\n",
              " ('S-1-5-21-1023191730-727829927-3985050192-40413',\n",
              "  '147656e1-9fc0-0001-0000-000000000005'),\n",
              " ('S-1-5-21-1023191730-727829927-3985050192-3447',\n",
              "  '1457bbbb-45c0-0001-0000-000000001218')]"
            ]
          },
          "metadata": {},
          "execution_count": 222
        }
      ]
    },
    {
      "cell_type": "code",
      "source": [
        "tf1"
      ],
      "metadata": {
        "id": "69OePhBrIssg"
      },
      "execution_count": null,
      "outputs": []
    },
    {
      "cell_type": "code",
      "source": [
        "anml_tf = tf.loc[(tf['subject.account.id'] == 'S-1-5-21-1023191730-727829927-3985050192-3447') & (tf['src.asset'] == '1457bbbb-45c0-0001-0000-000000001218')]\n",
        "anml_tf"
      ],
      "metadata": {
        "colab": {
          "base_uri": "https://localhost:8080/",
          "height": 80
        },
        "id": "lpyqDgRWiWN7",
        "outputId": "501ce8b9-6d5d-4fbe-91e4-a62cab4a28b6"
      },
      "execution_count": null,
      "outputs": [
        {
          "output_type": "execute_result",
          "data": {
            "text/plain": [
              "                                   subject.account.id  \\\n",
              "315422  S-1-5-21-1023191730-727829927-3985050192-3447   \n",
              "\n",
              "                                   src.asset     score  \n",
              "315422  1457bbbb-45c0-0001-0000-000000001218 -0.586635  "
            ],
            "text/html": [
              "\n",
              "  <div id=\"df-64f446fc-949d-417e-9cb8-14ae3f4ece82\">\n",
              "    <div class=\"colab-df-container\">\n",
              "      <div>\n",
              "<style scoped>\n",
              "    .dataframe tbody tr th:only-of-type {\n",
              "        vertical-align: middle;\n",
              "    }\n",
              "\n",
              "    .dataframe tbody tr th {\n",
              "        vertical-align: top;\n",
              "    }\n",
              "\n",
              "    .dataframe thead th {\n",
              "        text-align: right;\n",
              "    }\n",
              "</style>\n",
              "<table border=\"1\" class=\"dataframe\">\n",
              "  <thead>\n",
              "    <tr style=\"text-align: right;\">\n",
              "      <th></th>\n",
              "      <th>subject.account.id</th>\n",
              "      <th>src.asset</th>\n",
              "      <th>score</th>\n",
              "    </tr>\n",
              "  </thead>\n",
              "  <tbody>\n",
              "    <tr>\n",
              "      <th>315422</th>\n",
              "      <td>S-1-5-21-1023191730-727829927-3985050192-3447</td>\n",
              "      <td>1457bbbb-45c0-0001-0000-000000001218</td>\n",
              "      <td>-0.586635</td>\n",
              "    </tr>\n",
              "  </tbody>\n",
              "</table>\n",
              "</div>\n",
              "      <button class=\"colab-df-convert\" onclick=\"convertToInteractive('df-64f446fc-949d-417e-9cb8-14ae3f4ece82')\"\n",
              "              title=\"Convert this dataframe to an interactive table.\"\n",
              "              style=\"display:none;\">\n",
              "        \n",
              "  <svg xmlns=\"http://www.w3.org/2000/svg\" height=\"24px\"viewBox=\"0 0 24 24\"\n",
              "       width=\"24px\">\n",
              "    <path d=\"M0 0h24v24H0V0z\" fill=\"none\"/>\n",
              "    <path d=\"M18.56 5.44l.94 2.06.94-2.06 2.06-.94-2.06-.94-.94-2.06-.94 2.06-2.06.94zm-11 1L8.5 8.5l.94-2.06 2.06-.94-2.06-.94L8.5 2.5l-.94 2.06-2.06.94zm10 10l.94 2.06.94-2.06 2.06-.94-2.06-.94-.94-2.06-.94 2.06-2.06.94z\"/><path d=\"M17.41 7.96l-1.37-1.37c-.4-.4-.92-.59-1.43-.59-.52 0-1.04.2-1.43.59L10.3 9.45l-7.72 7.72c-.78.78-.78 2.05 0 2.83L4 21.41c.39.39.9.59 1.41.59.51 0 1.02-.2 1.41-.59l7.78-7.78 2.81-2.81c.8-.78.8-2.07 0-2.86zM5.41 20L4 18.59l7.72-7.72 1.47 1.35L5.41 20z\"/>\n",
              "  </svg>\n",
              "      </button>\n",
              "      \n",
              "  <style>\n",
              "    .colab-df-container {\n",
              "      display:flex;\n",
              "      flex-wrap:wrap;\n",
              "      gap: 12px;\n",
              "    }\n",
              "\n",
              "    .colab-df-convert {\n",
              "      background-color: #E8F0FE;\n",
              "      border: none;\n",
              "      border-radius: 50%;\n",
              "      cursor: pointer;\n",
              "      display: none;\n",
              "      fill: #1967D2;\n",
              "      height: 32px;\n",
              "      padding: 0 0 0 0;\n",
              "      width: 32px;\n",
              "    }\n",
              "\n",
              "    .colab-df-convert:hover {\n",
              "      background-color: #E2EBFA;\n",
              "      box-shadow: 0px 1px 2px rgba(60, 64, 67, 0.3), 0px 1px 3px 1px rgba(60, 64, 67, 0.15);\n",
              "      fill: #174EA6;\n",
              "    }\n",
              "\n",
              "    [theme=dark] .colab-df-convert {\n",
              "      background-color: #3B4455;\n",
              "      fill: #D2E3FC;\n",
              "    }\n",
              "\n",
              "    [theme=dark] .colab-df-convert:hover {\n",
              "      background-color: #434B5C;\n",
              "      box-shadow: 0px 1px 3px 1px rgba(0, 0, 0, 0.15);\n",
              "      filter: drop-shadow(0px 1px 2px rgba(0, 0, 0, 0.3));\n",
              "      fill: #FFFFFF;\n",
              "    }\n",
              "  </style>\n",
              "\n",
              "      <script>\n",
              "        const buttonEl =\n",
              "          document.querySelector('#df-64f446fc-949d-417e-9cb8-14ae3f4ece82 button.colab-df-convert');\n",
              "        buttonEl.style.display =\n",
              "          google.colab.kernel.accessAllowed ? 'block' : 'none';\n",
              "\n",
              "        async function convertToInteractive(key) {\n",
              "          const element = document.querySelector('#df-64f446fc-949d-417e-9cb8-14ae3f4ece82');\n",
              "          const dataTable =\n",
              "            await google.colab.kernel.invokeFunction('convertToInteractive',\n",
              "                                                     [key], {});\n",
              "          if (!dataTable) return;\n",
              "\n",
              "          const docLinkHtml = 'Like what you see? Visit the ' +\n",
              "            '<a target=\"_blank\" href=https://colab.research.google.com/notebooks/data_table.ipynb>data table notebook</a>'\n",
              "            + ' to learn more about interactive tables.';\n",
              "          element.innerHTML = '';\n",
              "          dataTable['output_type'] = 'display_data';\n",
              "          await google.colab.output.renderOutput(dataTable, element);\n",
              "          const docLink = document.createElement('div');\n",
              "          docLink.innerHTML = docLinkHtml;\n",
              "          element.appendChild(docLink);\n",
              "        }\n",
              "      </script>\n",
              "    </div>\n",
              "  </div>\n",
              "  "
            ]
          },
          "metadata": {},
          "execution_count": 223
        }
      ]
    },
    {
      "cell_type": "code",
      "source": [
        "a_tf = tf1.loc[(tf1['subject.account.id'] == 'S-1-5-21-1023191730-727829927-3985050192-3447') & (tf1['src.asset'] == '1457bbbb-45c0-0001-0000-000000001218')]\n",
        "a_tf"
      ],
      "metadata": {
        "colab": {
          "base_uri": "https://localhost:8080/",
          "height": 179
        },
        "id": "OCOp9qwYJfAI",
        "outputId": "a879e3b5-9407-4147-bddf-f188c9a27008"
      },
      "execution_count": null,
      "outputs": [
        {
          "output_type": "execute_result",
          "data": {
            "text/plain": [
              "        Unnamed: 0 object.storage.id object.storage.name        src.ip  \\\n",
              "315422      144908                                        10.10.52.126   \n",
              "\n",
              "                                   subject.account.id subject.account.domain  \\\n",
              "315422  S-1-5-21-1023191730-727829927-3985050192-3447          ptsecurity.ru   \n",
              "\n",
              "                   event_src.host                             src.asset  \\\n",
              "315422  dc1-mail-03.ptsecurity.ru  1457bbbb-45c0-0001-0000-000000001218   \n",
              "\n",
              "              datafield6                      time  \n",
              "315422  NetworkCleartext 2022-03-16 04:49:19+00:00  "
            ],
            "text/html": [
              "\n",
              "  <div id=\"df-abd43ca5-976a-4c56-97ec-73594c5b490d\">\n",
              "    <div class=\"colab-df-container\">\n",
              "      <div>\n",
              "<style scoped>\n",
              "    .dataframe tbody tr th:only-of-type {\n",
              "        vertical-align: middle;\n",
              "    }\n",
              "\n",
              "    .dataframe tbody tr th {\n",
              "        vertical-align: top;\n",
              "    }\n",
              "\n",
              "    .dataframe thead th {\n",
              "        text-align: right;\n",
              "    }\n",
              "</style>\n",
              "<table border=\"1\" class=\"dataframe\">\n",
              "  <thead>\n",
              "    <tr style=\"text-align: right;\">\n",
              "      <th></th>\n",
              "      <th>Unnamed: 0</th>\n",
              "      <th>object.storage.id</th>\n",
              "      <th>object.storage.name</th>\n",
              "      <th>src.ip</th>\n",
              "      <th>subject.account.id</th>\n",
              "      <th>subject.account.domain</th>\n",
              "      <th>event_src.host</th>\n",
              "      <th>src.asset</th>\n",
              "      <th>datafield6</th>\n",
              "      <th>time</th>\n",
              "    </tr>\n",
              "  </thead>\n",
              "  <tbody>\n",
              "    <tr>\n",
              "      <th>315422</th>\n",
              "      <td>144908</td>\n",
              "      <td></td>\n",
              "      <td></td>\n",
              "      <td>10.10.52.126</td>\n",
              "      <td>S-1-5-21-1023191730-727829927-3985050192-3447</td>\n",
              "      <td>ptsecurity.ru</td>\n",
              "      <td>dc1-mail-03.ptsecurity.ru</td>\n",
              "      <td>1457bbbb-45c0-0001-0000-000000001218</td>\n",
              "      <td>NetworkCleartext</td>\n",
              "      <td>2022-03-16 04:49:19+00:00</td>\n",
              "    </tr>\n",
              "  </tbody>\n",
              "</table>\n",
              "</div>\n",
              "      <button class=\"colab-df-convert\" onclick=\"convertToInteractive('df-abd43ca5-976a-4c56-97ec-73594c5b490d')\"\n",
              "              title=\"Convert this dataframe to an interactive table.\"\n",
              "              style=\"display:none;\">\n",
              "        \n",
              "  <svg xmlns=\"http://www.w3.org/2000/svg\" height=\"24px\"viewBox=\"0 0 24 24\"\n",
              "       width=\"24px\">\n",
              "    <path d=\"M0 0h24v24H0V0z\" fill=\"none\"/>\n",
              "    <path d=\"M18.56 5.44l.94 2.06.94-2.06 2.06-.94-2.06-.94-.94-2.06-.94 2.06-2.06.94zm-11 1L8.5 8.5l.94-2.06 2.06-.94-2.06-.94L8.5 2.5l-.94 2.06-2.06.94zm10 10l.94 2.06.94-2.06 2.06-.94-2.06-.94-.94-2.06-.94 2.06-2.06.94z\"/><path d=\"M17.41 7.96l-1.37-1.37c-.4-.4-.92-.59-1.43-.59-.52 0-1.04.2-1.43.59L10.3 9.45l-7.72 7.72c-.78.78-.78 2.05 0 2.83L4 21.41c.39.39.9.59 1.41.59.51 0 1.02-.2 1.41-.59l7.78-7.78 2.81-2.81c.8-.78.8-2.07 0-2.86zM5.41 20L4 18.59l7.72-7.72 1.47 1.35L5.41 20z\"/>\n",
              "  </svg>\n",
              "      </button>\n",
              "      \n",
              "  <style>\n",
              "    .colab-df-container {\n",
              "      display:flex;\n",
              "      flex-wrap:wrap;\n",
              "      gap: 12px;\n",
              "    }\n",
              "\n",
              "    .colab-df-convert {\n",
              "      background-color: #E8F0FE;\n",
              "      border: none;\n",
              "      border-radius: 50%;\n",
              "      cursor: pointer;\n",
              "      display: none;\n",
              "      fill: #1967D2;\n",
              "      height: 32px;\n",
              "      padding: 0 0 0 0;\n",
              "      width: 32px;\n",
              "    }\n",
              "\n",
              "    .colab-df-convert:hover {\n",
              "      background-color: #E2EBFA;\n",
              "      box-shadow: 0px 1px 2px rgba(60, 64, 67, 0.3), 0px 1px 3px 1px rgba(60, 64, 67, 0.15);\n",
              "      fill: #174EA6;\n",
              "    }\n",
              "\n",
              "    [theme=dark] .colab-df-convert {\n",
              "      background-color: #3B4455;\n",
              "      fill: #D2E3FC;\n",
              "    }\n",
              "\n",
              "    [theme=dark] .colab-df-convert:hover {\n",
              "      background-color: #434B5C;\n",
              "      box-shadow: 0px 1px 3px 1px rgba(0, 0, 0, 0.15);\n",
              "      filter: drop-shadow(0px 1px 2px rgba(0, 0, 0, 0.3));\n",
              "      fill: #FFFFFF;\n",
              "    }\n",
              "  </style>\n",
              "\n",
              "      <script>\n",
              "        const buttonEl =\n",
              "          document.querySelector('#df-abd43ca5-976a-4c56-97ec-73594c5b490d button.colab-df-convert');\n",
              "        buttonEl.style.display =\n",
              "          google.colab.kernel.accessAllowed ? 'block' : 'none';\n",
              "\n",
              "        async function convertToInteractive(key) {\n",
              "          const element = document.querySelector('#df-abd43ca5-976a-4c56-97ec-73594c5b490d');\n",
              "          const dataTable =\n",
              "            await google.colab.kernel.invokeFunction('convertToInteractive',\n",
              "                                                     [key], {});\n",
              "          if (!dataTable) return;\n",
              "\n",
              "          const docLinkHtml = 'Like what you see? Visit the ' +\n",
              "            '<a target=\"_blank\" href=https://colab.research.google.com/notebooks/data_table.ipynb>data table notebook</a>'\n",
              "            + ' to learn more about interactive tables.';\n",
              "          element.innerHTML = '';\n",
              "          dataTable['output_type'] = 'display_data';\n",
              "          await google.colab.output.renderOutput(dataTable, element);\n",
              "          const docLink = document.createElement('div');\n",
              "          docLink.innerHTML = docLinkHtml;\n",
              "          element.appendChild(docLink);\n",
              "        }\n",
              "      </script>\n",
              "    </div>\n",
              "  </div>\n",
              "  "
            ]
          },
          "metadata": {},
          "execution_count": 224
        }
      ]
    },
    {
      "cell_type": "code",
      "source": [
        "a_tf['time'] = pd.to_datetime(a_tf['time'])\n",
        "a_tf[\"dp\"] = pd.to_datetime(a_tf['time'],unit='s').apply(lambda x: \"Day\" if x.hour >= 10 and x.hour <= 18 else 'Morning'  if x.hour>=6 and x.hour<=10 else 'Evening'  if x.hour>=18 and x.hour<=22 else \"Night\")\n",
        "a_tf=a_tf.drop(columns=['time'])\n",
        "a_tf"
      ],
      "metadata": {
        "colab": {
          "base_uri": "https://localhost:8080/",
          "height": 179
        },
        "id": "kTHaazb-MVJa",
        "outputId": "7022e5df-1932-4731-b8d7-05e33b49cf19"
      },
      "execution_count": null,
      "outputs": [
        {
          "output_type": "execute_result",
          "data": {
            "text/plain": [
              "        Unnamed: 0 object.storage.id object.storage.name        src.ip  \\\n",
              "315422      144908                                        10.10.52.126   \n",
              "\n",
              "                                   subject.account.id subject.account.domain  \\\n",
              "315422  S-1-5-21-1023191730-727829927-3985050192-3447          ptsecurity.ru   \n",
              "\n",
              "                   event_src.host                             src.asset  \\\n",
              "315422  dc1-mail-03.ptsecurity.ru  1457bbbb-45c0-0001-0000-000000001218   \n",
              "\n",
              "              datafield6     dp  \n",
              "315422  NetworkCleartext  Night  "
            ],
            "text/html": [
              "\n",
              "  <div id=\"df-eb9b703a-c8ee-4bea-b570-bcaf1621685a\">\n",
              "    <div class=\"colab-df-container\">\n",
              "      <div>\n",
              "<style scoped>\n",
              "    .dataframe tbody tr th:only-of-type {\n",
              "        vertical-align: middle;\n",
              "    }\n",
              "\n",
              "    .dataframe tbody tr th {\n",
              "        vertical-align: top;\n",
              "    }\n",
              "\n",
              "    .dataframe thead th {\n",
              "        text-align: right;\n",
              "    }\n",
              "</style>\n",
              "<table border=\"1\" class=\"dataframe\">\n",
              "  <thead>\n",
              "    <tr style=\"text-align: right;\">\n",
              "      <th></th>\n",
              "      <th>Unnamed: 0</th>\n",
              "      <th>object.storage.id</th>\n",
              "      <th>object.storage.name</th>\n",
              "      <th>src.ip</th>\n",
              "      <th>subject.account.id</th>\n",
              "      <th>subject.account.domain</th>\n",
              "      <th>event_src.host</th>\n",
              "      <th>src.asset</th>\n",
              "      <th>datafield6</th>\n",
              "      <th>dp</th>\n",
              "    </tr>\n",
              "  </thead>\n",
              "  <tbody>\n",
              "    <tr>\n",
              "      <th>315422</th>\n",
              "      <td>144908</td>\n",
              "      <td></td>\n",
              "      <td></td>\n",
              "      <td>10.10.52.126</td>\n",
              "      <td>S-1-5-21-1023191730-727829927-3985050192-3447</td>\n",
              "      <td>ptsecurity.ru</td>\n",
              "      <td>dc1-mail-03.ptsecurity.ru</td>\n",
              "      <td>1457bbbb-45c0-0001-0000-000000001218</td>\n",
              "      <td>NetworkCleartext</td>\n",
              "      <td>Night</td>\n",
              "    </tr>\n",
              "  </tbody>\n",
              "</table>\n",
              "</div>\n",
              "      <button class=\"colab-df-convert\" onclick=\"convertToInteractive('df-eb9b703a-c8ee-4bea-b570-bcaf1621685a')\"\n",
              "              title=\"Convert this dataframe to an interactive table.\"\n",
              "              style=\"display:none;\">\n",
              "        \n",
              "  <svg xmlns=\"http://www.w3.org/2000/svg\" height=\"24px\"viewBox=\"0 0 24 24\"\n",
              "       width=\"24px\">\n",
              "    <path d=\"M0 0h24v24H0V0z\" fill=\"none\"/>\n",
              "    <path d=\"M18.56 5.44l.94 2.06.94-2.06 2.06-.94-2.06-.94-.94-2.06-.94 2.06-2.06.94zm-11 1L8.5 8.5l.94-2.06 2.06-.94-2.06-.94L8.5 2.5l-.94 2.06-2.06.94zm10 10l.94 2.06.94-2.06 2.06-.94-2.06-.94-.94-2.06-.94 2.06-2.06.94z\"/><path d=\"M17.41 7.96l-1.37-1.37c-.4-.4-.92-.59-1.43-.59-.52 0-1.04.2-1.43.59L10.3 9.45l-7.72 7.72c-.78.78-.78 2.05 0 2.83L4 21.41c.39.39.9.59 1.41.59.51 0 1.02-.2 1.41-.59l7.78-7.78 2.81-2.81c.8-.78.8-2.07 0-2.86zM5.41 20L4 18.59l7.72-7.72 1.47 1.35L5.41 20z\"/>\n",
              "  </svg>\n",
              "      </button>\n",
              "      \n",
              "  <style>\n",
              "    .colab-df-container {\n",
              "      display:flex;\n",
              "      flex-wrap:wrap;\n",
              "      gap: 12px;\n",
              "    }\n",
              "\n",
              "    .colab-df-convert {\n",
              "      background-color: #E8F0FE;\n",
              "      border: none;\n",
              "      border-radius: 50%;\n",
              "      cursor: pointer;\n",
              "      display: none;\n",
              "      fill: #1967D2;\n",
              "      height: 32px;\n",
              "      padding: 0 0 0 0;\n",
              "      width: 32px;\n",
              "    }\n",
              "\n",
              "    .colab-df-convert:hover {\n",
              "      background-color: #E2EBFA;\n",
              "      box-shadow: 0px 1px 2px rgba(60, 64, 67, 0.3), 0px 1px 3px 1px rgba(60, 64, 67, 0.15);\n",
              "      fill: #174EA6;\n",
              "    }\n",
              "\n",
              "    [theme=dark] .colab-df-convert {\n",
              "      background-color: #3B4455;\n",
              "      fill: #D2E3FC;\n",
              "    }\n",
              "\n",
              "    [theme=dark] .colab-df-convert:hover {\n",
              "      background-color: #434B5C;\n",
              "      box-shadow: 0px 1px 3px 1px rgba(0, 0, 0, 0.15);\n",
              "      filter: drop-shadow(0px 1px 2px rgba(0, 0, 0, 0.3));\n",
              "      fill: #FFFFFF;\n",
              "    }\n",
              "  </style>\n",
              "\n",
              "      <script>\n",
              "        const buttonEl =\n",
              "          document.querySelector('#df-eb9b703a-c8ee-4bea-b570-bcaf1621685a button.colab-df-convert');\n",
              "        buttonEl.style.display =\n",
              "          google.colab.kernel.accessAllowed ? 'block' : 'none';\n",
              "\n",
              "        async function convertToInteractive(key) {\n",
              "          const element = document.querySelector('#df-eb9b703a-c8ee-4bea-b570-bcaf1621685a');\n",
              "          const dataTable =\n",
              "            await google.colab.kernel.invokeFunction('convertToInteractive',\n",
              "                                                     [key], {});\n",
              "          if (!dataTable) return;\n",
              "\n",
              "          const docLinkHtml = 'Like what you see? Visit the ' +\n",
              "            '<a target=\"_blank\" href=https://colab.research.google.com/notebooks/data_table.ipynb>data table notebook</a>'\n",
              "            + ' to learn more about interactive tables.';\n",
              "          element.innerHTML = '';\n",
              "          dataTable['output_type'] = 'display_data';\n",
              "          await google.colab.output.renderOutput(dataTable, element);\n",
              "          const docLink = document.createElement('div');\n",
              "          docLink.innerHTML = docLinkHtml;\n",
              "          element.appendChild(docLink);\n",
              "        }\n",
              "      </script>\n",
              "    </div>\n",
              "  </div>\n",
              "  "
            ]
          },
          "metadata": {},
          "execution_count": 225
        }
      ]
    },
    {
      "cell_type": "code",
      "source": [
        "# Вычисляем предсказания модели ALS\n",
        "user_vecs, item_vecs = model.user_factors, model.item_factors\n",
        "predictions = np.dot(user_vecs, item_vecs.T)"
      ],
      "metadata": {
        "id": "sdtHuyraca2t"
      },
      "execution_count": null,
      "outputs": []
    },
    {
      "cell_type": "code",
      "source": [
        "tf1.loc[(tf1['datafield6'] == 'NetworkCleartext') & (tf1['src.asset'] == '1640c896-e1c0-0001-0000-000000000023')]\n"
      ],
      "metadata": {
        "colab": {
          "base_uri": "https://localhost:8080/",
          "height": 679
        },
        "id": "QUesSSSDNGHn",
        "outputId": "0261ab13-03aa-46d6-9293-3b4a642c12fb"
      },
      "execution_count": null,
      "outputs": [
        {
          "output_type": "execute_result",
          "data": {
            "text/plain": [
              "        Unnamed: 0 object.storage.id object.storage.name        src.ip  \\\n",
              "993         159084                                        10.10.52.126   \n",
              "8544         20654                                                       \n",
              "8944         32234                                        10.10.52.126   \n",
              "10017        14585                                                       \n",
              "10480       138544                                        10.10.52.126   \n",
              "...            ...               ...                 ...           ...   \n",
              "574073       32759                                                       \n",
              "575813      111993                                        10.10.52.126   \n",
              "578652       17193                                                       \n",
              "579689        7384                                        10.10.52.126   \n",
              "580579       26596                                        10.10.52.126   \n",
              "\n",
              "                                    subject.account.id subject.account.domain  \\\n",
              "993     S-1-5-21-1023191730-727829927-3985050192-41995          ptsecurity.ru   \n",
              "8544    S-1-5-21-1023191730-727829927-3985050192-41474             ptsecurity   \n",
              "8944    S-1-5-21-1023191730-727829927-3985050192-26876          ptsecurity.ru   \n",
              "10017   S-1-5-21-1023191730-727829927-3985050192-45639             ptsecurity   \n",
              "10480   S-1-5-21-1023191730-727829927-3985050192-37188          ptsecurity.ru   \n",
              "...                                                ...                    ...   \n",
              "574073  S-1-5-21-1023191730-727829927-3985050192-41481             ptsecurity   \n",
              "575813   S-1-5-21-1023191730-727829927-3985050192-1130          ptsecurity.ru   \n",
              "578652  S-1-5-21-1023191730-727829927-3985050192-41516             ptsecurity   \n",
              "579689  S-1-5-21-1023191730-727829927-3985050192-40333          ptsecurity.ru   \n",
              "580579  S-1-5-21-1023191730-727829927-3985050192-41127          ptsecurity.ru   \n",
              "\n",
              "                   event_src.host                             src.asset  \\\n",
              "993     dc1-mail-05.ptsecurity.ru  1640c896-e1c0-0001-0000-000000000023   \n",
              "8544    dc1-mail-05.ptsecurity.ru  1640c896-e1c0-0001-0000-000000000023   \n",
              "8944    dc1-mail-05.ptsecurity.ru  1640c896-e1c0-0001-0000-000000000023   \n",
              "10017   dc1-mail-05.ptsecurity.ru  1640c896-e1c0-0001-0000-000000000023   \n",
              "10480   dc1-mail-05.ptsecurity.ru  1640c896-e1c0-0001-0000-000000000023   \n",
              "...                           ...                                   ...   \n",
              "574073  dc1-mail-05.ptsecurity.ru  1640c896-e1c0-0001-0000-000000000023   \n",
              "575813  dc1-mail-05.ptsecurity.ru  1640c896-e1c0-0001-0000-000000000023   \n",
              "578652  dc1-mail-05.ptsecurity.ru  1640c896-e1c0-0001-0000-000000000023   \n",
              "579689  dc1-mail-05.ptsecurity.ru  1640c896-e1c0-0001-0000-000000000023   \n",
              "580579  dc1-mail-05.ptsecurity.ru  1640c896-e1c0-0001-0000-000000000023   \n",
              "\n",
              "              datafield6                      time  \n",
              "993     NetworkCleartext 2022-03-16 05:24:12+00:00  \n",
              "8544    NetworkCleartext 2022-03-16 00:45:33+00:00  \n",
              "8944    NetworkCleartext 2022-03-16 01:31:26+00:00  \n",
              "10017   NetworkCleartext 2022-03-16 00:18:32+00:00  \n",
              "10480   NetworkCleartext 2022-03-16 05:17:39+00:00  \n",
              "...                  ...                       ...  \n",
              "574073  NetworkCleartext 2022-03-16 01:04:45+00:00  \n",
              "575813  NetworkCleartext 2022-03-16 04:00:30+00:00  \n",
              "578652  NetworkCleartext 2022-03-16 00:03:32+00:00  \n",
              "579689  NetworkCleartext 2022-03-16 00:08:19+00:00  \n",
              "580579  NetworkCleartext 2022-03-16 01:20:47+00:00  \n",
              "\n",
              "[237 rows x 10 columns]"
            ],
            "text/html": [
              "\n",
              "  <div id=\"df-a04ea516-c96e-4ff5-b442-9cb410d0b99c\">\n",
              "    <div class=\"colab-df-container\">\n",
              "      <div>\n",
              "<style scoped>\n",
              "    .dataframe tbody tr th:only-of-type {\n",
              "        vertical-align: middle;\n",
              "    }\n",
              "\n",
              "    .dataframe tbody tr th {\n",
              "        vertical-align: top;\n",
              "    }\n",
              "\n",
              "    .dataframe thead th {\n",
              "        text-align: right;\n",
              "    }\n",
              "</style>\n",
              "<table border=\"1\" class=\"dataframe\">\n",
              "  <thead>\n",
              "    <tr style=\"text-align: right;\">\n",
              "      <th></th>\n",
              "      <th>Unnamed: 0</th>\n",
              "      <th>object.storage.id</th>\n",
              "      <th>object.storage.name</th>\n",
              "      <th>src.ip</th>\n",
              "      <th>subject.account.id</th>\n",
              "      <th>subject.account.domain</th>\n",
              "      <th>event_src.host</th>\n",
              "      <th>src.asset</th>\n",
              "      <th>datafield6</th>\n",
              "      <th>time</th>\n",
              "    </tr>\n",
              "  </thead>\n",
              "  <tbody>\n",
              "    <tr>\n",
              "      <th>993</th>\n",
              "      <td>159084</td>\n",
              "      <td></td>\n",
              "      <td></td>\n",
              "      <td>10.10.52.126</td>\n",
              "      <td>S-1-5-21-1023191730-727829927-3985050192-41995</td>\n",
              "      <td>ptsecurity.ru</td>\n",
              "      <td>dc1-mail-05.ptsecurity.ru</td>\n",
              "      <td>1640c896-e1c0-0001-0000-000000000023</td>\n",
              "      <td>NetworkCleartext</td>\n",
              "      <td>2022-03-16 05:24:12+00:00</td>\n",
              "    </tr>\n",
              "    <tr>\n",
              "      <th>8544</th>\n",
              "      <td>20654</td>\n",
              "      <td></td>\n",
              "      <td></td>\n",
              "      <td></td>\n",
              "      <td>S-1-5-21-1023191730-727829927-3985050192-41474</td>\n",
              "      <td>ptsecurity</td>\n",
              "      <td>dc1-mail-05.ptsecurity.ru</td>\n",
              "      <td>1640c896-e1c0-0001-0000-000000000023</td>\n",
              "      <td>NetworkCleartext</td>\n",
              "      <td>2022-03-16 00:45:33+00:00</td>\n",
              "    </tr>\n",
              "    <tr>\n",
              "      <th>8944</th>\n",
              "      <td>32234</td>\n",
              "      <td></td>\n",
              "      <td></td>\n",
              "      <td>10.10.52.126</td>\n",
              "      <td>S-1-5-21-1023191730-727829927-3985050192-26876</td>\n",
              "      <td>ptsecurity.ru</td>\n",
              "      <td>dc1-mail-05.ptsecurity.ru</td>\n",
              "      <td>1640c896-e1c0-0001-0000-000000000023</td>\n",
              "      <td>NetworkCleartext</td>\n",
              "      <td>2022-03-16 01:31:26+00:00</td>\n",
              "    </tr>\n",
              "    <tr>\n",
              "      <th>10017</th>\n",
              "      <td>14585</td>\n",
              "      <td></td>\n",
              "      <td></td>\n",
              "      <td></td>\n",
              "      <td>S-1-5-21-1023191730-727829927-3985050192-45639</td>\n",
              "      <td>ptsecurity</td>\n",
              "      <td>dc1-mail-05.ptsecurity.ru</td>\n",
              "      <td>1640c896-e1c0-0001-0000-000000000023</td>\n",
              "      <td>NetworkCleartext</td>\n",
              "      <td>2022-03-16 00:18:32+00:00</td>\n",
              "    </tr>\n",
              "    <tr>\n",
              "      <th>10480</th>\n",
              "      <td>138544</td>\n",
              "      <td></td>\n",
              "      <td></td>\n",
              "      <td>10.10.52.126</td>\n",
              "      <td>S-1-5-21-1023191730-727829927-3985050192-37188</td>\n",
              "      <td>ptsecurity.ru</td>\n",
              "      <td>dc1-mail-05.ptsecurity.ru</td>\n",
              "      <td>1640c896-e1c0-0001-0000-000000000023</td>\n",
              "      <td>NetworkCleartext</td>\n",
              "      <td>2022-03-16 05:17:39+00:00</td>\n",
              "    </tr>\n",
              "    <tr>\n",
              "      <th>...</th>\n",
              "      <td>...</td>\n",
              "      <td>...</td>\n",
              "      <td>...</td>\n",
              "      <td>...</td>\n",
              "      <td>...</td>\n",
              "      <td>...</td>\n",
              "      <td>...</td>\n",
              "      <td>...</td>\n",
              "      <td>...</td>\n",
              "      <td>...</td>\n",
              "    </tr>\n",
              "    <tr>\n",
              "      <th>574073</th>\n",
              "      <td>32759</td>\n",
              "      <td></td>\n",
              "      <td></td>\n",
              "      <td></td>\n",
              "      <td>S-1-5-21-1023191730-727829927-3985050192-41481</td>\n",
              "      <td>ptsecurity</td>\n",
              "      <td>dc1-mail-05.ptsecurity.ru</td>\n",
              "      <td>1640c896-e1c0-0001-0000-000000000023</td>\n",
              "      <td>NetworkCleartext</td>\n",
              "      <td>2022-03-16 01:04:45+00:00</td>\n",
              "    </tr>\n",
              "    <tr>\n",
              "      <th>575813</th>\n",
              "      <td>111993</td>\n",
              "      <td></td>\n",
              "      <td></td>\n",
              "      <td>10.10.52.126</td>\n",
              "      <td>S-1-5-21-1023191730-727829927-3985050192-1130</td>\n",
              "      <td>ptsecurity.ru</td>\n",
              "      <td>dc1-mail-05.ptsecurity.ru</td>\n",
              "      <td>1640c896-e1c0-0001-0000-000000000023</td>\n",
              "      <td>NetworkCleartext</td>\n",
              "      <td>2022-03-16 04:00:30+00:00</td>\n",
              "    </tr>\n",
              "    <tr>\n",
              "      <th>578652</th>\n",
              "      <td>17193</td>\n",
              "      <td></td>\n",
              "      <td></td>\n",
              "      <td></td>\n",
              "      <td>S-1-5-21-1023191730-727829927-3985050192-41516</td>\n",
              "      <td>ptsecurity</td>\n",
              "      <td>dc1-mail-05.ptsecurity.ru</td>\n",
              "      <td>1640c896-e1c0-0001-0000-000000000023</td>\n",
              "      <td>NetworkCleartext</td>\n",
              "      <td>2022-03-16 00:03:32+00:00</td>\n",
              "    </tr>\n",
              "    <tr>\n",
              "      <th>579689</th>\n",
              "      <td>7384</td>\n",
              "      <td></td>\n",
              "      <td></td>\n",
              "      <td>10.10.52.126</td>\n",
              "      <td>S-1-5-21-1023191730-727829927-3985050192-40333</td>\n",
              "      <td>ptsecurity.ru</td>\n",
              "      <td>dc1-mail-05.ptsecurity.ru</td>\n",
              "      <td>1640c896-e1c0-0001-0000-000000000023</td>\n",
              "      <td>NetworkCleartext</td>\n",
              "      <td>2022-03-16 00:08:19+00:00</td>\n",
              "    </tr>\n",
              "    <tr>\n",
              "      <th>580579</th>\n",
              "      <td>26596</td>\n",
              "      <td></td>\n",
              "      <td></td>\n",
              "      <td>10.10.52.126</td>\n",
              "      <td>S-1-5-21-1023191730-727829927-3985050192-41127</td>\n",
              "      <td>ptsecurity.ru</td>\n",
              "      <td>dc1-mail-05.ptsecurity.ru</td>\n",
              "      <td>1640c896-e1c0-0001-0000-000000000023</td>\n",
              "      <td>NetworkCleartext</td>\n",
              "      <td>2022-03-16 01:20:47+00:00</td>\n",
              "    </tr>\n",
              "  </tbody>\n",
              "</table>\n",
              "<p>237 rows × 10 columns</p>\n",
              "</div>\n",
              "      <button class=\"colab-df-convert\" onclick=\"convertToInteractive('df-a04ea516-c96e-4ff5-b442-9cb410d0b99c')\"\n",
              "              title=\"Convert this dataframe to an interactive table.\"\n",
              "              style=\"display:none;\">\n",
              "        \n",
              "  <svg xmlns=\"http://www.w3.org/2000/svg\" height=\"24px\"viewBox=\"0 0 24 24\"\n",
              "       width=\"24px\">\n",
              "    <path d=\"M0 0h24v24H0V0z\" fill=\"none\"/>\n",
              "    <path d=\"M18.56 5.44l.94 2.06.94-2.06 2.06-.94-2.06-.94-.94-2.06-.94 2.06-2.06.94zm-11 1L8.5 8.5l.94-2.06 2.06-.94-2.06-.94L8.5 2.5l-.94 2.06-2.06.94zm10 10l.94 2.06.94-2.06 2.06-.94-2.06-.94-.94-2.06-.94 2.06-2.06.94z\"/><path d=\"M17.41 7.96l-1.37-1.37c-.4-.4-.92-.59-1.43-.59-.52 0-1.04.2-1.43.59L10.3 9.45l-7.72 7.72c-.78.78-.78 2.05 0 2.83L4 21.41c.39.39.9.59 1.41.59.51 0 1.02-.2 1.41-.59l7.78-7.78 2.81-2.81c.8-.78.8-2.07 0-2.86zM5.41 20L4 18.59l7.72-7.72 1.47 1.35L5.41 20z\"/>\n",
              "  </svg>\n",
              "      </button>\n",
              "      \n",
              "  <style>\n",
              "    .colab-df-container {\n",
              "      display:flex;\n",
              "      flex-wrap:wrap;\n",
              "      gap: 12px;\n",
              "    }\n",
              "\n",
              "    .colab-df-convert {\n",
              "      background-color: #E8F0FE;\n",
              "      border: none;\n",
              "      border-radius: 50%;\n",
              "      cursor: pointer;\n",
              "      display: none;\n",
              "      fill: #1967D2;\n",
              "      height: 32px;\n",
              "      padding: 0 0 0 0;\n",
              "      width: 32px;\n",
              "    }\n",
              "\n",
              "    .colab-df-convert:hover {\n",
              "      background-color: #E2EBFA;\n",
              "      box-shadow: 0px 1px 2px rgba(60, 64, 67, 0.3), 0px 1px 3px 1px rgba(60, 64, 67, 0.15);\n",
              "      fill: #174EA6;\n",
              "    }\n",
              "\n",
              "    [theme=dark] .colab-df-convert {\n",
              "      background-color: #3B4455;\n",
              "      fill: #D2E3FC;\n",
              "    }\n",
              "\n",
              "    [theme=dark] .colab-df-convert:hover {\n",
              "      background-color: #434B5C;\n",
              "      box-shadow: 0px 1px 3px 1px rgba(0, 0, 0, 0.15);\n",
              "      filter: drop-shadow(0px 1px 2px rgba(0, 0, 0, 0.3));\n",
              "      fill: #FFFFFF;\n",
              "    }\n",
              "  </style>\n",
              "\n",
              "      <script>\n",
              "        const buttonEl =\n",
              "          document.querySelector('#df-a04ea516-c96e-4ff5-b442-9cb410d0b99c button.colab-df-convert');\n",
              "        buttonEl.style.display =\n",
              "          google.colab.kernel.accessAllowed ? 'block' : 'none';\n",
              "\n",
              "        async function convertToInteractive(key) {\n",
              "          const element = document.querySelector('#df-a04ea516-c96e-4ff5-b442-9cb410d0b99c');\n",
              "          const dataTable =\n",
              "            await google.colab.kernel.invokeFunction('convertToInteractive',\n",
              "                                                     [key], {});\n",
              "          if (!dataTable) return;\n",
              "\n",
              "          const docLinkHtml = 'Like what you see? Visit the ' +\n",
              "            '<a target=\"_blank\" href=https://colab.research.google.com/notebooks/data_table.ipynb>data table notebook</a>'\n",
              "            + ' to learn more about interactive tables.';\n",
              "          element.innerHTML = '';\n",
              "          dataTable['output_type'] = 'display_data';\n",
              "          await google.colab.output.renderOutput(dataTable, element);\n",
              "          const docLink = document.createElement('div');\n",
              "          docLink.innerHTML = docLinkHtml;\n",
              "          element.appendChild(docLink);\n",
              "        }\n",
              "      </script>\n",
              "    </div>\n",
              "  </div>\n",
              "  "
            ]
          },
          "metadata": {},
          "execution_count": 189
        }
      ]
    },
    {
      "cell_type": "code",
      "source": [
        "predictions\n"
      ],
      "metadata": {
        "colab": {
          "base_uri": "https://localhost:8080/"
        },
        "id": "6ye_3KKWd2w8",
        "outputId": "6dde5b27-6364-46f8-882e-0cb24bab54e1"
      },
      "execution_count": null,
      "outputs": [
        {
          "output_type": "execute_result",
          "data": {
            "text/plain": [
              "array([[ 0.01046591,  0.00950283, -0.00949078, ..., -0.00796721,\n",
              "         0.01324301,  1.0232415 ],\n",
              "       [ 0.00978138,  0.00893983, -0.00705938, ..., -0.00646052,\n",
              "         0.01269086,  0.84020317],\n",
              "       [ 0.01033778,  0.00939588, -0.00907433, ..., -0.00770829,\n",
              "         0.01315325,  0.9916454 ],\n",
              "       ...,\n",
              "       [ 0.00825947,  0.00756401, -0.00560943, ..., -0.00535644,\n",
              "         0.01087169,  0.6870333 ],\n",
              "       [ 0.00457022,  0.00418758, -0.00309598, ..., -0.00294725,\n",
              "         0.00599649,  0.37736103],\n",
              "       [ 0.00282143,  0.00258682, -0.00187385, ..., -0.00180181,\n",
              "         0.00371231,  0.23036745]], dtype=float32)"
            ]
          },
          "metadata": {},
          "execution_count": 181
        }
      ]
    },
    {
      "cell_type": "code",
      "source": [
        "# Выбираем пользователей, для которых нужно вычислить AUC\n",
        "altered_users = [1, 100, 200]"
      ],
      "metadata": {
        "id": "b_jsLzX6d-cl"
      },
      "execution_count": null,
      "outputs": []
    },
    {
      "cell_type": "code",
      "source": [
        "for_rec_df=df\n",
        "vectorizer = OrdinalEncoder(handle_unknown='use_encoded_value', unknown_value=np.nan)\n",
        "encoded_df = pd.DataFrame(vectorizer.fit_transform(for_rec_df))\n",
        "encoded_df.columns = ['uid','iid']\n",
        "encoded_df.info()\n",
        "encoded_df['quantity'] = 1\n",
        "grouped_purchased = encoded_df.groupby(['uid','iid']).sum().reset_index()\n",
        "grouped_purchased"
      ],
      "metadata": {
        "colab": {
          "base_uri": "https://localhost:8080/",
          "height": 585
        },
        "id": "PjsSTIW0fcBs",
        "outputId": "32259e1a-dc51-4a56-e18a-9ebc80adf3ac"
      },
      "execution_count": null,
      "outputs": [
        {
          "output_type": "stream",
          "name": "stdout",
          "text": [
            "<class 'pandas.core.frame.DataFrame'>\n",
            "RangeIndex: 2323401 entries, 0 to 2323400\n",
            "Data columns (total 2 columns):\n",
            " #   Column  Dtype  \n",
            "---  ------  -----  \n",
            " 0   uid     float64\n",
            " 1   iid     float64\n",
            "dtypes: float64(2)\n",
            "memory usage: 35.5 MB\n"
          ]
        },
        {
          "output_type": "execute_result",
          "data": {
            "text/plain": [
              "         uid     iid  quantity\n",
              "0        0.0  1218.0      9038\n",
              "1        1.0  1218.0        16\n",
              "2        2.0  1218.0       107\n",
              "3        3.0  1218.0         1\n",
              "4        4.0   403.0         1\n",
              "...      ...     ...       ...\n",
              "5660  1491.0  1218.0         1\n",
              "5661  1492.0  1218.0         2\n",
              "5662  1493.0  1218.0         7\n",
              "5663  1494.0  1218.0         2\n",
              "5664  1495.0  1218.0         1\n",
              "\n",
              "[5665 rows x 3 columns]"
            ],
            "text/html": [
              "\n",
              "  <div id=\"df-1a64a352-a362-49f8-a208-4aa9c15bd5f7\">\n",
              "    <div class=\"colab-df-container\">\n",
              "      <div>\n",
              "<style scoped>\n",
              "    .dataframe tbody tr th:only-of-type {\n",
              "        vertical-align: middle;\n",
              "    }\n",
              "\n",
              "    .dataframe tbody tr th {\n",
              "        vertical-align: top;\n",
              "    }\n",
              "\n",
              "    .dataframe thead th {\n",
              "        text-align: right;\n",
              "    }\n",
              "</style>\n",
              "<table border=\"1\" class=\"dataframe\">\n",
              "  <thead>\n",
              "    <tr style=\"text-align: right;\">\n",
              "      <th></th>\n",
              "      <th>uid</th>\n",
              "      <th>iid</th>\n",
              "      <th>quantity</th>\n",
              "    </tr>\n",
              "  </thead>\n",
              "  <tbody>\n",
              "    <tr>\n",
              "      <th>0</th>\n",
              "      <td>0.0</td>\n",
              "      <td>1218.0</td>\n",
              "      <td>9038</td>\n",
              "    </tr>\n",
              "    <tr>\n",
              "      <th>1</th>\n",
              "      <td>1.0</td>\n",
              "      <td>1218.0</td>\n",
              "      <td>16</td>\n",
              "    </tr>\n",
              "    <tr>\n",
              "      <th>2</th>\n",
              "      <td>2.0</td>\n",
              "      <td>1218.0</td>\n",
              "      <td>107</td>\n",
              "    </tr>\n",
              "    <tr>\n",
              "      <th>3</th>\n",
              "      <td>3.0</td>\n",
              "      <td>1218.0</td>\n",
              "      <td>1</td>\n",
              "    </tr>\n",
              "    <tr>\n",
              "      <th>4</th>\n",
              "      <td>4.0</td>\n",
              "      <td>403.0</td>\n",
              "      <td>1</td>\n",
              "    </tr>\n",
              "    <tr>\n",
              "      <th>...</th>\n",
              "      <td>...</td>\n",
              "      <td>...</td>\n",
              "      <td>...</td>\n",
              "    </tr>\n",
              "    <tr>\n",
              "      <th>5660</th>\n",
              "      <td>1491.0</td>\n",
              "      <td>1218.0</td>\n",
              "      <td>1</td>\n",
              "    </tr>\n",
              "    <tr>\n",
              "      <th>5661</th>\n",
              "      <td>1492.0</td>\n",
              "      <td>1218.0</td>\n",
              "      <td>2</td>\n",
              "    </tr>\n",
              "    <tr>\n",
              "      <th>5662</th>\n",
              "      <td>1493.0</td>\n",
              "      <td>1218.0</td>\n",
              "      <td>7</td>\n",
              "    </tr>\n",
              "    <tr>\n",
              "      <th>5663</th>\n",
              "      <td>1494.0</td>\n",
              "      <td>1218.0</td>\n",
              "      <td>2</td>\n",
              "    </tr>\n",
              "    <tr>\n",
              "      <th>5664</th>\n",
              "      <td>1495.0</td>\n",
              "      <td>1218.0</td>\n",
              "      <td>1</td>\n",
              "    </tr>\n",
              "  </tbody>\n",
              "</table>\n",
              "<p>5665 rows × 3 columns</p>\n",
              "</div>\n",
              "      <button class=\"colab-df-convert\" onclick=\"convertToInteractive('df-1a64a352-a362-49f8-a208-4aa9c15bd5f7')\"\n",
              "              title=\"Convert this dataframe to an interactive table.\"\n",
              "              style=\"display:none;\">\n",
              "        \n",
              "  <svg xmlns=\"http://www.w3.org/2000/svg\" height=\"24px\"viewBox=\"0 0 24 24\"\n",
              "       width=\"24px\">\n",
              "    <path d=\"M0 0h24v24H0V0z\" fill=\"none\"/>\n",
              "    <path d=\"M18.56 5.44l.94 2.06.94-2.06 2.06-.94-2.06-.94-.94-2.06-.94 2.06-2.06.94zm-11 1L8.5 8.5l.94-2.06 2.06-.94-2.06-.94L8.5 2.5l-.94 2.06-2.06.94zm10 10l.94 2.06.94-2.06 2.06-.94-2.06-.94-.94-2.06-.94 2.06-2.06.94z\"/><path d=\"M17.41 7.96l-1.37-1.37c-.4-.4-.92-.59-1.43-.59-.52 0-1.04.2-1.43.59L10.3 9.45l-7.72 7.72c-.78.78-.78 2.05 0 2.83L4 21.41c.39.39.9.59 1.41.59.51 0 1.02-.2 1.41-.59l7.78-7.78 2.81-2.81c.8-.78.8-2.07 0-2.86zM5.41 20L4 18.59l7.72-7.72 1.47 1.35L5.41 20z\"/>\n",
              "  </svg>\n",
              "      </button>\n",
              "      \n",
              "  <style>\n",
              "    .colab-df-container {\n",
              "      display:flex;\n",
              "      flex-wrap:wrap;\n",
              "      gap: 12px;\n",
              "    }\n",
              "\n",
              "    .colab-df-convert {\n",
              "      background-color: #E8F0FE;\n",
              "      border: none;\n",
              "      border-radius: 50%;\n",
              "      cursor: pointer;\n",
              "      display: none;\n",
              "      fill: #1967D2;\n",
              "      height: 32px;\n",
              "      padding: 0 0 0 0;\n",
              "      width: 32px;\n",
              "    }\n",
              "\n",
              "    .colab-df-convert:hover {\n",
              "      background-color: #E2EBFA;\n",
              "      box-shadow: 0px 1px 2px rgba(60, 64, 67, 0.3), 0px 1px 3px 1px rgba(60, 64, 67, 0.15);\n",
              "      fill: #174EA6;\n",
              "    }\n",
              "\n",
              "    [theme=dark] .colab-df-convert {\n",
              "      background-color: #3B4455;\n",
              "      fill: #D2E3FC;\n",
              "    }\n",
              "\n",
              "    [theme=dark] .colab-df-convert:hover {\n",
              "      background-color: #434B5C;\n",
              "      box-shadow: 0px 1px 3px 1px rgba(0, 0, 0, 0.15);\n",
              "      filter: drop-shadow(0px 1px 2px rgba(0, 0, 0, 0.3));\n",
              "      fill: #FFFFFF;\n",
              "    }\n",
              "  </style>\n",
              "\n",
              "      <script>\n",
              "        const buttonEl =\n",
              "          document.querySelector('#df-1a64a352-a362-49f8-a208-4aa9c15bd5f7 button.colab-df-convert');\n",
              "        buttonEl.style.display =\n",
              "          google.colab.kernel.accessAllowed ? 'block' : 'none';\n",
              "\n",
              "        async function convertToInteractive(key) {\n",
              "          const element = document.querySelector('#df-1a64a352-a362-49f8-a208-4aa9c15bd5f7');\n",
              "          const dataTable =\n",
              "            await google.colab.kernel.invokeFunction('convertToInteractive',\n",
              "                                                     [key], {});\n",
              "          if (!dataTable) return;\n",
              "\n",
              "          const docLinkHtml = 'Like what you see? Visit the ' +\n",
              "            '<a target=\"_blank\" href=https://colab.research.google.com/notebooks/data_table.ipynb>data table notebook</a>'\n",
              "            + ' to learn more about interactive tables.';\n",
              "          element.innerHTML = '';\n",
              "          dataTable['output_type'] = 'display_data';\n",
              "          await google.colab.output.renderOutput(dataTable, element);\n",
              "          const docLink = document.createElement('div');\n",
              "          docLink.innerHTML = docLinkHtml;\n",
              "          element.appendChild(docLink);\n",
              "        }\n",
              "      </script>\n",
              "    </div>\n",
              "  </div>\n",
              "  "
            ]
          },
          "metadata": {},
          "execution_count": 183
        }
      ]
    },
    {
      "cell_type": "code",
      "source": [
        "2or_rec_tf=tf1\n",
        "vectorizer = OrdinalEncoder(handle_unknown='use_encoded_value', unknown_value=np.nan)\n",
        "encoded_tf = pd.DataFrame(vectorizer.fit_transform(for_rec_tf))\n",
        "encoded_tf.columns = ['uid','iid']\n",
        "encoded_tf.info()\n",
        "encoded_tf['quantity'] = 1\n",
        "grouped_tf = encoded_tf.groupby(['uid','iid']).sum().reset_index()\n",
        "grouped_tf"
      ],
      "metadata": {
        "colab": {
          "base_uri": "https://localhost:8080/",
          "height": 390
        },
        "id": "QzWP8reZfPU1",
        "outputId": "39df18e4-94d8-463f-d34a-db42f328c917"
      },
      "execution_count": null,
      "outputs": [
        {
          "output_type": "error",
          "ename": "ValueError",
          "evalue": "ignored",
          "traceback": [
            "\u001b[0;31m---------------------------------------------------------------------------\u001b[0m",
            "\u001b[0;31mValueError\u001b[0m                                Traceback (most recent call last)",
            "\u001b[0;32m<ipython-input-184-ec91a94bc07c>\u001b[0m in \u001b[0;36m<cell line: 4>\u001b[0;34m()\u001b[0m\n\u001b[1;32m      2\u001b[0m \u001b[0mvectorizer\u001b[0m \u001b[0;34m=\u001b[0m \u001b[0mOrdinalEncoder\u001b[0m\u001b[0;34m(\u001b[0m\u001b[0mhandle_unknown\u001b[0m\u001b[0;34m=\u001b[0m\u001b[0;34m'use_encoded_value'\u001b[0m\u001b[0;34m,\u001b[0m \u001b[0munknown_value\u001b[0m\u001b[0;34m=\u001b[0m\u001b[0mnp\u001b[0m\u001b[0;34m.\u001b[0m\u001b[0mnan\u001b[0m\u001b[0;34m)\u001b[0m\u001b[0;34m\u001b[0m\u001b[0;34m\u001b[0m\u001b[0m\n\u001b[1;32m      3\u001b[0m \u001b[0mencoded_tf\u001b[0m \u001b[0;34m=\u001b[0m \u001b[0mpd\u001b[0m\u001b[0;34m.\u001b[0m\u001b[0mDataFrame\u001b[0m\u001b[0;34m(\u001b[0m\u001b[0mvectorizer\u001b[0m\u001b[0;34m.\u001b[0m\u001b[0mfit_transform\u001b[0m\u001b[0;34m(\u001b[0m\u001b[0mfor_rec_tf\u001b[0m\u001b[0;34m)\u001b[0m\u001b[0;34m)\u001b[0m\u001b[0;34m\u001b[0m\u001b[0;34m\u001b[0m\u001b[0m\n\u001b[0;32m----> 4\u001b[0;31m \u001b[0mencoded_tf\u001b[0m\u001b[0;34m.\u001b[0m\u001b[0mcolumns\u001b[0m \u001b[0;34m=\u001b[0m \u001b[0;34m[\u001b[0m\u001b[0;34m'uid'\u001b[0m\u001b[0;34m,\u001b[0m\u001b[0;34m'iid'\u001b[0m\u001b[0;34m]\u001b[0m\u001b[0;34m\u001b[0m\u001b[0;34m\u001b[0m\u001b[0m\n\u001b[0m\u001b[1;32m      5\u001b[0m \u001b[0mencoded_tf\u001b[0m\u001b[0;34m.\u001b[0m\u001b[0minfo\u001b[0m\u001b[0;34m(\u001b[0m\u001b[0;34m)\u001b[0m\u001b[0;34m\u001b[0m\u001b[0;34m\u001b[0m\u001b[0m\n\u001b[1;32m      6\u001b[0m \u001b[0mencoded_tf\u001b[0m\u001b[0;34m[\u001b[0m\u001b[0;34m'quantity'\u001b[0m\u001b[0;34m]\u001b[0m \u001b[0;34m=\u001b[0m \u001b[0;36m1\u001b[0m\u001b[0;34m\u001b[0m\u001b[0;34m\u001b[0m\u001b[0m\n",
            "\u001b[0;32m/usr/local/lib/python3.10/dist-packages/pandas/core/generic.py\u001b[0m in \u001b[0;36m__setattr__\u001b[0;34m(self, name, value)\u001b[0m\n\u001b[1;32m   5913\u001b[0m         \u001b[0;32mtry\u001b[0m\u001b[0;34m:\u001b[0m\u001b[0;34m\u001b[0m\u001b[0;34m\u001b[0m\u001b[0m\n\u001b[1;32m   5914\u001b[0m             \u001b[0mobject\u001b[0m\u001b[0;34m.\u001b[0m\u001b[0m__getattribute__\u001b[0m\u001b[0;34m(\u001b[0m\u001b[0mself\u001b[0m\u001b[0;34m,\u001b[0m \u001b[0mname\u001b[0m\u001b[0;34m)\u001b[0m\u001b[0;34m\u001b[0m\u001b[0;34m\u001b[0m\u001b[0m\n\u001b[0;32m-> 5915\u001b[0;31m             \u001b[0;32mreturn\u001b[0m \u001b[0mobject\u001b[0m\u001b[0;34m.\u001b[0m\u001b[0m__setattr__\u001b[0m\u001b[0;34m(\u001b[0m\u001b[0mself\u001b[0m\u001b[0;34m,\u001b[0m \u001b[0mname\u001b[0m\u001b[0;34m,\u001b[0m \u001b[0mvalue\u001b[0m\u001b[0;34m)\u001b[0m\u001b[0;34m\u001b[0m\u001b[0;34m\u001b[0m\u001b[0m\n\u001b[0m\u001b[1;32m   5916\u001b[0m         \u001b[0;32mexcept\u001b[0m \u001b[0mAttributeError\u001b[0m\u001b[0;34m:\u001b[0m\u001b[0;34m\u001b[0m\u001b[0;34m\u001b[0m\u001b[0m\n\u001b[1;32m   5917\u001b[0m             \u001b[0;32mpass\u001b[0m\u001b[0;34m\u001b[0m\u001b[0;34m\u001b[0m\u001b[0m\n",
            "\u001b[0;32m/usr/local/lib/python3.10/dist-packages/pandas/_libs/properties.pyx\u001b[0m in \u001b[0;36mpandas._libs.properties.AxisProperty.__set__\u001b[0;34m()\u001b[0m\n",
            "\u001b[0;32m/usr/local/lib/python3.10/dist-packages/pandas/core/generic.py\u001b[0m in \u001b[0;36m_set_axis\u001b[0;34m(self, axis, labels)\u001b[0m\n\u001b[1;32m    821\u001b[0m     \u001b[0;32mdef\u001b[0m \u001b[0m_set_axis\u001b[0m\u001b[0;34m(\u001b[0m\u001b[0mself\u001b[0m\u001b[0;34m,\u001b[0m \u001b[0maxis\u001b[0m\u001b[0;34m:\u001b[0m \u001b[0mint\u001b[0m\u001b[0;34m,\u001b[0m \u001b[0mlabels\u001b[0m\u001b[0;34m:\u001b[0m \u001b[0mAnyArrayLike\u001b[0m \u001b[0;34m|\u001b[0m \u001b[0mlist\u001b[0m\u001b[0;34m)\u001b[0m \u001b[0;34m->\u001b[0m \u001b[0;32mNone\u001b[0m\u001b[0;34m:\u001b[0m\u001b[0;34m\u001b[0m\u001b[0;34m\u001b[0m\u001b[0m\n\u001b[1;32m    822\u001b[0m         \u001b[0mlabels\u001b[0m \u001b[0;34m=\u001b[0m \u001b[0mensure_index\u001b[0m\u001b[0;34m(\u001b[0m\u001b[0mlabels\u001b[0m\u001b[0;34m)\u001b[0m\u001b[0;34m\u001b[0m\u001b[0;34m\u001b[0m\u001b[0m\n\u001b[0;32m--> 823\u001b[0;31m         \u001b[0mself\u001b[0m\u001b[0;34m.\u001b[0m\u001b[0m_mgr\u001b[0m\u001b[0;34m.\u001b[0m\u001b[0mset_axis\u001b[0m\u001b[0;34m(\u001b[0m\u001b[0maxis\u001b[0m\u001b[0;34m,\u001b[0m \u001b[0mlabels\u001b[0m\u001b[0;34m)\u001b[0m\u001b[0;34m\u001b[0m\u001b[0;34m\u001b[0m\u001b[0m\n\u001b[0m\u001b[1;32m    824\u001b[0m         \u001b[0mself\u001b[0m\u001b[0;34m.\u001b[0m\u001b[0m_clear_item_cache\u001b[0m\u001b[0;34m(\u001b[0m\u001b[0;34m)\u001b[0m\u001b[0;34m\u001b[0m\u001b[0;34m\u001b[0m\u001b[0m\n\u001b[1;32m    825\u001b[0m \u001b[0;34m\u001b[0m\u001b[0m\n",
            "\u001b[0;32m/usr/local/lib/python3.10/dist-packages/pandas/core/internals/managers.py\u001b[0m in \u001b[0;36mset_axis\u001b[0;34m(self, axis, new_labels)\u001b[0m\n\u001b[1;32m    228\u001b[0m     \u001b[0;32mdef\u001b[0m \u001b[0mset_axis\u001b[0m\u001b[0;34m(\u001b[0m\u001b[0mself\u001b[0m\u001b[0;34m,\u001b[0m \u001b[0maxis\u001b[0m\u001b[0;34m:\u001b[0m \u001b[0mint\u001b[0m\u001b[0;34m,\u001b[0m \u001b[0mnew_labels\u001b[0m\u001b[0;34m:\u001b[0m \u001b[0mIndex\u001b[0m\u001b[0;34m)\u001b[0m \u001b[0;34m->\u001b[0m \u001b[0;32mNone\u001b[0m\u001b[0;34m:\u001b[0m\u001b[0;34m\u001b[0m\u001b[0;34m\u001b[0m\u001b[0m\n\u001b[1;32m    229\u001b[0m         \u001b[0;31m# Caller is responsible for ensuring we have an Index object.\u001b[0m\u001b[0;34m\u001b[0m\u001b[0;34m\u001b[0m\u001b[0m\n\u001b[0;32m--> 230\u001b[0;31m         \u001b[0mself\u001b[0m\u001b[0;34m.\u001b[0m\u001b[0m_validate_set_axis\u001b[0m\u001b[0;34m(\u001b[0m\u001b[0maxis\u001b[0m\u001b[0;34m,\u001b[0m \u001b[0mnew_labels\u001b[0m\u001b[0;34m)\u001b[0m\u001b[0;34m\u001b[0m\u001b[0;34m\u001b[0m\u001b[0m\n\u001b[0m\u001b[1;32m    231\u001b[0m         \u001b[0mself\u001b[0m\u001b[0;34m.\u001b[0m\u001b[0maxes\u001b[0m\u001b[0;34m[\u001b[0m\u001b[0maxis\u001b[0m\u001b[0;34m]\u001b[0m \u001b[0;34m=\u001b[0m \u001b[0mnew_labels\u001b[0m\u001b[0;34m\u001b[0m\u001b[0;34m\u001b[0m\u001b[0m\n\u001b[1;32m    232\u001b[0m \u001b[0;34m\u001b[0m\u001b[0m\n",
            "\u001b[0;32m/usr/local/lib/python3.10/dist-packages/pandas/core/internals/base.py\u001b[0m in \u001b[0;36m_validate_set_axis\u001b[0;34m(self, axis, new_labels)\u001b[0m\n\u001b[1;32m     68\u001b[0m \u001b[0;34m\u001b[0m\u001b[0m\n\u001b[1;32m     69\u001b[0m         \u001b[0;32melif\u001b[0m \u001b[0mnew_len\u001b[0m \u001b[0;34m!=\u001b[0m \u001b[0mold_len\u001b[0m\u001b[0;34m:\u001b[0m\u001b[0;34m\u001b[0m\u001b[0;34m\u001b[0m\u001b[0m\n\u001b[0;32m---> 70\u001b[0;31m             raise ValueError(\n\u001b[0m\u001b[1;32m     71\u001b[0m                 \u001b[0;34mf\"Length mismatch: Expected axis has {old_len} elements, new \"\u001b[0m\u001b[0;34m\u001b[0m\u001b[0;34m\u001b[0m\u001b[0m\n\u001b[1;32m     72\u001b[0m                 \u001b[0;34mf\"values have {new_len} elements\"\u001b[0m\u001b[0;34m\u001b[0m\u001b[0;34m\u001b[0m\u001b[0m\n",
            "\u001b[0;31mValueError\u001b[0m: Length mismatch: Expected axis has 3 elements, new values have 2 elements"
          ]
        }
      ]
    },
    {
      "cell_type": "code",
      "source": [
        "customers = list(np.sort(grouped_tf.uid.unique())) # Get our unique customers\n",
        "products = list(grouped_tf.iid.unique()) # Get our unique products that were purchased\n",
        "quantity = list(grouped_tf.quantity) # All of our purchases\n",
        "\n",
        "rows = grouped_tf.uid.astype('category').cat.codes\n",
        "# Get the associated row indices\n",
        "cols = grouped_tf.iid.astype('category').cat.codes\n",
        "# Get the associated column indices\n",
        "test_sparse = sparse.csr_matrix((quantity, (rows,cols)), shape=( len(customers),len(products)))"
      ],
      "metadata": {
        "id": "XeHeIS5nfHof"
      },
      "execution_count": null,
      "outputs": []
    },
    {
      "cell_type": "code",
      "source": [
        "test_sparse.toarray()\n"
      ],
      "metadata": {
        "id": "Xjw3KAtppeQo"
      },
      "execution_count": null,
      "outputs": []
    },
    {
      "cell_type": "code",
      "source": [
        "def calc_mean_auc(training_set, altered_users, predictions, test_set):\n",
        "\n",
        "\n",
        "    store_auc = [] # An empty list to store the AUC for each user that had an item removed from the training set\n",
        "    popularity_auc = [] # To store popular AUC scores\n",
        "    pop_items = np.array(test_set.sum(axis = 1)).reshape(-1) # Get sum of item iteractions to find most popular\n",
        "    item_vecs = predictions[1]\n",
        "    for user in altered_users: # Итерация по каждому пользователю, у которого был изменен элемент\n",
        "        training_row = training_set[:,user].toarray().reshape(-1) # Получить строку тренировочного набора\n",
        "        zero_inds = np.where(training_row == 0)\n",
        "        # Получить предсказанные значения на основе наших векторов пользователя/элемента\n",
        "        user_vec = predictions[0][:].reshape(1, -1)\n",
        "        #user_vec = np.array(user_vec, ndmin=2)\n",
        "        pred = user_vec.dot(item_vecs).toarray()[0,zero_inds].reshape(-1)\n",
        "        #pred = user_vec.reshape(1, -1).dot(item_vecs)[0, zero_inds].reshape(-1)\n",
        "        # Получить только те элементы, которые изначально были нулевыми\n",
        "         # Выберите все рейтинги из прогноза MF для этого пользователя, которые изначально не имели итерации\n",
        "        actual = test_set[:,user].toarray()[zero_inds].reshape(-1)\n",
        "        # Выберите бинаризованные пары взаимодействия да/нет из исходных полных данных\n",
        "         # которые совпадают с теми же парами в обучении\n",
        "        pop = pop_items[zero_inds] # Get the item popularity for our chosen items\n",
        "        store_auc.append(auc_score(pred, actual)) # Calculate AUC for the given user and store\n",
        "        popularity_auc.append(auc_score(pop, actual)) # Calculate AUC using most popular and score\n",
        "    # End users iteration\n",
        "\n",
        "    return float('%.3f'%np.mean(store_auc)), float('%.3f'%np.mean(popularity_auc))\n",
        "   # Return the mean AUC rounded to three decimal places for both test and popularity benchmark"
      ],
      "metadata": {
        "id": "URkQjAiKi0Tq"
      },
      "execution_count": null,
      "outputs": []
    },
    {
      "cell_type": "code",
      "source": [
        "zero_inds = np.where(training_row == 0)\n",
        "zero_inds = zero_inds[0].astype(np.int64)\n",
        "zero_inds"
      ],
      "metadata": {
        "id": "SG4FtaCkOQV-"
      },
      "execution_count": null,
      "outputs": []
    },
    {
      "cell_type": "code",
      "source": [],
      "metadata": {
        "id": "p0tBDsO7qZ-0"
      },
      "execution_count": null,
      "outputs": []
    },
    {
      "cell_type": "code",
      "source": [
        "user_vec = predictions[1][:]\n",
        "user_vec"
      ],
      "metadata": {
        "id": "KLLL9bbPPtNd"
      },
      "execution_count": null,
      "outputs": []
    },
    {
      "cell_type": "code",
      "source": [
        "# Вычисляем AUC для выбранных пользователей\n",
        "mean_auc= calc_mean_auc(apps_runs_sparse, altered_users, predictions, test_sparse)"
      ],
      "metadata": {
        "id": "U1bfrb51d_-L"
      },
      "execution_count": null,
      "outputs": []
    },
    {
      "cell_type": "code",
      "source": [
        "predictions[1][3]"
      ],
      "metadata": {
        "id": "relngbmzMWWz"
      },
      "execution_count": null,
      "outputs": []
    },
    {
      "cell_type": "code",
      "source": [
        "user_vecs.shape"
      ],
      "metadata": {
        "id": "VyJT6__VH9hE"
      },
      "execution_count": null,
      "outputs": []
    },
    {
      "cell_type": "code",
      "source": [
        "apps_runs_sparse.toarray()"
      ],
      "metadata": {
        "id": "4cQ5DyY8IreU"
      },
      "execution_count": null,
      "outputs": []
    },
    {
      "cell_type": "code",
      "source": [
        "predictions"
      ],
      "metadata": {
        "id": "-jtl_5K7IyPg"
      },
      "execution_count": null,
      "outputs": []
    },
    {
      "cell_type": "code",
      "source": [
        "test_sparse.shape"
      ],
      "metadata": {
        "id": "dwtk8uWBI48E"
      },
      "execution_count": null,
      "outputs": []
    },
    {
      "cell_type": "code",
      "source": [
        "def auc_score(predictions, test):\n",
        "\n",
        "    fpr, tpr, thresholds = metrics.roc_curve(test, predictions)\n",
        "    return metrics.auc(fpr, tpr)"
      ],
      "metadata": {
        "id": "2wwfRwd4gws3"
      },
      "execution_count": null,
      "outputs": []
    },
    {
      "cell_type": "code",
      "source": [
        "from sklearn.metrics import roc_auc_score, roc_curve\n",
        "import matplotlib.pyplot as plt\n",
        "\n",
        "def calc_auc(test_set, predictions):\n",
        "    sim_mat = apps_runs_sparse.T.dot(predictions)\n",
        "    auc_scores = []\n",
        "    for i in range(sim_mat.shape[1]):\n",
        "        true_scores = []\n",
        "        predicted_scores = []\n",
        "        for j in range(sim_mat.shape[0]):\n",
        "            if apps_runs_sparse[j, i] > 0:\n",
        "                true_scores.append(1)\n",
        "            else:\n",
        "                true_scores.append(0)\n",
        "            predicted_scores.append(sim_mat[j, i])\n",
        "        fpr, tpr, _ = roc_curve(true_scores, predicted_scores)\n",
        "        print(fpr, tpr)\n",
        "        auc_score = roc_auc_score(true_scores, predicted_scores)\n",
        "        auc_scores.append(auc_score)\n",
        "        plt.plot(fpr, tpr, label='Item %d (AUC = %0.2f)' % (i, auc_score))\n",
        "    plt.xlabel('False Positive Rate')\n",
        "    plt.ylabel('True Positive Rate')\n",
        "    plt.legend(loc=\"lower right\")\n",
        "    plt.title('ROC Curve')\n",
        "    plt.show()\n",
        "    mean_auc = sum(auc_scores) / float(len(auc_scores))\n",
        "    return mean_auc"
      ],
      "metadata": {
        "id": "GUlYOMKQeEXQ"
      },
      "execution_count": null,
      "outputs": []
    },
    {
      "cell_type": "code",
      "source": [
        "calc_auc(apps_runs_sparse, predictions)"
      ],
      "metadata": {
        "id": "-nZSFS1xeTIZ"
      },
      "execution_count": null,
      "outputs": []
    },
    {
      "cell_type": "code",
      "source": [
        "\n",
        "# Вычисляем метрику AUC для тестовой выборки и набора предсказаний\n",
        "from sklearn.metrics import roc_auc_score\n",
        "auc_score = roc_auc_score(apps_runs_sparse.toarray(), predictions)\n",
        "\n",
        "# Выводим результат расчета метрики AUC\n",
        "print(\"AUC score:\", auc_score)"
      ],
      "metadata": {
        "id": "stvwOHcGkAPP"
      },
      "execution_count": null,
      "outputs": []
    },
    {
      "cell_type": "code",
      "source": [
        "from implicit.evaluation import precision_at_k"
      ],
      "metadata": {
        "id": "_SYZ81oQPbRg"
      },
      "execution_count": null,
      "outputs": []
    },
    {
      "cell_type": "code",
      "source": [
        "k = 10 # число рекомендаций\n",
        "precision = precision_at_k(model, tf, k=k)\n"
      ],
      "metadata": {
        "id": "AkmvzB1LQi_l"
      },
      "execution_count": null,
      "outputs": []
    },
    {
      "cell_type": "markdown",
      "source": [
        "# новый"
      ],
      "metadata": {
        "id": "ykZgJBemHh4E"
      }
    },
    {
      "cell_type": "code",
      "source": [
        "from sklearn.decomposition import PCA"
      ],
      "metadata": {
        "id": "3SsgAkhgHgK3"
      },
      "execution_count": null,
      "outputs": []
    },
    {
      "cell_type": "code",
      "source": [
        "tf"
      ],
      "metadata": {
        "id": "-CeBpJWBIUjU"
      },
      "execution_count": null,
      "outputs": []
    },
    {
      "cell_type": "code",
      "source": [
        "pca = PCA(n_components=2)\n",
        "pca.fit(tf)\n",
        "transformed_data = pca.transform(tf)"
      ],
      "metadata": {
        "id": "ffIiht2IHndm"
      },
      "execution_count": null,
      "outputs": []
    }
  ]
}